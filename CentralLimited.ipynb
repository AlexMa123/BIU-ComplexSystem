{
  "cells": [
    {
      "cell_type": "markdown",
      "metadata": {
        "id": "view-in-github",
        "colab_type": "text"
      },
      "source": [
        "<a href=\"https://colab.research.google.com/github/AlexMa123/BIU-ComplexSystem/blob/main/CentralLimited.ipynb\" target=\"_parent\"><img src=\"https://colab.research.google.com/assets/colab-badge.svg\" alt=\"Open In Colab\"/></a>"
      ]
    },
    {
      "cell_type": "code",
      "execution_count": 1,
      "id": "b42027b5",
      "metadata": {
        "id": "b42027b5"
      },
      "outputs": [],
      "source": [
        "import numpy as np\n",
        "import matplotlib.pyplot as plt\n",
        "from scipy import stats"
      ]
    },
    {
      "cell_type": "code",
      "execution_count": 2,
      "id": "4e1fbae4",
      "metadata": {
        "id": "4e1fbae4"
      },
      "outputs": [],
      "source": [
        "dists = {\n",
        "    \"norm\": lambda size: stats.norm(0, 1).rvs(size),\n",
        "    \"uniform\": lambda size: stats.uniform(loc=-0.5).rvs(size),\n",
        "    \"delta\": lambda size: np.random.choice([-1, 1], size=size),\n",
        "    \"exp\": lambda size: stats.expon().rvs(size),\n",
        "    \"cauchy\": lambda size: stats.cauchy().rvs(size), # Can't be fitted by a normal distribution\n",
        "    \"parto\": lambda alpha, size: stats.pareto(alpha).rvs(size),\n",
        "}\n"
      ]
    },
    {
      "cell_type": "code",
      "execution_count": 5,
      "id": "ad41028a",
      "metadata": {
        "colab": {
          "base_uri": "https://localhost:8080/",
          "height": 265
        },
        "id": "ad41028a",
        "outputId": "1b2c4d79-39fb-4c87-9247-3711189dd585"
      },
      "outputs": [
        {
          "output_type": "display_data",
          "data": {
            "text/plain": [
              "<Figure size 432x288 with 1 Axes>"
            ],
            "image/png": "[encoded data removed]"
          },
          "metadata": {
            "needs_background": "light"
          }
        }
      ],
      "source": [
        "steps = 1\n",
        "N = 10000\n",
        "\n",
        "# Random number generator\n",
        "rvs = dists[\"exp\"](steps * N)\n",
        "rvs = rvs.reshape(steps, N)\n",
        "rvs = np.sum(rvs, axis=0)\n",
        "\n",
        "bins = np.linspace(np.percentile(rvs, 0.5), np.percentile(rvs, 99.5), 20)\n",
        "plt.hist(rvs, bins=bins, density=True, label=f\"sum of {steps} rvs\")\n",
        "# Fit the distribution and plot\n",
        "fitted_par = stats.norm.fit(rvs)\n",
        "x = np.linspace(np.percentile(rvs, 0.5) - 1, np.percentile(rvs, 99.5) + 1, 100)\n",
        "plt.plot(x, stats.norm(*fitted_par).pdf(x), label=\"fitted norm curve\")\n",
        "plt.legend()\n",
        "plt.show()"
      ]
    },
    {
      "cell_type": "markdown",
      "id": "7e285236",
      "metadata": {
        "id": "7e285236"
      },
      "source": [
        "# Generalized Central Limit Theorem"
      ]
    },
    {
      "cell_type": "code",
      "execution_count": 12,
      "id": "dd5a154a",
      "metadata": {
        "colab": {
          "base_uri": "https://localhost:8080/",
          "height": 269
        },
        "id": "dd5a154a",
        "outputId": "89473b23-4d10-4762-a679-22d55896b144"
      },
      "outputs": [
        {
          "output_type": "display_data",
          "data": {
            "text/plain": [
              "<Figure size 432x288 with 1 Axes>"
            ],
            "image/png": "[encoded data removed]"
          },
          "metadata": {
            "needs_background": "light"
          }
        }
      ],
      "source": [
        "steps = 100\n",
        "N = 10000\n",
        "alpha = 0.6\n",
        "\n",
        "rvs = dists[\"parto\"](alpha, steps * N)\n",
        "rvs = rvs.reshape(steps, N)\n",
        "rvs = np.sum(rvs, axis=0)\n",
        "\n",
        "bins = np.logspace(np.log10(np.percentile(np.abs(rvs), 2.5)),\n",
        "                   np.log10(np.percentile(np.abs(rvs), 100)), 20)\n",
        "\n",
        "plt.hist(np.abs(rvs), bins=bins, density=True)\n",
        "plt.plot(bins, 100 / (bins ** (1 + alpha)), label=r\"$\\alpha$ = {0}\".format(alpha))\n",
        "plt.legend()\n",
        "plt.xscale('log')\n",
        "plt.yscale('log')"
      ]
    },
    {
      "cell_type": "code",
      "execution_count": null,
      "id": "583297ba",
      "metadata": {
        "id": "583297ba"
      },
      "outputs": [],
      "source": []
    }
  ],
  "metadata": {
    "kernelspec": {
      "display_name": "Python 3 (ipykernel)",
      "language": "python",
      "name": "python3"
    },
    "language_info": {
      "codemirror_mode": {
        "name": "ipython",
        "version": 3
      },
      "file_extension": ".py",
      "mimetype": "text/x-python",
      "name": "python",
      "nbconvert_exporter": "python",
      "pygments_lexer": "ipython3",
      "version": "3.8.5"
    },
    "colab": {
      "provenance": [],
      "include_colab_link": true
    }
  },
  "nbformat": 4,
  "nbformat_minor": 5
}