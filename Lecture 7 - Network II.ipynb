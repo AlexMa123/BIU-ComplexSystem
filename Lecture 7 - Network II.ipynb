{
  "cells": [
    {
      "cell_type": "markdown",
      "metadata": {
        "id": "view-in-github",
        "colab_type": "text"
      },
      "source": [
        "<a href=\"https://colab.research.google.com/github/AlexMa123/BIU-ComplexSystem/blob/main/Lecture%207%20-%20Network%20II.ipynb\" target=\"_parent\"><img src=\"https://colab.research.google.com/assets/colab-badge.svg\" alt=\"Open In Colab\"/></a>"
      ]
    },
    {
      "cell_type": "markdown",
      "id": "548b73e2",
      "metadata": {
        "id": "548b73e2"
      },
      "source": [
        "# Network II - Robustness"
      ]
    },
    {
      "cell_type": "markdown",
      "id": "c6ce1afc",
      "metadata": {
        "id": "c6ce1afc"
      },
      "source": [
        "**Robustness**, the ability to withstand failures and perturbations, is a critical attribute of many complex systems including complex networks.\n",
        "\n",
        "The study of robustness in complex networks is important for many fields. In ecology, robustness is an important attribute of ecosystems, and can give insight into the reaction to disturbances such as the extinction of species. For biologists, network robustness can help the study of diseases and mutations, and how to recover from some mutations. In economics, network robustness principles can help understanding of the stability and risks of banking systems. And in engineering, network robustness can help to evaluate the resilience of infrastructure networks such as the Internet or power grids."
      ]
    },
    {
      "cell_type": "markdown",
      "id": "5008a9b1",
      "metadata": {
        "id": "5008a9b1"
      },
      "source": [
        "## From percolation theory to Robustness\n",
        "\n",
        "![Nodes remove](http://networksciencebook.com/images/ch-08/figure-8-3.jpg)\n",
        "\n",
        "The removal of a single node has only limited impact on a network’s integrity. The removal of several nodes, however, can break a network into several isolated components. Obviously, the more nodes we remove, the higher are the chances that we damage a network, prompting us to ask: How many nodes do we have to delete to fragment a network into isolated components? The removement of nodes or links is known as inverse percolation\n",
        "\n",
        "![history](http://networksciencebook.com/images/ch-08/figure-8-27.jpg)"
      ]
    },
    {
      "cell_type": "markdown",
      "id": "f25c6bcd",
      "metadata": {
        "id": "f25c6bcd"
      },
      "source": [
        "We discussed site percolation several weeks ago, we use the probability $p_{\\infty}$ as an order parameter. In the network theory, instead of an infinity cluster, we focus on the object so called the \"giant component\". A giant component is a connected component of a network that contains a significant proportion of the entire nodes in the network.\n",
        "\n",
        "## Molloy-Reed Criterion\n",
        "The mathematical derivation for the threshold at which a complex network will lose its giant component is based on the Molloy–Reed criterion.\n",
        "\n",
        "$$\\kappa = \\frac{\\left< k^2 \\right>}{\\left< k \\right>} > 2 $$\n",
        "\n",
        "This criterion is based on the fact that for a giant component to exist each node that belongs to it must be connected to at least two other nodes on average. (This criteria was first derived by Molloy and Reed in 1995, then independently derived by Reuven Cohen, Shlomo Havlin in 2000)"
      ]
    },
    {
      "cell_type": "code",
      "source": [
        "!pip install igraph\n",
        "!apt install libcairo2-dev\n",
        "!pip install pycairo"
      ],
      "metadata": {
        "id": "ueJu2ueXYbK5",
        "outputId": "44943053-8d9f-4b62-ee13-b68e73dd5643",
        "colab": {
          "base_uri": "https://localhost:8080/"
        }
      },
      "id": "ueJu2ueXYbK5",
      "execution_count": 18,
      "outputs": [
        {
          "output_type": "stream",
          "name": "stdout",
          "text": [
            "Looking in indexes: https://pypi.org/simple, https://us-python.pkg.dev/colab-wheels/public/simple/\n",
            "Requirement already satisfied: igraph in /usr/local/lib/python3.8/dist-packages (0.10.3)\n",
            "Requirement already satisfied: texttable>=1.6.2 in /usr/local/lib/python3.8/dist-packages (from igraph) (1.6.7)\n",
            "Reading package lists... Done\n",
            "Building dependency tree       \n",
            "Reading state information... Done\n",
            "The following additional packages will be installed:\n",
            "  libblkid-dev libcairo-script-interpreter2 libffi-dev libglib2.0-dev\n",
            "  libglib2.0-dev-bin liblzo2-2 libmount-dev libpixman-1-dev libselinux1-dev\n",
            "  libsepol1-dev libxcb-render0-dev libxcb-shm0-dev\n",
            "Suggested packages:\n",
            "  libcairo2-doc libgirepository1.0-dev libglib2.0-doc libgdk-pixbuf2.0-bin\n",
            "  | libgdk-pixbuf2.0-dev libxml2-utils\n",
            "The following NEW packages will be installed:\n",
            "  libblkid-dev libcairo-script-interpreter2 libcairo2-dev libffi-dev\n",
            "  libglib2.0-dev libglib2.0-dev-bin liblzo2-2 libmount-dev libpixman-1-dev\n",
            "  libselinux1-dev libsepol1-dev libxcb-render0-dev libxcb-shm0-dev\n",
            "0 upgraded, 13 newly installed, 0 to remove and 23 not upgraded.\n",
            "Need to get 3,492 kB of archives.\n",
            "After this operation, 20.0 MB of additional disk space will be used.\n",
            "Get:1 http://archive.ubuntu.com/ubuntu focal/main amd64 liblzo2-2 amd64 2.10-2 [50.8 kB]\n",
            "Get:2 http://archive.ubuntu.com/ubuntu focal/main amd64 libcairo-script-interpreter2 amd64 1.16.0-4ubuntu1 [54.2 kB]\n",
            "Get:3 http://archive.ubuntu.com/ubuntu focal-updates/main amd64 libpixman-1-dev amd64 0.38.4-0ubuntu2.1 [243 kB]\n",
            "Get:4 http://archive.ubuntu.com/ubuntu focal/main amd64 libxcb-render0-dev amd64 1.14-2 [18.4 kB]\n",
            "Get:5 http://archive.ubuntu.com/ubuntu focal/main amd64 libxcb-shm0-dev amd64 1.14-2 [6,716 B]\n",
            "Get:6 http://archive.ubuntu.com/ubuntu focal/main amd64 libffi-dev amd64 3.3-4 [57.0 kB]\n",
            "Get:7 http://archive.ubuntu.com/ubuntu focal-updates/main amd64 libglib2.0-dev-bin amd64 2.64.6-1~ubuntu20.04.4 [109 kB]\n",
            "Get:8 http://archive.ubuntu.com/ubuntu focal-updates/main amd64 libblkid-dev amd64 2.34-0.1ubuntu9.3 [167 kB]\n",
            "Get:9 http://archive.ubuntu.com/ubuntu focal-updates/main amd64 libmount-dev amd64 2.34-0.1ubuntu9.3 [176 kB]\n",
            "Get:10 http://archive.ubuntu.com/ubuntu focal-updates/main amd64 libsepol1-dev amd64 3.0-1ubuntu0.1 [325 kB]\n",
            "Get:11 http://archive.ubuntu.com/ubuntu focal/main amd64 libselinux1-dev amd64 3.0-1build2 [151 kB]\n",
            "Get:12 http://archive.ubuntu.com/ubuntu focal-updates/main amd64 libglib2.0-dev amd64 2.64.6-1~ubuntu20.04.4 [1,506 kB]\n",
            "Get:13 http://archive.ubuntu.com/ubuntu focal/main amd64 libcairo2-dev amd64 1.16.0-4ubuntu1 [627 kB]\n",
            "Fetched 3,492 kB in 1s (3,971 kB/s)\n",
            "Selecting previously unselected package liblzo2-2:amd64.\n",
            "(Reading database ... 129504 files and directories currently installed.)\n",
            "Preparing to unpack .../00-liblzo2-2_2.10-2_amd64.deb ...\n",
            "Unpacking liblzo2-2:amd64 (2.10-2) ...\n",
            "Selecting previously unselected package libcairo-script-interpreter2:amd64.\n",
            "Preparing to unpack .../01-libcairo-script-interpreter2_1.16.0-4ubuntu1_amd64.deb ...\n",
            "Unpacking libcairo-script-interpreter2:amd64 (1.16.0-4ubuntu1) ...\n",
            "Selecting previously unselected package libpixman-1-dev:amd64.\n",
            "Preparing to unpack .../02-libpixman-1-dev_0.38.4-0ubuntu2.1_amd64.deb ...\n",
            "Unpacking libpixman-1-dev:amd64 (0.38.4-0ubuntu2.1) ...\n",
            "Selecting previously unselected package libxcb-render0-dev:amd64.\n",
            "Preparing to unpack .../03-libxcb-render0-dev_1.14-2_amd64.deb ...\n",
            "Unpacking libxcb-render0-dev:amd64 (1.14-2) ...\n",
            "Selecting previously unselected package libxcb-shm0-dev:amd64.\n",
            "Preparing to unpack .../04-libxcb-shm0-dev_1.14-2_amd64.deb ...\n",
            "Unpacking libxcb-shm0-dev:amd64 (1.14-2) ...\n",
            "Selecting previously unselected package libffi-dev:amd64.\n",
            "Preparing to unpack .../05-libffi-dev_3.3-4_amd64.deb ...\n",
            "Unpacking libffi-dev:amd64 (3.3-4) ...\n",
            "Selecting previously unselected package libglib2.0-dev-bin.\n",
            "Preparing to unpack .../06-libglib2.0-dev-bin_2.64.6-1~ubuntu20.04.4_amd64.deb ...\n",
            "Unpacking libglib2.0-dev-bin (2.64.6-1~ubuntu20.04.4) ...\n",
            "Selecting previously unselected package libblkid-dev:amd64.\n",
            "Preparing to unpack .../07-libblkid-dev_2.34-0.1ubuntu9.3_amd64.deb ...\n",
            "Unpacking libblkid-dev:amd64 (2.34-0.1ubuntu9.3) ...\n",
            "Selecting previously unselected package libmount-dev:amd64.\n",
            "Preparing to unpack .../08-libmount-dev_2.34-0.1ubuntu9.3_amd64.deb ...\n",
            "Unpacking libmount-dev:amd64 (2.34-0.1ubuntu9.3) ...\n",
            "Selecting previously unselected package libsepol1-dev:amd64.\n",
            "Preparing to unpack .../09-libsepol1-dev_3.0-1ubuntu0.1_amd64.deb ...\n",
            "Unpacking libsepol1-dev:amd64 (3.0-1ubuntu0.1) ...\n",
            "Selecting previously unselected package libselinux1-dev:amd64.\n",
            "Preparing to unpack .../10-libselinux1-dev_3.0-1build2_amd64.deb ...\n",
            "Unpacking libselinux1-dev:amd64 (3.0-1build2) ...\n",
            "Selecting previously unselected package libglib2.0-dev:amd64.\n",
            "Preparing to unpack .../11-libglib2.0-dev_2.64.6-1~ubuntu20.04.4_amd64.deb ...\n",
            "Unpacking libglib2.0-dev:amd64 (2.64.6-1~ubuntu20.04.4) ...\n",
            "Selecting previously unselected package libcairo2-dev:amd64.\n",
            "Preparing to unpack .../12-libcairo2-dev_1.16.0-4ubuntu1_amd64.deb ...\n",
            "Unpacking libcairo2-dev:amd64 (1.16.0-4ubuntu1) ...\n",
            "Setting up libglib2.0-dev-bin (2.64.6-1~ubuntu20.04.4) ...\n",
            "Setting up libblkid-dev:amd64 (2.34-0.1ubuntu9.3) ...\n",
            "Setting up libpixman-1-dev:amd64 (0.38.4-0ubuntu2.1) ...\n",
            "Setting up libsepol1-dev:amd64 (3.0-1ubuntu0.1) ...\n",
            "Setting up liblzo2-2:amd64 (2.10-2) ...\n",
            "Setting up libffi-dev:amd64 (3.3-4) ...\n",
            "Setting up libxcb-shm0-dev:amd64 (1.14-2) ...\n",
            "Setting up libxcb-render0-dev:amd64 (1.14-2) ...\n",
            "Setting up libmount-dev:amd64 (2.34-0.1ubuntu9.3) ...\n",
            "Setting up libcairo-script-interpreter2:amd64 (1.16.0-4ubuntu1) ...\n",
            "Setting up libselinux1-dev:amd64 (3.0-1build2) ...\n",
            "Setting up libglib2.0-dev:amd64 (2.64.6-1~ubuntu20.04.4) ...\n",
            "Processing triggers for libglib2.0-0:amd64 (2.64.6-1~ubuntu20.04.4) ...\n",
            "Processing triggers for libc-bin (2.31-0ubuntu9.9) ...\n",
            "Processing triggers for man-db (2.9.1-1) ...\n",
            "Setting up libcairo2-dev:amd64 (1.16.0-4ubuntu1) ...\n",
            "Looking in indexes: https://pypi.org/simple, https://us-python.pkg.dev/colab-wheels/public/simple/\n",
            "Collecting pycairo\n",
            "  Using cached pycairo-1.23.0.tar.gz (344 kB)\n",
            "  Installing build dependencies ... \u001b[?25l\u001b[?25hdone\n",
            "  Getting requirements to build wheel ... \u001b[?25l\u001b[?25hdone\n",
            "  Installing backend dependencies ... \u001b[?25l\u001b[?25hdone\n",
            "  Preparing metadata (pyproject.toml) ... \u001b[?25l\u001b[?25hdone\n",
            "Building wheels for collected packages: pycairo\n",
            "  Building wheel for pycairo (pyproject.toml) ... \u001b[?25l\u001b[?25hdone\n",
            "  Created wheel for pycairo: filename=pycairo-1.23.0-cp38-cp38-linux_x86_64.whl size=325353 sha256=8ec6ec3441d10be13d16427cb2cc6a5e677f8ae33f18e17b2fbabbb1f3d6ee0a\n",
            "  Stored in directory: /root/.cache/pip/wheels/d9/25/86/ba7950c33840b1fda7ab932c7c7172d77b994807c5fd35c3ea\n",
            "Successfully built pycairo\n",
            "Installing collected packages: pycairo\n",
            "Successfully installed pycairo-1.23.0\n"
          ]
        }
      ]
    },
    {
      "cell_type": "code",
      "execution_count": 1,
      "id": "12dc4166",
      "metadata": {
        "id": "12dc4166"
      },
      "outputs": [],
      "source": [
        "import igraph as ig\n",
        "import numpy as np\n",
        "import matplotlib.pyplot as plt"
      ]
    },
    {
      "cell_type": "code",
      "execution_count": 2,
      "id": "9432c61a",
      "metadata": {
        "id": "9432c61a"
      },
      "outputs": [],
      "source": [
        "def Molloy_Reed(net):\n",
        "    degrees = np.array(net.degree())\n",
        "    return (degrees ** 2).mean() / degrees.mean()"
      ]
    },
    {
      "cell_type": "code",
      "execution_count": 3,
      "id": "b36ba16c",
      "metadata": {
        "id": "b36ba16c",
        "outputId": "0c52328b-8cb9-4efd-d8d4-df1e8e334127",
        "colab": {
          "base_uri": "https://localhost:8080/",
          "height": 572
        }
      },
      "outputs": [
        {
          "output_type": "stream",
          "name": "stdout",
          "text": [
            "the criterion is: 1.7586206896551726\n"
          ]
        },
        {
          "output_type": "execute_result",
          "data": {
            "text/plain": [
              "<igraph.drawing.cairo.plot.CairoPlot at 0x7f3654e9fe20>"
            ],
            "image/svg+xml": "<?xml version=\"1.0\" encoding=\"UTF-8\"?>\n<svg xmlns=\"http://www.w3.org/2000/svg\" xmlns:xlink=\"http://www.w3.org/1999/xlink\" width=\"400pt\" height=\"400pt\" viewBox=\"0 0 400 400\" version=\"1.1\">\n<g id=\"surface2\">\n<rect x=\"0\" y=\"0\" width=\"400\" height=\"400\" style=\"fill:rgb(100%,100%,100%);fill-opacity:1;stroke:none;\"/>\n<path style=\"fill:none;stroke-width:1;stroke-linecap:butt;stroke-linejoin:miter;stroke:rgb(26.666667%,26.666667%,26.666667%);stroke-opacity:1;stroke-miterlimit:10;\" d=\"M 128.445312 186.359375 L 127.628906 166.488281 \"/>\n<path style=\"fill:none;stroke-width:1;stroke-linecap:butt;stroke-linejoin:miter;stroke:rgb(26.666667%,26.666667%,26.666667%);stroke-opacity:1;stroke-miterlimit:10;\" d=\"M 311.4375 235.742188 L 321.421875 219.546875 \"/>\n<path style=\"fill:none;stroke-width:1;stroke-linecap:butt;stroke-linejoin:miter;stroke:rgb(26.666667%,26.666667%,26.666667%);stroke-opacity:1;stroke-miterlimit:10;\" d=\"M 128.445312 186.359375 L 135.042969 205.183594 \"/>\n<path style=\"fill:none;stroke-width:1;stroke-linecap:butt;stroke-linejoin:miter;stroke:rgb(26.666667%,26.666667%,26.666667%);stroke-opacity:1;stroke-miterlimit:10;\" d=\"M 75.824219 164.105469 L 66.390625 182.476562 \"/>\n<path style=\"fill:none;stroke-width:1;stroke-linecap:butt;stroke-linejoin:miter;stroke:rgb(26.666667%,26.666667%,26.666667%);stroke-opacity:1;stroke-miterlimit:10;\" d=\"M 54.003906 197.800781 L 66.390625 182.476562 \"/>\n<path style=\"fill:none;stroke-width:1;stroke-linecap:butt;stroke-linejoin:miter;stroke:rgb(26.666667%,26.666667%,26.666667%);stroke-opacity:1;stroke-miterlimit:10;\" d=\"M 121.691406 108.894531 L 116.175781 126.714844 \"/>\n<path style=\"fill:none;stroke-width:1;stroke-linecap:butt;stroke-linejoin:miter;stroke:rgb(26.666667%,26.666667%,26.666667%);stroke-opacity:1;stroke-miterlimit:10;\" d=\"M 260.914062 201.289062 L 239.289062 190.363281 \"/>\n<path style=\"fill:none;stroke-width:1;stroke-linecap:butt;stroke-linejoin:miter;stroke:rgb(26.666667%,26.666667%,26.666667%);stroke-opacity:1;stroke-miterlimit:10;\" d=\"M 260.914062 201.289062 L 278.621094 212.105469 \"/>\n<path style=\"fill:none;stroke-width:1;stroke-linecap:butt;stroke-linejoin:miter;stroke:rgb(26.666667%,26.666667%,26.666667%);stroke-opacity:1;stroke-miterlimit:10;\" d=\"M 146.429688 270.699219 L 165.878906 258.984375 \"/>\n<path style=\"fill:none;stroke-width:1;stroke-linecap:butt;stroke-linejoin:miter;stroke:rgb(26.666667%,26.666667%,26.666667%);stroke-opacity:1;stroke-miterlimit:10;\" d=\"M 246.90625 297.742188 L 261.53125 281.75 \"/>\n<path style=\"fill:none;stroke-width:1;stroke-linecap:butt;stroke-linejoin:miter;stroke:rgb(26.666667%,26.666667%,26.666667%);stroke-opacity:1;stroke-miterlimit:10;\" d=\"M 131.488281 324.628906 L 120.769531 310.019531 \"/>\n<path style=\"fill:none;stroke-width:1;stroke-linecap:butt;stroke-linejoin:miter;stroke:rgb(26.666667%,26.666667%,26.666667%);stroke-opacity:1;stroke-miterlimit:10;\" d=\"M 256.882812 144.902344 L 266.984375 126.804688 \"/>\n<path style=\"fill:none;stroke-width:1;stroke-linecap:butt;stroke-linejoin:miter;stroke:rgb(26.666667%,26.666667%,26.666667%);stroke-opacity:1;stroke-miterlimit:10;\" d=\"M 160.542969 120.914062 L 171.300781 105.640625 \"/>\n<path style=\"fill:none;stroke-width:1;stroke-linecap:butt;stroke-linejoin:miter;stroke:rgb(26.666667%,26.666667%,26.666667%);stroke-opacity:1;stroke-miterlimit:10;\" d=\"M 256.882812 144.902344 L 246.117188 165.46875 \"/>\n<path style=\"fill:none;stroke-width:1;stroke-linecap:butt;stroke-linejoin:miter;stroke:rgb(26.666667%,26.666667%,26.666667%);stroke-opacity:1;stroke-miterlimit:10;\" d=\"M 239.289062 190.363281 L 246.117188 165.46875 \"/>\n<path style=\"fill:none;stroke-width:1;stroke-linecap:butt;stroke-linejoin:miter;stroke:rgb(26.666667%,26.666667%,26.666667%);stroke-opacity:1;stroke-miterlimit:10;\" d=\"M 362.679688 156.871094 L 344.859375 161.410156 \"/>\n<path style=\"fill:none;stroke-width:1;stroke-linecap:butt;stroke-linejoin:miter;stroke:rgb(26.666667%,26.666667%,26.666667%);stroke-opacity:1;stroke-miterlimit:10;\" d=\"M 192.421875 152.417969 L 177.777344 164.9375 \"/>\n<path style=\"fill:none;stroke-width:1;stroke-linecap:butt;stroke-linejoin:miter;stroke:rgb(26.666667%,26.666667%,26.666667%);stroke-opacity:1;stroke-miterlimit:10;\" d=\"M 261.53125 281.75 L 282.652344 283.691406 \"/>\n<path style=\"fill:none;stroke-width:1;stroke-linecap:butt;stroke-linejoin:miter;stroke:rgb(26.666667%,26.666667%,26.666667%);stroke-opacity:1;stroke-miterlimit:10;\" d=\"M 36.210938 137.867188 L 29.183594 154.96875 \"/>\n<path style=\"fill:none;stroke-width:1;stroke-linecap:butt;stroke-linejoin:miter;stroke:rgb(26.666667%,26.666667%,26.666667%);stroke-opacity:1;stroke-miterlimit:10;\" d=\"M 239.289062 190.363281 L 218.597656 207.484375 \"/>\n<path style=\"fill:none;stroke-width:1;stroke-linecap:butt;stroke-linejoin:miter;stroke:rgb(26.666667%,26.666667%,26.666667%);stroke-opacity:1;stroke-miterlimit:10;\" d=\"M 165.878906 258.984375 L 176.25 235.375 \"/>\n<path style=\"fill:none;stroke-width:1;stroke-linecap:butt;stroke-linejoin:miter;stroke:rgb(26.666667%,26.666667%,26.666667%);stroke-opacity:1;stroke-miterlimit:10;\" d=\"M 75.824219 164.105469 L 78.484375 144.5 \"/>\n<path style=\"fill:none;stroke-width:1;stroke-linecap:butt;stroke-linejoin:miter;stroke:rgb(26.666667%,26.666667%,26.666667%);stroke-opacity:1;stroke-miterlimit:10;\" d=\"M 211.617188 93.804688 L 219.238281 111.121094 \"/>\n<path style=\"fill:none;stroke-width:1;stroke-linecap:butt;stroke-linejoin:miter;stroke:rgb(26.666667%,26.666667%,26.666667%);stroke-opacity:1;stroke-miterlimit:10;\" d=\"M 261.53125 281.75 L 259.484375 260.328125 \"/>\n<path style=\"fill:none;stroke-width:1;stroke-linecap:butt;stroke-linejoin:miter;stroke:rgb(26.666667%,26.666667%,26.666667%);stroke-opacity:1;stroke-miterlimit:10;\" d=\"M 204.765625 253.335938 L 187.554688 269.53125 \"/>\n<path style=\"fill:none;stroke-width:1;stroke-linecap:butt;stroke-linejoin:miter;stroke:rgb(26.666667%,26.666667%,26.666667%);stroke-opacity:1;stroke-miterlimit:10;\" d=\"M 165.878906 258.984375 L 187.554688 269.53125 \"/>\n<path style=\"fill:none;stroke-width:1;stroke-linecap:butt;stroke-linejoin:miter;stroke:rgb(26.666667%,26.666667%,26.666667%);stroke-opacity:1;stroke-miterlimit:10;\" d=\"M 204.765625 253.335938 L 201.097656 228.105469 \"/>\n<path style=\"fill:none;stroke-width:1;stroke-linecap:butt;stroke-linejoin:miter;stroke:rgb(26.666667%,26.666667%,26.666667%);stroke-opacity:1;stroke-miterlimit:10;\" d=\"M 218.597656 207.484375 L 201.097656 228.105469 \"/>\n<path style=\"fill:none;stroke-width:1;stroke-linecap:butt;stroke-linejoin:miter;stroke:rgb(26.666667%,26.666667%,26.666667%);stroke-opacity:1;stroke-miterlimit:10;\" d=\"M 176.25 235.375 L 201.097656 228.105469 \"/>\n<path style=\"fill-rule:nonzero;fill:rgb(100%,0%,0%);fill-opacity:1;stroke-width:1;stroke-linecap:butt;stroke-linejoin:miter;stroke:rgb(0%,0%,0%);stroke-opacity:1;stroke-miterlimit:10;\" d=\"M 48.855469 104.949219 C 48.855469 106.949219 45.855469 106.949219 45.855469 104.949219 C 45.855469 102.949219 48.855469 102.949219 48.855469 104.949219 \"/>\n<path style=\"fill-rule:nonzero;fill:rgb(100%,0%,0%);fill-opacity:1;stroke-width:1;stroke-linecap:butt;stroke-linejoin:miter;stroke:rgb(0%,0%,0%);stroke-opacity:1;stroke-miterlimit:10;\" d=\"M 312.8125 179.121094 C 312.8125 181.121094 309.8125 181.121094 309.8125 179.121094 C 309.8125 177.121094 312.8125 177.121094 312.8125 179.121094 \"/>\n<path style=\"fill-rule:nonzero;fill:rgb(100%,0%,0%);fill-opacity:1;stroke-width:1;stroke-linecap:butt;stroke-linejoin:miter;stroke:rgb(0%,0%,0%);stroke-opacity:1;stroke-miterlimit:10;\" d=\"M 321.699219 275.78125 C 321.699219 277.78125 318.699219 277.78125 318.699219 275.78125 C 318.699219 273.78125 321.699219 273.78125 321.699219 275.78125 \"/>\n<path style=\"fill-rule:nonzero;fill:rgb(100%,0%,0%);fill-opacity:1;stroke-width:1;stroke-linecap:butt;stroke-linejoin:miter;stroke:rgb(0%,0%,0%);stroke-opacity:1;stroke-miterlimit:10;\" d=\"M 381.5 185.101562 C 381.5 187.101562 378.5 187.101562 378.5 185.101562 C 378.5 183.101562 381.5 183.101562 381.5 185.101562 \"/>\n<path style=\"fill-rule:nonzero;fill:rgb(100%,0%,0%);fill-opacity:1;stroke-width:1;stroke-linecap:butt;stroke-linejoin:miter;stroke:rgb(0%,0%,0%);stroke-opacity:1;stroke-miterlimit:10;\" d=\"M 46.753906 290.003906 C 46.753906 292.003906 43.753906 292.003906 43.753906 290.003906 C 43.753906 288.003906 46.753906 288.003906 46.753906 290.003906 \"/>\n<path style=\"fill-rule:nonzero;fill:rgb(100%,0%,0%);fill-opacity:1;stroke-width:1;stroke-linecap:butt;stroke-linejoin:miter;stroke:rgb(0%,0%,0%);stroke-opacity:1;stroke-miterlimit:10;\" d=\"M 129.945312 186.359375 C 129.945312 188.359375 126.945312 188.359375 126.945312 186.359375 C 126.945312 184.359375 129.945312 184.359375 129.945312 186.359375 \"/>\n<path style=\"fill-rule:nonzero;fill:rgb(100%,0%,0%);fill-opacity:1;stroke-width:1;stroke-linecap:butt;stroke-linejoin:miter;stroke:rgb(0%,0%,0%);stroke-opacity:1;stroke-miterlimit:10;\" d=\"M 262.414062 201.289062 C 262.414062 203.289062 259.414062 203.289062 259.414062 201.289062 C 259.414062 199.289062 262.414062 199.289062 262.414062 201.289062 \"/>\n<path style=\"fill-rule:nonzero;fill:rgb(100%,0%,0%);fill-opacity:1;stroke-width:1;stroke-linecap:butt;stroke-linejoin:miter;stroke:rgb(0%,0%,0%);stroke-opacity:1;stroke-miterlimit:10;\" d=\"M 172.769531 314.859375 C 172.769531 316.859375 169.769531 316.859375 169.769531 314.859375 C 169.769531 312.859375 172.769531 312.859375 172.769531 314.859375 \"/>\n<path style=\"fill-rule:nonzero;fill:rgb(100%,0%,0%);fill-opacity:1;stroke-width:1;stroke-linecap:butt;stroke-linejoin:miter;stroke:rgb(0%,0%,0%);stroke-opacity:1;stroke-miterlimit:10;\" d=\"M 71.414062 73.785156 C 71.414062 75.785156 68.414062 75.785156 68.414062 73.785156 C 68.414062 71.785156 71.414062 71.785156 71.414062 73.785156 \"/>\n<path style=\"fill-rule:nonzero;fill:rgb(100%,0%,0%);fill-opacity:1;stroke-width:1;stroke-linecap:butt;stroke-linejoin:miter;stroke:rgb(0%,0%,0%);stroke-opacity:1;stroke-miterlimit:10;\" d=\"M 85.488281 300.824219 C 85.488281 302.824219 82.488281 302.824219 82.488281 300.824219 C 82.488281 298.824219 85.488281 298.824219 85.488281 300.824219 \"/>\n<path style=\"fill-rule:nonzero;fill:rgb(100%,0%,0%);fill-opacity:1;stroke-width:1;stroke-linecap:butt;stroke-linejoin:miter;stroke:rgb(0%,0%,0%);stroke-opacity:1;stroke-miterlimit:10;\" d=\"M 294.148438 353.773438 C 294.148438 355.773438 291.148438 355.773438 291.148438 353.773438 C 291.148438 351.773438 294.148438 351.773438 294.148438 353.773438 \"/>\n<path style=\"fill-rule:nonzero;fill:rgb(100%,0%,0%);fill-opacity:1;stroke-width:1;stroke-linecap:butt;stroke-linejoin:miter;stroke:rgb(0%,0%,0%);stroke-opacity:1;stroke-miterlimit:10;\" d=\"M 37.710938 137.867188 C 37.710938 139.867188 34.710938 139.867188 34.710938 137.867188 C 34.710938 135.867188 37.710938 135.867188 37.710938 137.867188 \"/>\n<path style=\"fill-rule:nonzero;fill:rgb(100%,0%,0%);fill-opacity:1;stroke-width:1;stroke-linecap:butt;stroke-linejoin:miter;stroke:rgb(0%,0%,0%);stroke-opacity:1;stroke-miterlimit:10;\" d=\"M 351.171875 199.972656 C 351.171875 201.972656 348.171875 201.972656 348.171875 199.972656 C 348.171875 197.972656 351.171875 197.972656 351.171875 199.972656 \"/>\n<path style=\"fill-rule:nonzero;fill:rgb(100%,0%,0%);fill-opacity:1;stroke-width:1;stroke-linecap:butt;stroke-linejoin:miter;stroke:rgb(0%,0%,0%);stroke-opacity:1;stroke-miterlimit:10;\" d=\"M 346.332031 248.976562 C 346.332031 250.976562 343.332031 250.976562 343.332031 248.976562 C 343.332031 246.976562 346.332031 246.976562 346.332031 248.976562 \"/>\n<path style=\"fill-rule:nonzero;fill:rgb(100%,0%,0%);fill-opacity:1;stroke-width:1;stroke-linecap:butt;stroke-linejoin:miter;stroke:rgb(0%,0%,0%);stroke-opacity:1;stroke-miterlimit:10;\" d=\"M 193.921875 152.417969 C 193.921875 154.417969 190.921875 154.417969 190.921875 152.417969 C 190.921875 150.417969 193.921875 150.417969 193.921875 152.417969 \"/>\n<path style=\"fill-rule:nonzero;fill:rgb(100%,0%,0%);fill-opacity:1;stroke-width:1;stroke-linecap:butt;stroke-linejoin:miter;stroke:rgb(0%,0%,0%);stroke-opacity:1;stroke-miterlimit:10;\" d=\"M 77.324219 164.105469 C 77.324219 166.105469 74.324219 166.105469 74.324219 164.105469 C 74.324219 162.105469 77.324219 162.105469 77.324219 164.105469 \"/>\n<path style=\"fill-rule:nonzero;fill:rgb(100%,0%,0%);fill-opacity:1;stroke-width:1;stroke-linecap:butt;stroke-linejoin:miter;stroke:rgb(0%,0%,0%);stroke-opacity:1;stroke-miterlimit:10;\" d=\"M 55.503906 197.800781 C 55.503906 199.800781 52.503906 199.800781 52.503906 197.800781 C 52.503906 195.800781 55.503906 195.800781 55.503906 197.800781 \"/>\n<path style=\"fill-rule:nonzero;fill:rgb(100%,0%,0%);fill-opacity:1;stroke-width:1;stroke-linecap:butt;stroke-linejoin:miter;stroke:rgb(0%,0%,0%);stroke-opacity:1;stroke-miterlimit:10;\" d=\"M 129.128906 166.488281 C 129.128906 168.488281 126.128906 168.488281 126.128906 166.488281 C 126.128906 164.488281 129.128906 164.488281 129.128906 166.488281 \"/>\n<path style=\"fill-rule:nonzero;fill:rgb(100%,0%,0%);fill-opacity:1;stroke-width:1;stroke-linecap:butt;stroke-linejoin:miter;stroke:rgb(0%,0%,0%);stroke-opacity:1;stroke-miterlimit:10;\" d=\"M 206.265625 253.335938 C 206.265625 255.335938 203.265625 255.335938 203.265625 253.335938 C 203.265625 251.335938 206.265625 251.335938 206.265625 253.335938 \"/>\n<path style=\"fill-rule:nonzero;fill:rgb(100%,0%,0%);fill-opacity:1;stroke-width:1;stroke-linecap:butt;stroke-linejoin:miter;stroke:rgb(0%,0%,0%);stroke-opacity:1;stroke-miterlimit:10;\" d=\"M 147.929688 270.699219 C 147.929688 272.699219 144.929688 272.699219 144.929688 270.699219 C 144.929688 268.699219 147.929688 268.699219 147.929688 270.699219 \"/>\n<path style=\"fill-rule:nonzero;fill:rgb(100%,0%,0%);fill-opacity:1;stroke-width:1;stroke-linecap:butt;stroke-linejoin:miter;stroke:rgb(0%,0%,0%);stroke-opacity:1;stroke-miterlimit:10;\" d=\"M 134.386719 66.800781 C 134.386719 68.800781 131.386719 68.800781 131.386719 66.800781 C 131.386719 64.800781 134.386719 64.800781 134.386719 66.800781 \"/>\n<path style=\"fill-rule:nonzero;fill:rgb(100%,0%,0%);fill-opacity:1;stroke-width:1;stroke-linecap:butt;stroke-linejoin:miter;stroke:rgb(0%,0%,0%);stroke-opacity:1;stroke-miterlimit:10;\" d=\"M 188.085938 51.699219 C 188.085938 53.699219 185.085938 53.699219 185.085938 51.699219 C 185.085938 49.699219 188.085938 49.699219 188.085938 51.699219 \"/>\n<path style=\"fill-rule:nonzero;fill:rgb(100%,0%,0%);fill-opacity:1;stroke-width:1;stroke-linecap:butt;stroke-linejoin:miter;stroke:rgb(0%,0%,0%);stroke-opacity:1;stroke-miterlimit:10;\" d=\"M 213.117188 93.804688 C 213.117188 95.804688 210.117188 95.804688 210.117188 93.804688 C 210.117188 91.804688 213.117188 91.804688 213.117188 93.804688 \"/>\n<path style=\"fill-rule:nonzero;fill:rgb(100%,0%,0%);fill-opacity:1;stroke-width:1;stroke-linecap:butt;stroke-linejoin:miter;stroke:rgb(0%,0%,0%);stroke-opacity:1;stroke-miterlimit:10;\" d=\"M 248.40625 297.742188 C 248.40625 299.742188 245.40625 299.742188 245.40625 297.742188 C 245.40625 295.742188 248.40625 295.742188 248.40625 297.742188 \"/>\n<path style=\"fill-rule:nonzero;fill:rgb(100%,0%,0%);fill-opacity:1;stroke-width:1;stroke-linecap:butt;stroke-linejoin:miter;stroke:rgb(0%,0%,0%);stroke-opacity:1;stroke-miterlimit:10;\" d=\"M 312.9375 235.742188 C 312.9375 237.742188 309.9375 237.742188 309.9375 235.742188 C 309.9375 233.742188 312.9375 233.742188 312.9375 235.742188 \"/>\n<path style=\"fill-rule:nonzero;fill:rgb(100%,0%,0%);fill-opacity:1;stroke-width:1;stroke-linecap:butt;stroke-linejoin:miter;stroke:rgb(0%,0%,0%);stroke-opacity:1;stroke-miterlimit:10;\" d=\"M 322.921875 219.546875 C 322.921875 221.546875 319.921875 221.546875 319.921875 219.546875 C 319.921875 217.546875 322.921875 217.546875 322.921875 219.546875 \"/>\n<path style=\"fill-rule:nonzero;fill:rgb(100%,0%,0%);fill-opacity:1;stroke-width:1;stroke-linecap:butt;stroke-linejoin:miter;stroke:rgb(0%,0%,0%);stroke-opacity:1;stroke-miterlimit:10;\" d=\"M 235.234375 341.378906 C 235.234375 343.378906 232.234375 343.378906 232.234375 341.378906 C 232.234375 339.378906 235.234375 339.378906 235.234375 341.378906 \"/>\n<path style=\"fill-rule:nonzero;fill:rgb(100%,0%,0%);fill-opacity:1;stroke-width:1;stroke-linecap:butt;stroke-linejoin:miter;stroke:rgb(0%,0%,0%);stroke-opacity:1;stroke-miterlimit:10;\" d=\"M 91.085938 339.464844 C 91.085938 341.464844 88.085938 341.464844 88.085938 339.464844 C 88.085938 337.464844 91.085938 337.464844 91.085938 339.464844 \"/>\n<path style=\"fill-rule:nonzero;fill:rgb(100%,0%,0%);fill-opacity:1;stroke-width:1;stroke-linecap:butt;stroke-linejoin:miter;stroke:rgb(0%,0%,0%);stroke-opacity:1;stroke-miterlimit:10;\" d=\"M 136.542969 205.183594 C 136.542969 207.183594 133.542969 207.183594 133.542969 205.183594 C 133.542969 203.183594 136.542969 203.183594 136.542969 205.183594 \"/>\n<path style=\"fill-rule:nonzero;fill:rgb(100%,0%,0%);fill-opacity:1;stroke-width:1;stroke-linecap:butt;stroke-linejoin:miter;stroke:rgb(0%,0%,0%);stroke-opacity:1;stroke-miterlimit:10;\" d=\"M 67.890625 182.476562 C 67.890625 184.476562 64.890625 184.476562 64.890625 182.476562 C 64.890625 180.476562 67.890625 180.476562 67.890625 182.476562 \"/>\n<path style=\"fill-rule:nonzero;fill:rgb(100%,0%,0%);fill-opacity:1;stroke-width:1;stroke-linecap:butt;stroke-linejoin:miter;stroke:rgb(0%,0%,0%);stroke-opacity:1;stroke-miterlimit:10;\" d=\"M 21.5 191.664062 C 21.5 193.664062 18.5 193.664062 18.5 191.664062 C 18.5 189.664062 21.5 189.664062 21.5 191.664062 \"/>\n<path style=\"fill-rule:nonzero;fill:rgb(100%,0%,0%);fill-opacity:1;stroke-width:1;stroke-linecap:butt;stroke-linejoin:miter;stroke:rgb(0%,0%,0%);stroke-opacity:1;stroke-miterlimit:10;\" d=\"M 162.042969 120.914062 C 162.042969 122.914062 159.042969 122.914062 159.042969 120.914062 C 159.042969 118.914062 162.042969 118.914062 162.042969 120.914062 \"/>\n<path style=\"fill-rule:nonzero;fill:rgb(100%,0%,0%);fill-opacity:1;stroke-width:1;stroke-linecap:butt;stroke-linejoin:miter;stroke:rgb(0%,0%,0%);stroke-opacity:1;stroke-miterlimit:10;\" d=\"M 69.9375 265.390625 C 69.9375 267.390625 66.9375 267.390625 66.9375 265.390625 C 66.9375 263.390625 69.9375 263.390625 69.9375 265.390625 \"/>\n<path style=\"fill-rule:nonzero;fill:rgb(100%,0%,0%);fill-opacity:1;stroke-width:1;stroke-linecap:butt;stroke-linejoin:miter;stroke:rgb(0%,0%,0%);stroke-opacity:1;stroke-miterlimit:10;\" d=\"M 104.152344 274.320312 C 104.152344 276.320312 101.152344 276.320312 101.152344 274.320312 C 101.152344 272.320312 104.152344 272.320312 104.152344 274.320312 \"/>\n<path style=\"fill-rule:nonzero;fill:rgb(100%,0%,0%);fill-opacity:1;stroke-width:1;stroke-linecap:butt;stroke-linejoin:miter;stroke:rgb(0%,0%,0%);stroke-opacity:1;stroke-miterlimit:10;\" d=\"M 164.59375 70.285156 C 164.59375 72.285156 161.59375 72.285156 161.59375 70.285156 C 161.59375 68.285156 164.59375 68.285156 164.59375 70.285156 \"/>\n<path style=\"fill-rule:nonzero;fill:rgb(100%,0%,0%);fill-opacity:1;stroke-width:1;stroke-linecap:butt;stroke-linejoin:miter;stroke:rgb(0%,0%,0%);stroke-opacity:1;stroke-miterlimit:10;\" d=\"M 322.367188 70.855469 C 322.367188 72.855469 319.367188 72.855469 319.367188 70.855469 C 319.367188 68.855469 322.367188 68.855469 322.367188 70.855469 \"/>\n<path style=\"fill-rule:nonzero;fill:rgb(100%,0%,0%);fill-opacity:1;stroke-width:1;stroke-linecap:butt;stroke-linejoin:miter;stroke:rgb(0%,0%,0%);stroke-opacity:1;stroke-miterlimit:10;\" d=\"M 123.191406 108.894531 C 123.191406 110.894531 120.191406 110.894531 120.191406 108.894531 C 120.191406 106.894531 123.191406 106.894531 123.191406 108.894531 \"/>\n<path style=\"fill-rule:nonzero;fill:rgb(100%,0%,0%);fill-opacity:1;stroke-width:1;stroke-linecap:butt;stroke-linejoin:miter;stroke:rgb(0%,0%,0%);stroke-opacity:1;stroke-miterlimit:10;\" d=\"M 211.234375 313.460938 C 211.234375 315.460938 208.234375 315.460938 208.234375 313.460938 C 208.234375 311.460938 211.234375 311.460938 211.234375 313.460938 \"/>\n<path style=\"fill-rule:nonzero;fill:rgb(100%,0%,0%);fill-opacity:1;stroke-width:1;stroke-linecap:butt;stroke-linejoin:miter;stroke:rgb(0%,0%,0%);stroke-opacity:1;stroke-miterlimit:10;\" d=\"M 364.179688 156.871094 C 364.179688 158.871094 361.179688 158.871094 361.179688 156.871094 C 361.179688 154.871094 364.179688 154.871094 364.179688 156.871094 \"/>\n<path style=\"fill-rule:nonzero;fill:rgb(100%,0%,0%);fill-opacity:1;stroke-width:1;stroke-linecap:butt;stroke-linejoin:miter;stroke:rgb(0%,0%,0%);stroke-opacity:1;stroke-miterlimit:10;\" d=\"M 32.050781 259.902344 C 32.050781 261.902344 29.050781 261.902344 29.050781 259.902344 C 29.050781 257.902344 32.050781 257.902344 32.050781 259.902344 \"/>\n<path style=\"fill-rule:nonzero;fill:rgb(100%,0%,0%);fill-opacity:1;stroke-width:1;stroke-linecap:butt;stroke-linejoin:miter;stroke:rgb(0%,0%,0%);stroke-opacity:1;stroke-miterlimit:10;\" d=\"M 258.382812 144.902344 C 258.382812 146.902344 255.382812 146.902344 255.382812 144.902344 C 255.382812 142.902344 258.382812 142.902344 258.382812 144.902344 \"/>\n<path style=\"fill-rule:nonzero;fill:rgb(100%,0%,0%);fill-opacity:1;stroke-width:1;stroke-linecap:butt;stroke-linejoin:miter;stroke:rgb(0%,0%,0%);stroke-opacity:1;stroke-miterlimit:10;\" d=\"M 305.164062 311.585938 C 305.164062 313.585938 302.164062 313.585938 302.164062 311.585938 C 302.164062 309.585938 305.164062 309.585938 305.164062 311.585938 \"/>\n<path style=\"fill-rule:nonzero;fill:rgb(100%,0%,0%);fill-opacity:1;stroke-width:1;stroke-linecap:butt;stroke-linejoin:miter;stroke:rgb(0%,0%,0%);stroke-opacity:1;stroke-miterlimit:10;\" d=\"M 132.988281 324.628906 C 132.988281 326.628906 129.988281 326.628906 129.988281 324.628906 C 129.988281 322.628906 132.988281 322.628906 132.988281 324.628906 \"/>\n<path style=\"fill-rule:nonzero;fill:rgb(100%,0%,0%);fill-opacity:1;stroke-width:1;stroke-linecap:butt;stroke-linejoin:miter;stroke:rgb(0%,0%,0%);stroke-opacity:1;stroke-miterlimit:10;\" d=\"M 117.675781 126.714844 C 117.675781 128.714844 114.675781 128.714844 114.675781 126.714844 C 114.675781 124.714844 117.675781 124.714844 117.675781 126.714844 \"/>\n<path style=\"fill-rule:nonzero;fill:rgb(100%,0%,0%);fill-opacity:1;stroke-width:1;stroke-linecap:butt;stroke-linejoin:miter;stroke:rgb(0%,0%,0%);stroke-opacity:1;stroke-miterlimit:10;\" d=\"M 365.339844 123.578125 C 365.339844 125.578125 362.339844 125.578125 362.339844 123.578125 C 362.339844 121.578125 365.339844 121.578125 365.339844 123.578125 \"/>\n<path style=\"fill-rule:nonzero;fill:rgb(100%,0%,0%);fill-opacity:1;stroke-width:1;stroke-linecap:butt;stroke-linejoin:miter;stroke:rgb(0%,0%,0%);stroke-opacity:1;stroke-miterlimit:10;\" d=\"M 332.203125 123.914062 C 332.203125 125.914062 329.203125 125.914062 329.203125 123.914062 C 329.203125 121.914062 332.203125 121.914062 332.203125 123.914062 \"/>\n<path style=\"fill-rule:nonzero;fill:rgb(100%,0%,0%);fill-opacity:1;stroke-width:1;stroke-linecap:butt;stroke-linejoin:miter;stroke:rgb(0%,0%,0%);stroke-opacity:1;stroke-miterlimit:10;\" d=\"M 374.75 253.011719 C 374.75 255.011719 371.75 255.011719 371.75 253.011719 C 371.75 251.011719 374.75 251.011719 374.75 253.011719 \"/>\n<path style=\"fill-rule:nonzero;fill:rgb(100%,0%,0%);fill-opacity:1;stroke-width:1;stroke-linecap:butt;stroke-linejoin:miter;stroke:rgb(0%,0%,0%);stroke-opacity:1;stroke-miterlimit:10;\" d=\"M 240.789062 190.363281 C 240.789062 192.363281 237.789062 192.363281 237.789062 190.363281 C 237.789062 188.363281 240.789062 188.363281 240.789062 190.363281 \"/>\n<path style=\"fill-rule:nonzero;fill:rgb(100%,0%,0%);fill-opacity:1;stroke-width:1;stroke-linecap:butt;stroke-linejoin:miter;stroke:rgb(0%,0%,0%);stroke-opacity:1;stroke-miterlimit:10;\" d=\"M 280.121094 212.105469 C 280.121094 214.105469 277.121094 214.105469 277.121094 212.105469 C 277.121094 210.105469 280.121094 210.105469 280.121094 212.105469 \"/>\n<path style=\"fill-rule:nonzero;fill:rgb(100%,0%,0%);fill-opacity:1;stroke-width:1;stroke-linecap:butt;stroke-linejoin:miter;stroke:rgb(0%,0%,0%);stroke-opacity:1;stroke-miterlimit:10;\" d=\"M 167.378906 258.984375 C 167.378906 260.984375 164.378906 260.984375 164.378906 258.984375 C 164.378906 256.984375 167.378906 256.984375 167.378906 258.984375 \"/>\n<path style=\"fill-rule:nonzero;fill:rgb(100%,0%,0%);fill-opacity:1;stroke-width:1;stroke-linecap:butt;stroke-linejoin:miter;stroke:rgb(0%,0%,0%);stroke-opacity:1;stroke-miterlimit:10;\" d=\"M 199.4375 347.320312 C 199.4375 349.320312 196.4375 349.320312 196.4375 347.320312 C 196.4375 345.320312 199.4375 345.320312 199.4375 347.320312 \"/>\n<path style=\"fill-rule:nonzero;fill:rgb(100%,0%,0%);fill-opacity:1;stroke-width:1;stroke-linecap:butt;stroke-linejoin:miter;stroke:rgb(0%,0%,0%);stroke-opacity:1;stroke-miterlimit:10;\" d=\"M 263.03125 281.75 C 263.03125 283.75 260.03125 283.75 260.03125 281.75 C 260.03125 279.75 263.03125 279.75 263.03125 281.75 \"/>\n<path style=\"fill-rule:nonzero;fill:rgb(100%,0%,0%);fill-opacity:1;stroke-width:1;stroke-linecap:butt;stroke-linejoin:miter;stroke:rgb(0%,0%,0%);stroke-opacity:1;stroke-miterlimit:10;\" d=\"M 269.601562 31.96875 C 269.601562 33.96875 266.601562 33.96875 266.601562 31.96875 C 266.601562 29.96875 269.601562 29.96875 269.601562 31.96875 \"/>\n<path style=\"fill-rule:nonzero;fill:rgb(100%,0%,0%);fill-opacity:1;stroke-width:1;stroke-linecap:butt;stroke-linejoin:miter;stroke:rgb(0%,0%,0%);stroke-opacity:1;stroke-miterlimit:10;\" d=\"M 122.269531 310.019531 C 122.269531 312.019531 119.269531 312.019531 119.269531 310.019531 C 119.269531 308.019531 122.269531 308.019531 122.269531 310.019531 \"/>\n<path style=\"fill-rule:nonzero;fill:rgb(100%,0%,0%);fill-opacity:1;stroke-width:1;stroke-linecap:butt;stroke-linejoin:miter;stroke:rgb(0%,0%,0%);stroke-opacity:1;stroke-miterlimit:10;\" d=\"M 103.40625 47.457031 C 103.40625 49.457031 100.40625 49.457031 100.40625 47.457031 C 100.40625 45.457031 103.40625 45.457031 103.40625 47.457031 \"/>\n<path style=\"fill-rule:nonzero;fill:rgb(100%,0%,0%);fill-opacity:1;stroke-width:1;stroke-linecap:butt;stroke-linejoin:miter;stroke:rgb(0%,0%,0%);stroke-opacity:1;stroke-miterlimit:10;\" d=\"M 268.484375 126.804688 C 268.484375 128.804688 265.484375 128.804688 265.484375 126.804688 C 265.484375 124.804688 268.484375 124.804688 268.484375 126.804688 \"/>\n<path style=\"fill-rule:nonzero;fill:rgb(100%,0%,0%);fill-opacity:1;stroke-width:1;stroke-linecap:butt;stroke-linejoin:miter;stroke:rgb(0%,0%,0%);stroke-opacity:1;stroke-miterlimit:10;\" d=\"M 172.800781 105.640625 C 172.800781 107.640625 169.800781 107.640625 169.800781 105.640625 C 169.800781 103.640625 172.800781 103.640625 172.800781 105.640625 \"/>\n<path style=\"fill-rule:nonzero;fill:rgb(100%,0%,0%);fill-opacity:1;stroke-width:1;stroke-linecap:butt;stroke-linejoin:miter;stroke:rgb(0%,0%,0%);stroke-opacity:1;stroke-miterlimit:10;\" d=\"M 304.765625 104.324219 C 304.765625 106.324219 301.765625 106.324219 301.765625 104.324219 C 301.765625 102.324219 304.765625 102.324219 304.765625 104.324219 \"/>\n<path style=\"fill-rule:nonzero;fill:rgb(100%,0%,0%);fill-opacity:1;stroke-width:1;stroke-linecap:butt;stroke-linejoin:miter;stroke:rgb(0%,0%,0%);stroke-opacity:1;stroke-miterlimit:10;\" d=\"M 341.277344 309.148438 C 341.277344 311.148438 338.277344 311.148438 338.277344 309.148438 C 338.277344 307.148438 341.277344 307.148438 341.277344 309.148438 \"/>\n<path style=\"fill-rule:nonzero;fill:rgb(100%,0%,0%);fill-opacity:1;stroke-width:1;stroke-linecap:butt;stroke-linejoin:miter;stroke:rgb(0%,0%,0%);stroke-opacity:1;stroke-miterlimit:10;\" d=\"M 254.519531 87.144531 C 254.519531 89.144531 251.519531 89.144531 251.519531 87.144531 C 251.519531 85.144531 254.519531 85.144531 254.519531 87.144531 \"/>\n<path style=\"fill-rule:nonzero;fill:rgb(100%,0%,0%);fill-opacity:1;stroke-width:1;stroke-linecap:butt;stroke-linejoin:miter;stroke:rgb(0%,0%,0%);stroke-opacity:1;stroke-miterlimit:10;\" d=\"M 297.644531 49.496094 C 297.644531 51.496094 294.644531 51.496094 294.644531 49.496094 C 294.644531 47.496094 297.644531 47.496094 297.644531 49.496094 \"/>\n<path style=\"fill-rule:nonzero;fill:rgb(100%,0%,0%);fill-opacity:1;stroke-width:1;stroke-linecap:butt;stroke-linejoin:miter;stroke:rgb(0%,0%,0%);stroke-opacity:1;stroke-miterlimit:10;\" d=\"M 57.042969 235.925781 C 57.042969 237.925781 54.042969 237.925781 54.042969 235.925781 C 54.042969 233.925781 57.042969 233.925781 57.042969 235.925781 \"/>\n<path style=\"fill-rule:nonzero;fill:rgb(100%,0%,0%);fill-opacity:1;stroke-width:1;stroke-linecap:butt;stroke-linejoin:miter;stroke:rgb(0%,0%,0%);stroke-opacity:1;stroke-miterlimit:10;\" d=\"M 236.703125 375.921875 C 236.703125 377.921875 233.703125 377.921875 233.703125 375.921875 C 233.703125 373.921875 236.703125 373.921875 236.703125 375.921875 \"/>\n<path style=\"fill-rule:nonzero;fill:rgb(100%,0%,0%);fill-opacity:1;stroke-width:1;stroke-linecap:butt;stroke-linejoin:miter;stroke:rgb(0%,0%,0%);stroke-opacity:1;stroke-miterlimit:10;\" d=\"M 232.003906 22.910156 C 232.003906 24.910156 229.003906 24.910156 229.003906 22.910156 C 229.003906 20.910156 232.003906 20.910156 232.003906 22.910156 \"/>\n<path style=\"fill-rule:nonzero;fill:rgb(100%,0%,0%);fill-opacity:1;stroke-width:1;stroke-linecap:butt;stroke-linejoin:miter;stroke:rgb(0%,0%,0%);stroke-opacity:1;stroke-miterlimit:10;\" d=\"M 247.617188 165.46875 C 247.617188 167.46875 244.617188 167.46875 244.617188 165.46875 C 244.617188 163.46875 247.617188 163.46875 247.617188 165.46875 \"/>\n<path style=\"fill-rule:nonzero;fill:rgb(100%,0%,0%);fill-opacity:1;stroke-width:1;stroke-linecap:butt;stroke-linejoin:miter;stroke:rgb(0%,0%,0%);stroke-opacity:1;stroke-miterlimit:10;\" d=\"M 115.582031 357.554688 C 115.582031 359.554688 112.582031 359.554688 112.582031 357.554688 C 112.582031 355.554688 115.582031 355.554688 115.582031 357.554688 \"/>\n<path style=\"fill-rule:nonzero;fill:rgb(100%,0%,0%);fill-opacity:1;stroke-width:1;stroke-linecap:butt;stroke-linejoin:miter;stroke:rgb(0%,0%,0%);stroke-opacity:1;stroke-miterlimit:10;\" d=\"M 218.738281 56.542969 C 218.738281 58.542969 215.738281 58.542969 215.738281 56.542969 C 215.738281 54.542969 218.738281 54.542969 218.738281 56.542969 \"/>\n<path style=\"fill-rule:nonzero;fill:rgb(100%,0%,0%);fill-opacity:1;stroke-width:1;stroke-linecap:butt;stroke-linejoin:miter;stroke:rgb(0%,0%,0%);stroke-opacity:1;stroke-miterlimit:10;\" d=\"M 269.847656 331.804688 C 269.847656 333.804688 266.847656 333.804688 266.847656 331.804688 C 266.847656 329.804688 269.847656 329.804688 269.847656 331.804688 \"/>\n<path style=\"fill-rule:nonzero;fill:rgb(100%,0%,0%);fill-opacity:1;stroke-width:1;stroke-linecap:butt;stroke-linejoin:miter;stroke:rgb(0%,0%,0%);stroke-opacity:1;stroke-miterlimit:10;\" d=\"M 89.5625 219.054688 C 89.5625 221.054688 86.5625 221.054688 86.5625 219.054688 C 86.5625 217.054688 89.5625 217.054688 89.5625 219.054688 \"/>\n<path style=\"fill-rule:nonzero;fill:rgb(100%,0%,0%);fill-opacity:1;stroke-width:1;stroke-linecap:butt;stroke-linejoin:miter;stroke:rgb(0%,0%,0%);stroke-opacity:1;stroke-miterlimit:10;\" d=\"M 135.816406 33.621094 C 135.816406 35.621094 132.816406 35.621094 132.816406 33.621094 C 132.816406 31.621094 135.816406 31.621094 135.816406 33.621094 \"/>\n<path style=\"fill-rule:nonzero;fill:rgb(100%,0%,0%);fill-opacity:1;stroke-width:1;stroke-linecap:butt;stroke-linejoin:miter;stroke:rgb(0%,0%,0%);stroke-opacity:1;stroke-miterlimit:10;\" d=\"M 207.066406 380 C 207.066406 382 204.066406 382 204.066406 380 C 204.066406 378 207.066406 378 207.066406 380 \"/>\n<path style=\"fill-rule:nonzero;fill:rgb(100%,0%,0%);fill-opacity:1;stroke-width:1;stroke-linecap:butt;stroke-linejoin:miter;stroke:rgb(0%,0%,0%);stroke-opacity:1;stroke-miterlimit:10;\" d=\"M 24.574219 226.035156 C 24.574219 228.035156 21.574219 228.035156 21.574219 226.035156 C 21.574219 224.035156 24.574219 224.035156 24.574219 226.035156 \"/>\n<path style=\"fill-rule:nonzero;fill:rgb(100%,0%,0%);fill-opacity:1;stroke-width:1;stroke-linecap:butt;stroke-linejoin:miter;stroke:rgb(0%,0%,0%);stroke-opacity:1;stroke-miterlimit:10;\" d=\"M 265.550781 367.367188 C 265.550781 369.367188 262.550781 369.367188 262.550781 367.367188 C 262.550781 365.367188 265.550781 365.367188 265.550781 367.367188 \"/>\n<path style=\"fill-rule:nonzero;fill:rgb(100%,0%,0%);fill-opacity:1;stroke-width:1;stroke-linecap:butt;stroke-linejoin:miter;stroke:rgb(0%,0%,0%);stroke-opacity:1;stroke-miterlimit:10;\" d=\"M 346.359375 161.410156 C 346.359375 163.410156 343.359375 163.410156 343.359375 161.410156 C 343.359375 159.410156 346.359375 159.410156 346.359375 161.410156 \"/>\n<path style=\"fill-rule:nonzero;fill:rgb(100%,0%,0%);fill-opacity:1;stroke-width:1;stroke-linecap:butt;stroke-linejoin:miter;stroke:rgb(0%,0%,0%);stroke-opacity:1;stroke-miterlimit:10;\" d=\"M 179.277344 164.9375 C 179.277344 166.9375 176.277344 166.9375 176.277344 164.9375 C 176.277344 162.9375 179.277344 162.9375 179.277344 164.9375 \"/>\n<path style=\"fill-rule:nonzero;fill:rgb(100%,0%,0%);fill-opacity:1;stroke-width:1;stroke-linecap:butt;stroke-linejoin:miter;stroke:rgb(0%,0%,0%);stroke-opacity:1;stroke-miterlimit:10;\" d=\"M 376.824219 220 C 376.824219 222 373.824219 222 373.824219 220 C 373.824219 218 376.824219 218 376.824219 220 \"/>\n<path style=\"fill-rule:nonzero;fill:rgb(100%,0%,0%);fill-opacity:1;stroke-width:1;stroke-linecap:butt;stroke-linejoin:miter;stroke:rgb(0%,0%,0%);stroke-opacity:1;stroke-miterlimit:10;\" d=\"M 284.152344 283.691406 C 284.152344 285.691406 281.152344 285.691406 281.152344 283.691406 C 281.152344 281.691406 284.152344 281.691406 284.152344 283.691406 \"/>\n<path style=\"fill-rule:nonzero;fill:rgb(100%,0%,0%);fill-opacity:1;stroke-width:1;stroke-linecap:butt;stroke-linejoin:miter;stroke:rgb(0%,0%,0%);stroke-opacity:1;stroke-miterlimit:10;\" d=\"M 30.683594 154.96875 C 30.683594 156.96875 27.683594 156.96875 27.683594 154.96875 C 27.683594 152.96875 30.683594 152.96875 30.683594 154.96875 \"/>\n<path style=\"fill-rule:nonzero;fill:rgb(100%,0%,0%);fill-opacity:1;stroke-width:1;stroke-linecap:butt;stroke-linejoin:miter;stroke:rgb(0%,0%,0%);stroke-opacity:1;stroke-miterlimit:10;\" d=\"M 220.097656 207.484375 C 220.097656 209.484375 217.097656 209.484375 217.097656 207.484375 C 217.097656 205.484375 220.097656 205.484375 220.097656 207.484375 \"/>\n<path style=\"fill-rule:nonzero;fill:rgb(100%,0%,0%);fill-opacity:1;stroke-width:1;stroke-linecap:butt;stroke-linejoin:miter;stroke:rgb(0%,0%,0%);stroke-opacity:1;stroke-miterlimit:10;\" d=\"M 177.75 235.375 C 177.75 237.375 174.75 237.375 174.75 235.375 C 174.75 233.375 177.75 233.375 177.75 235.375 \"/>\n<path style=\"fill-rule:nonzero;fill:rgb(100%,0%,0%);fill-opacity:1;stroke-width:1;stroke-linecap:butt;stroke-linejoin:miter;stroke:rgb(0%,0%,0%);stroke-opacity:1;stroke-miterlimit:10;\" d=\"M 112.519531 241.914062 C 112.519531 243.914062 109.519531 243.914062 109.519531 241.914062 C 109.519531 239.914062 112.519531 239.914062 112.519531 241.914062 \"/>\n<path style=\"fill-rule:nonzero;fill:rgb(100%,0%,0%);fill-opacity:1;stroke-width:1;stroke-linecap:butt;stroke-linejoin:miter;stroke:rgb(0%,0%,0%);stroke-opacity:1;stroke-miterlimit:10;\" d=\"M 250.570312 53.289062 C 250.570312 55.289062 247.570312 55.289062 247.570312 53.289062 C 247.570312 51.289062 250.570312 51.289062 250.570312 53.289062 \"/>\n<path style=\"fill-rule:nonzero;fill:rgb(100%,0%,0%);fill-opacity:1;stroke-width:1;stroke-linecap:butt;stroke-linejoin:miter;stroke:rgb(0%,0%,0%);stroke-opacity:1;stroke-miterlimit:10;\" d=\"M 305.792969 145.066406 C 305.792969 147.066406 302.792969 147.066406 302.792969 145.066406 C 302.792969 143.066406 305.792969 143.066406 305.792969 145.066406 \"/>\n<path style=\"fill-rule:nonzero;fill:rgb(100%,0%,0%);fill-opacity:1;stroke-width:1;stroke-linecap:butt;stroke-linejoin:miter;stroke:rgb(0%,0%,0%);stroke-opacity:1;stroke-miterlimit:10;\" d=\"M 79.984375 144.5 C 79.984375 146.5 76.984375 146.5 76.984375 144.5 C 76.984375 142.5 79.984375 142.5 79.984375 144.5 \"/>\n<path style=\"fill-rule:nonzero;fill:rgb(100%,0%,0%);fill-opacity:1;stroke-width:1;stroke-linecap:butt;stroke-linejoin:miter;stroke:rgb(0%,0%,0%);stroke-opacity:1;stroke-miterlimit:10;\" d=\"M 79.21875 107.808594 C 79.21875 109.808594 76.21875 109.808594 76.21875 107.808594 C 76.21875 105.808594 79.21875 105.808594 79.21875 107.808594 \"/>\n<path style=\"fill-rule:nonzero;fill:rgb(100%,0%,0%);fill-opacity:1;stroke-width:1;stroke-linecap:butt;stroke-linejoin:miter;stroke:rgb(0%,0%,0%);stroke-opacity:1;stroke-miterlimit:10;\" d=\"M 358.042969 283.78125 C 358.042969 285.78125 355.042969 285.78125 355.042969 283.78125 C 355.042969 281.78125 358.042969 281.78125 358.042969 283.78125 \"/>\n<path style=\"fill-rule:nonzero;fill:rgb(100%,0%,0%);fill-opacity:1;stroke-width:1;stroke-linecap:butt;stroke-linejoin:miter;stroke:rgb(0%,0%,0%);stroke-opacity:1;stroke-miterlimit:10;\" d=\"M 344.304688 93.230469 C 344.304688 95.230469 341.304688 95.230469 341.304688 93.230469 C 341.304688 91.230469 344.304688 91.230469 344.304688 93.230469 \"/>\n<path style=\"fill-rule:nonzero;fill:rgb(100%,0%,0%);fill-opacity:1;stroke-width:1;stroke-linecap:butt;stroke-linejoin:miter;stroke:rgb(0%,0%,0%);stroke-opacity:1;stroke-miterlimit:10;\" d=\"M 220.738281 111.121094 C 220.738281 113.121094 217.738281 113.121094 217.738281 111.121094 C 217.738281 109.121094 220.738281 109.121094 220.738281 111.121094 \"/>\n<path style=\"fill-rule:nonzero;fill:rgb(100%,0%,0%);fill-opacity:1;stroke-width:1;stroke-linecap:butt;stroke-linejoin:miter;stroke:rgb(0%,0%,0%);stroke-opacity:1;stroke-miterlimit:10;\" d=\"M 143.03125 371.875 C 143.03125 373.875 140.03125 373.875 140.03125 371.875 C 140.03125 369.875 143.03125 369.875 143.03125 371.875 \"/>\n<path style=\"fill-rule:nonzero;fill:rgb(100%,0%,0%);fill-opacity:1;stroke-width:1;stroke-linecap:butt;stroke-linejoin:miter;stroke:rgb(0%,0%,0%);stroke-opacity:1;stroke-miterlimit:10;\" d=\"M 63.953125 320.511719 C 63.953125 322.511719 60.953125 322.511719 60.953125 320.511719 C 60.953125 318.511719 63.953125 318.511719 63.953125 320.511719 \"/>\n<path style=\"fill-rule:nonzero;fill:rgb(100%,0%,0%);fill-opacity:1;stroke-width:1;stroke-linecap:butt;stroke-linejoin:miter;stroke:rgb(0%,0%,0%);stroke-opacity:1;stroke-miterlimit:10;\" d=\"M 165.40625 25.746094 C 165.40625 27.746094 162.40625 27.746094 162.40625 25.746094 C 162.40625 23.746094 165.40625 23.746094 165.40625 25.746094 \"/>\n<path style=\"fill-rule:nonzero;fill:rgb(100%,0%,0%);fill-opacity:1;stroke-width:1;stroke-linecap:butt;stroke-linejoin:miter;stroke:rgb(0%,0%,0%);stroke-opacity:1;stroke-miterlimit:10;\" d=\"M 260.984375 260.328125 C 260.984375 262.328125 257.984375 262.328125 257.984375 260.328125 C 257.984375 258.328125 260.984375 258.328125 260.984375 260.328125 \"/>\n<path style=\"fill-rule:nonzero;fill:rgb(100%,0%,0%);fill-opacity:1;stroke-width:1;stroke-linecap:butt;stroke-linejoin:miter;stroke:rgb(0%,0%,0%);stroke-opacity:1;stroke-miterlimit:10;\" d=\"M 102.820312 79.191406 C 102.820312 81.191406 99.820312 81.191406 99.820312 79.191406 C 99.820312 77.191406 102.820312 77.191406 102.820312 79.191406 \"/>\n<path style=\"fill-rule:nonzero;fill:rgb(100%,0%,0%);fill-opacity:1;stroke-width:1;stroke-linecap:butt;stroke-linejoin:miter;stroke:rgb(0%,0%,0%);stroke-opacity:1;stroke-miterlimit:10;\" d=\"M 321.558594 336.546875 C 321.558594 338.546875 318.558594 338.546875 318.558594 336.546875 C 318.558594 334.546875 321.558594 334.546875 321.558594 336.546875 \"/>\n<path style=\"fill-rule:nonzero;fill:rgb(100%,0%,0%);fill-opacity:1;stroke-width:1;stroke-linecap:butt;stroke-linejoin:miter;stroke:rgb(0%,0%,0%);stroke-opacity:1;stroke-miterlimit:10;\" d=\"M 285.316406 78.65625 C 285.316406 80.65625 282.316406 80.65625 282.316406 78.65625 C 282.316406 76.65625 285.316406 76.65625 285.316406 78.65625 \"/>\n<path style=\"fill-rule:nonzero;fill:rgb(100%,0%,0%);fill-opacity:1;stroke-width:1;stroke-linecap:butt;stroke-linejoin:miter;stroke:rgb(0%,0%,0%);stroke-opacity:1;stroke-miterlimit:10;\" d=\"M 163.125 346.761719 C 163.125 348.761719 160.125 348.761719 160.125 346.761719 C 160.125 344.761719 163.125 344.761719 163.125 346.761719 \"/>\n<path style=\"fill-rule:nonzero;fill:rgb(100%,0%,0%);fill-opacity:1;stroke-width:1;stroke-linecap:butt;stroke-linejoin:miter;stroke:rgb(0%,0%,0%);stroke-opacity:1;stroke-miterlimit:10;\" d=\"M 175.859375 378.835938 C 175.859375 380.835938 172.859375 380.835938 172.859375 378.835938 C 172.859375 376.835938 175.859375 376.835938 175.859375 378.835938 \"/>\n<path style=\"fill-rule:nonzero;fill:rgb(100%,0%,0%);fill-opacity:1;stroke-width:1;stroke-linecap:butt;stroke-linejoin:miter;stroke:rgb(0%,0%,0%);stroke-opacity:1;stroke-miterlimit:10;\" d=\"M 189.054688 269.53125 C 189.054688 271.53125 186.054688 271.53125 186.054688 269.53125 C 186.054688 267.53125 189.054688 267.53125 189.054688 269.53125 \"/>\n<path style=\"fill-rule:nonzero;fill:rgb(100%,0%,0%);fill-opacity:1;stroke-width:1;stroke-linecap:butt;stroke-linejoin:miter;stroke:rgb(0%,0%,0%);stroke-opacity:1;stroke-miterlimit:10;\" d=\"M 202.597656 228.105469 C 202.597656 230.105469 199.597656 230.105469 199.597656 228.105469 C 199.597656 226.105469 202.597656 226.105469 202.597656 228.105469 \"/>\n<path style=\"fill-rule:nonzero;fill:rgb(100%,0%,0%);fill-opacity:1;stroke-width:1;stroke-linecap:butt;stroke-linejoin:miter;stroke:rgb(0%,0%,0%);stroke-opacity:1;stroke-miterlimit:10;\" d=\"M 198.710938 20 C 198.710938 22 195.710938 22 195.710938 20 C 195.710938 18 198.710938 18 198.710938 20 \"/>\n</g>\n</svg>\n"
          },
          "metadata": {
            "image/svg+xml": {
              "isolated": true
            }
          },
          "execution_count": 3
        }
      ],
      "source": [
        "net = ig.Graph.Erdos_Renyi(100, p=1/150)\n",
        "\n",
        "print('the criterion is: ' + str(Molloy_Reed(net)))\n",
        "ig.plot(net, bbox=(400, 400),vertex_size=3)"
      ]
    },
    {
      "cell_type": "code",
      "execution_count": 4,
      "id": "5562394c",
      "metadata": {
        "id": "5562394c",
        "outputId": "5812bfc0-909f-4036-9a09-cfe5846b0605",
        "colab": {
          "base_uri": "https://localhost:8080/",
          "height": 572
        }
      },
      "outputs": [
        {
          "output_type": "stream",
          "name": "stdout",
          "text": [
            "the criterion is: 2.0\n"
          ]
        },
        {
          "output_type": "execute_result",
          "data": {
            "text/plain": [
              "<igraph.drawing.cairo.plot.CairoPlot at 0x7f3654ddf5e0>"
            ],
            "image/svg+xml": "<?xml version=\"1.0\" encoding=\"UTF-8\"?>\n<svg xmlns=\"http://www.w3.org/2000/svg\" xmlns:xlink=\"http://www.w3.org/1999/xlink\" width=\"400pt\" height=\"400pt\" viewBox=\"0 0 400 400\" version=\"1.1\">\n<g id=\"surface8\">\n<rect x=\"0\" y=\"0\" width=\"400\" height=\"400\" style=\"fill:rgb(100%,100%,100%);fill-opacity:1;stroke:none;\"/>\n<path style=\"fill:none;stroke-width:1;stroke-linecap:butt;stroke-linejoin:miter;stroke:rgb(26.666667%,26.666667%,26.666667%);stroke-opacity:1;stroke-miterlimit:10;\" d=\"M 380 200 L 379.644531 211.300781 \"/>\n<path style=\"fill:none;stroke-width:1;stroke-linecap:butt;stroke-linejoin:miter;stroke:rgb(26.666667%,26.666667%,26.666667%);stroke-opacity:1;stroke-miterlimit:10;\" d=\"M 379.644531 211.300781 L 378.582031 222.558594 \"/>\n<path style=\"fill:none;stroke-width:1;stroke-linecap:butt;stroke-linejoin:miter;stroke:rgb(26.666667%,26.666667%,26.666667%);stroke-opacity:1;stroke-miterlimit:10;\" d=\"M 378.582031 222.558594 L 376.8125 233.730469 \"/>\n<path style=\"fill:none;stroke-width:1;stroke-linecap:butt;stroke-linejoin:miter;stroke:rgb(26.666667%,26.666667%,26.666667%);stroke-opacity:1;stroke-miterlimit:10;\" d=\"M 376.8125 233.730469 L 374.34375 244.765625 \"/>\n<path style=\"fill:none;stroke-width:1;stroke-linecap:butt;stroke-linejoin:miter;stroke:rgb(26.666667%,26.666667%,26.666667%);stroke-opacity:1;stroke-miterlimit:10;\" d=\"M 374.34375 244.765625 L 371.191406 255.625 \"/>\n<path style=\"fill:none;stroke-width:1;stroke-linecap:butt;stroke-linejoin:miter;stroke:rgb(26.666667%,26.666667%,26.666667%);stroke-opacity:1;stroke-miterlimit:10;\" d=\"M 371.191406 255.625 L 367.359375 266.261719 \"/>\n<path style=\"fill:none;stroke-width:1;stroke-linecap:butt;stroke-linejoin:miter;stroke:rgb(26.666667%,26.666667%,26.666667%);stroke-opacity:1;stroke-miterlimit:10;\" d=\"M 367.359375 266.261719 L 362.867188 276.640625 \"/>\n<path style=\"fill:none;stroke-width:1;stroke-linecap:butt;stroke-linejoin:miter;stroke:rgb(26.666667%,26.666667%,26.666667%);stroke-opacity:1;stroke-miterlimit:10;\" d=\"M 362.867188 276.640625 L 357.734375 286.714844 \"/>\n<path style=\"fill:none;stroke-width:1;stroke-linecap:butt;stroke-linejoin:miter;stroke:rgb(26.666667%,26.666667%,26.666667%);stroke-opacity:1;stroke-miterlimit:10;\" d=\"M 357.734375 286.714844 L 351.980469 296.449219 \"/>\n<path style=\"fill:none;stroke-width:1;stroke-linecap:butt;stroke-linejoin:miter;stroke:rgb(26.666667%,26.666667%,26.666667%);stroke-opacity:1;stroke-miterlimit:10;\" d=\"M 351.980469 296.449219 L 345.625 305.800781 \"/>\n<path style=\"fill:none;stroke-width:1;stroke-linecap:butt;stroke-linejoin:miter;stroke:rgb(26.666667%,26.666667%,26.666667%);stroke-opacity:1;stroke-miterlimit:10;\" d=\"M 345.625 305.800781 L 338.691406 314.734375 \"/>\n<path style=\"fill:none;stroke-width:1;stroke-linecap:butt;stroke-linejoin:miter;stroke:rgb(26.666667%,26.666667%,26.666667%);stroke-opacity:1;stroke-miterlimit:10;\" d=\"M 338.691406 314.734375 L 331.214844 323.21875 \"/>\n<path style=\"fill:none;stroke-width:1;stroke-linecap:butt;stroke-linejoin:miter;stroke:rgb(26.666667%,26.666667%,26.666667%);stroke-opacity:1;stroke-miterlimit:10;\" d=\"M 331.214844 323.21875 L 323.21875 331.214844 \"/>\n<path style=\"fill:none;stroke-width:1;stroke-linecap:butt;stroke-linejoin:miter;stroke:rgb(26.666667%,26.666667%,26.666667%);stroke-opacity:1;stroke-miterlimit:10;\" d=\"M 323.21875 331.214844 L 314.734375 338.691406 \"/>\n<path style=\"fill:none;stroke-width:1;stroke-linecap:butt;stroke-linejoin:miter;stroke:rgb(26.666667%,26.666667%,26.666667%);stroke-opacity:1;stroke-miterlimit:10;\" d=\"M 314.734375 338.691406 L 305.800781 345.625 \"/>\n<path style=\"fill:none;stroke-width:1;stroke-linecap:butt;stroke-linejoin:miter;stroke:rgb(26.666667%,26.666667%,26.666667%);stroke-opacity:1;stroke-miterlimit:10;\" d=\"M 305.800781 345.625 L 296.449219 351.980469 \"/>\n<path style=\"fill:none;stroke-width:1;stroke-linecap:butt;stroke-linejoin:miter;stroke:rgb(26.666667%,26.666667%,26.666667%);stroke-opacity:1;stroke-miterlimit:10;\" d=\"M 296.449219 351.980469 L 286.714844 357.734375 \"/>\n<path style=\"fill:none;stroke-width:1;stroke-linecap:butt;stroke-linejoin:miter;stroke:rgb(26.666667%,26.666667%,26.666667%);stroke-opacity:1;stroke-miterlimit:10;\" d=\"M 286.714844 357.734375 L 276.640625 362.867188 \"/>\n<path style=\"fill:none;stroke-width:1;stroke-linecap:butt;stroke-linejoin:miter;stroke:rgb(26.666667%,26.666667%,26.666667%);stroke-opacity:1;stroke-miterlimit:10;\" d=\"M 276.640625 362.867188 L 266.261719 367.359375 \"/>\n<path style=\"fill:none;stroke-width:1;stroke-linecap:butt;stroke-linejoin:miter;stroke:rgb(26.666667%,26.666667%,26.666667%);stroke-opacity:1;stroke-miterlimit:10;\" d=\"M 266.261719 367.359375 L 255.625 371.191406 \"/>\n<path style=\"fill:none;stroke-width:1;stroke-linecap:butt;stroke-linejoin:miter;stroke:rgb(26.666667%,26.666667%,26.666667%);stroke-opacity:1;stroke-miterlimit:10;\" d=\"M 255.625 371.191406 L 244.765625 374.34375 \"/>\n<path style=\"fill:none;stroke-width:1;stroke-linecap:butt;stroke-linejoin:miter;stroke:rgb(26.666667%,26.666667%,26.666667%);stroke-opacity:1;stroke-miterlimit:10;\" d=\"M 244.765625 374.34375 L 233.730469 376.8125 \"/>\n<path style=\"fill:none;stroke-width:1;stroke-linecap:butt;stroke-linejoin:miter;stroke:rgb(26.666667%,26.666667%,26.666667%);stroke-opacity:1;stroke-miterlimit:10;\" d=\"M 233.730469 376.8125 L 222.558594 378.582031 \"/>\n<path style=\"fill:none;stroke-width:1;stroke-linecap:butt;stroke-linejoin:miter;stroke:rgb(26.666667%,26.666667%,26.666667%);stroke-opacity:1;stroke-miterlimit:10;\" d=\"M 222.558594 378.582031 L 211.300781 379.644531 \"/>\n<path style=\"fill:none;stroke-width:1;stroke-linecap:butt;stroke-linejoin:miter;stroke:rgb(26.666667%,26.666667%,26.666667%);stroke-opacity:1;stroke-miterlimit:10;\" d=\"M 211.300781 379.644531 L 200 380 \"/>\n<path style=\"fill:none;stroke-width:1;stroke-linecap:butt;stroke-linejoin:miter;stroke:rgb(26.666667%,26.666667%,26.666667%);stroke-opacity:1;stroke-miterlimit:10;\" d=\"M 200 380 L 188.699219 379.644531 \"/>\n<path style=\"fill:none;stroke-width:1;stroke-linecap:butt;stroke-linejoin:miter;stroke:rgb(26.666667%,26.666667%,26.666667%);stroke-opacity:1;stroke-miterlimit:10;\" d=\"M 188.699219 379.644531 L 177.441406 378.582031 \"/>\n<path style=\"fill:none;stroke-width:1;stroke-linecap:butt;stroke-linejoin:miter;stroke:rgb(26.666667%,26.666667%,26.666667%);stroke-opacity:1;stroke-miterlimit:10;\" d=\"M 177.441406 378.582031 L 166.269531 376.8125 \"/>\n<path style=\"fill:none;stroke-width:1;stroke-linecap:butt;stroke-linejoin:miter;stroke:rgb(26.666667%,26.666667%,26.666667%);stroke-opacity:1;stroke-miterlimit:10;\" d=\"M 166.269531 376.8125 L 155.234375 374.34375 \"/>\n<path style=\"fill:none;stroke-width:1;stroke-linecap:butt;stroke-linejoin:miter;stroke:rgb(26.666667%,26.666667%,26.666667%);stroke-opacity:1;stroke-miterlimit:10;\" d=\"M 155.234375 374.34375 L 144.375 371.191406 \"/>\n<path style=\"fill:none;stroke-width:1;stroke-linecap:butt;stroke-linejoin:miter;stroke:rgb(26.666667%,26.666667%,26.666667%);stroke-opacity:1;stroke-miterlimit:10;\" d=\"M 144.375 371.191406 L 133.738281 367.359375 \"/>\n<path style=\"fill:none;stroke-width:1;stroke-linecap:butt;stroke-linejoin:miter;stroke:rgb(26.666667%,26.666667%,26.666667%);stroke-opacity:1;stroke-miterlimit:10;\" d=\"M 133.738281 367.359375 L 123.359375 362.867188 \"/>\n<path style=\"fill:none;stroke-width:1;stroke-linecap:butt;stroke-linejoin:miter;stroke:rgb(26.666667%,26.666667%,26.666667%);stroke-opacity:1;stroke-miterlimit:10;\" d=\"M 123.359375 362.867188 L 113.285156 357.734375 \"/>\n<path style=\"fill:none;stroke-width:1;stroke-linecap:butt;stroke-linejoin:miter;stroke:rgb(26.666667%,26.666667%,26.666667%);stroke-opacity:1;stroke-miterlimit:10;\" d=\"M 113.285156 357.734375 L 103.550781 351.980469 \"/>\n<path style=\"fill:none;stroke-width:1;stroke-linecap:butt;stroke-linejoin:miter;stroke:rgb(26.666667%,26.666667%,26.666667%);stroke-opacity:1;stroke-miterlimit:10;\" d=\"M 103.550781 351.980469 L 94.199219 345.625 \"/>\n<path style=\"fill:none;stroke-width:1;stroke-linecap:butt;stroke-linejoin:miter;stroke:rgb(26.666667%,26.666667%,26.666667%);stroke-opacity:1;stroke-miterlimit:10;\" d=\"M 94.199219 345.625 L 85.265625 338.691406 \"/>\n<path style=\"fill:none;stroke-width:1;stroke-linecap:butt;stroke-linejoin:miter;stroke:rgb(26.666667%,26.666667%,26.666667%);stroke-opacity:1;stroke-miterlimit:10;\" d=\"M 85.265625 338.691406 L 76.78125 331.214844 \"/>\n<path style=\"fill:none;stroke-width:1;stroke-linecap:butt;stroke-linejoin:miter;stroke:rgb(26.666667%,26.666667%,26.666667%);stroke-opacity:1;stroke-miterlimit:10;\" d=\"M 76.78125 331.214844 L 68.785156 323.21875 \"/>\n<path style=\"fill:none;stroke-width:1;stroke-linecap:butt;stroke-linejoin:miter;stroke:rgb(26.666667%,26.666667%,26.666667%);stroke-opacity:1;stroke-miterlimit:10;\" d=\"M 68.785156 323.21875 L 61.308594 314.734375 \"/>\n<path style=\"fill:none;stroke-width:1;stroke-linecap:butt;stroke-linejoin:miter;stroke:rgb(26.666667%,26.666667%,26.666667%);stroke-opacity:1;stroke-miterlimit:10;\" d=\"M 61.308594 314.734375 L 54.375 305.800781 \"/>\n<path style=\"fill:none;stroke-width:1;stroke-linecap:butt;stroke-linejoin:miter;stroke:rgb(26.666667%,26.666667%,26.666667%);stroke-opacity:1;stroke-miterlimit:10;\" d=\"M 54.375 305.800781 L 48.019531 296.449219 \"/>\n<path style=\"fill:none;stroke-width:1;stroke-linecap:butt;stroke-linejoin:miter;stroke:rgb(26.666667%,26.666667%,26.666667%);stroke-opacity:1;stroke-miterlimit:10;\" d=\"M 48.019531 296.449219 L 42.265625 286.714844 \"/>\n<path style=\"fill:none;stroke-width:1;stroke-linecap:butt;stroke-linejoin:miter;stroke:rgb(26.666667%,26.666667%,26.666667%);stroke-opacity:1;stroke-miterlimit:10;\" d=\"M 42.265625 286.714844 L 37.132812 276.640625 \"/>\n<path style=\"fill:none;stroke-width:1;stroke-linecap:butt;stroke-linejoin:miter;stroke:rgb(26.666667%,26.666667%,26.666667%);stroke-opacity:1;stroke-miterlimit:10;\" d=\"M 37.132812 276.640625 L 32.640625 266.261719 \"/>\n<path style=\"fill:none;stroke-width:1;stroke-linecap:butt;stroke-linejoin:miter;stroke:rgb(26.666667%,26.666667%,26.666667%);stroke-opacity:1;stroke-miterlimit:10;\" d=\"M 32.640625 266.261719 L 28.808594 255.625 \"/>\n<path style=\"fill:none;stroke-width:1;stroke-linecap:butt;stroke-linejoin:miter;stroke:rgb(26.666667%,26.666667%,26.666667%);stroke-opacity:1;stroke-miterlimit:10;\" d=\"M 28.808594 255.625 L 25.65625 244.765625 \"/>\n<path style=\"fill:none;stroke-width:1;stroke-linecap:butt;stroke-linejoin:miter;stroke:rgb(26.666667%,26.666667%,26.666667%);stroke-opacity:1;stroke-miterlimit:10;\" d=\"M 25.65625 244.765625 L 23.1875 233.730469 \"/>\n<path style=\"fill:none;stroke-width:1;stroke-linecap:butt;stroke-linejoin:miter;stroke:rgb(26.666667%,26.666667%,26.666667%);stroke-opacity:1;stroke-miterlimit:10;\" d=\"M 23.1875 233.730469 L 21.417969 222.558594 \"/>\n<path style=\"fill:none;stroke-width:1;stroke-linecap:butt;stroke-linejoin:miter;stroke:rgb(26.666667%,26.666667%,26.666667%);stroke-opacity:1;stroke-miterlimit:10;\" d=\"M 21.417969 222.558594 L 20.355469 211.300781 \"/>\n<path style=\"fill:none;stroke-width:1;stroke-linecap:butt;stroke-linejoin:miter;stroke:rgb(26.666667%,26.666667%,26.666667%);stroke-opacity:1;stroke-miterlimit:10;\" d=\"M 20.355469 211.300781 L 20 200 \"/>\n<path style=\"fill:none;stroke-width:1;stroke-linecap:butt;stroke-linejoin:miter;stroke:rgb(26.666667%,26.666667%,26.666667%);stroke-opacity:1;stroke-miterlimit:10;\" d=\"M 20 200 L 20.355469 188.699219 \"/>\n<path style=\"fill:none;stroke-width:1;stroke-linecap:butt;stroke-linejoin:miter;stroke:rgb(26.666667%,26.666667%,26.666667%);stroke-opacity:1;stroke-miterlimit:10;\" d=\"M 20.355469 188.699219 L 21.417969 177.441406 \"/>\n<path style=\"fill:none;stroke-width:1;stroke-linecap:butt;stroke-linejoin:miter;stroke:rgb(26.666667%,26.666667%,26.666667%);stroke-opacity:1;stroke-miterlimit:10;\" d=\"M 21.417969 177.441406 L 23.1875 166.269531 \"/>\n<path style=\"fill:none;stroke-width:1;stroke-linecap:butt;stroke-linejoin:miter;stroke:rgb(26.666667%,26.666667%,26.666667%);stroke-opacity:1;stroke-miterlimit:10;\" d=\"M 23.1875 166.269531 L 25.65625 155.234375 \"/>\n<path style=\"fill:none;stroke-width:1;stroke-linecap:butt;stroke-linejoin:miter;stroke:rgb(26.666667%,26.666667%,26.666667%);stroke-opacity:1;stroke-miterlimit:10;\" d=\"M 25.65625 155.234375 L 28.808594 144.375 \"/>\n<path style=\"fill:none;stroke-width:1;stroke-linecap:butt;stroke-linejoin:miter;stroke:rgb(26.666667%,26.666667%,26.666667%);stroke-opacity:1;stroke-miterlimit:10;\" d=\"M 28.808594 144.375 L 32.640625 133.738281 \"/>\n<path style=\"fill:none;stroke-width:1;stroke-linecap:butt;stroke-linejoin:miter;stroke:rgb(26.666667%,26.666667%,26.666667%);stroke-opacity:1;stroke-miterlimit:10;\" d=\"M 32.640625 133.738281 L 37.132812 123.359375 \"/>\n<path style=\"fill:none;stroke-width:1;stroke-linecap:butt;stroke-linejoin:miter;stroke:rgb(26.666667%,26.666667%,26.666667%);stroke-opacity:1;stroke-miterlimit:10;\" d=\"M 37.132812 123.359375 L 42.265625 113.285156 \"/>\n<path style=\"fill:none;stroke-width:1;stroke-linecap:butt;stroke-linejoin:miter;stroke:rgb(26.666667%,26.666667%,26.666667%);stroke-opacity:1;stroke-miterlimit:10;\" d=\"M 42.265625 113.285156 L 48.019531 103.550781 \"/>\n<path style=\"fill:none;stroke-width:1;stroke-linecap:butt;stroke-linejoin:miter;stroke:rgb(26.666667%,26.666667%,26.666667%);stroke-opacity:1;stroke-miterlimit:10;\" d=\"M 48.019531 103.550781 L 54.375 94.199219 \"/>\n<path style=\"fill:none;stroke-width:1;stroke-linecap:butt;stroke-linejoin:miter;stroke:rgb(26.666667%,26.666667%,26.666667%);stroke-opacity:1;stroke-miterlimit:10;\" d=\"M 54.375 94.199219 L 61.308594 85.265625 \"/>\n<path style=\"fill:none;stroke-width:1;stroke-linecap:butt;stroke-linejoin:miter;stroke:rgb(26.666667%,26.666667%,26.666667%);stroke-opacity:1;stroke-miterlimit:10;\" d=\"M 61.308594 85.265625 L 68.785156 76.78125 \"/>\n<path style=\"fill:none;stroke-width:1;stroke-linecap:butt;stroke-linejoin:miter;stroke:rgb(26.666667%,26.666667%,26.666667%);stroke-opacity:1;stroke-miterlimit:10;\" d=\"M 68.785156 76.78125 L 76.78125 68.785156 \"/>\n<path style=\"fill:none;stroke-width:1;stroke-linecap:butt;stroke-linejoin:miter;stroke:rgb(26.666667%,26.666667%,26.666667%);stroke-opacity:1;stroke-miterlimit:10;\" d=\"M 76.78125 68.785156 L 85.265625 61.308594 \"/>\n<path style=\"fill:none;stroke-width:1;stroke-linecap:butt;stroke-linejoin:miter;stroke:rgb(26.666667%,26.666667%,26.666667%);stroke-opacity:1;stroke-miterlimit:10;\" d=\"M 85.265625 61.308594 L 94.199219 54.375 \"/>\n<path style=\"fill:none;stroke-width:1;stroke-linecap:butt;stroke-linejoin:miter;stroke:rgb(26.666667%,26.666667%,26.666667%);stroke-opacity:1;stroke-miterlimit:10;\" d=\"M 94.199219 54.375 L 103.550781 48.019531 \"/>\n<path style=\"fill:none;stroke-width:1;stroke-linecap:butt;stroke-linejoin:miter;stroke:rgb(26.666667%,26.666667%,26.666667%);stroke-opacity:1;stroke-miterlimit:10;\" d=\"M 103.550781 48.019531 L 113.285156 42.265625 \"/>\n<path style=\"fill:none;stroke-width:1;stroke-linecap:butt;stroke-linejoin:miter;stroke:rgb(26.666667%,26.666667%,26.666667%);stroke-opacity:1;stroke-miterlimit:10;\" d=\"M 113.285156 42.265625 L 123.359375 37.132812 \"/>\n<path style=\"fill:none;stroke-width:1;stroke-linecap:butt;stroke-linejoin:miter;stroke:rgb(26.666667%,26.666667%,26.666667%);stroke-opacity:1;stroke-miterlimit:10;\" d=\"M 123.359375 37.132812 L 133.738281 32.640625 \"/>\n<path style=\"fill:none;stroke-width:1;stroke-linecap:butt;stroke-linejoin:miter;stroke:rgb(26.666667%,26.666667%,26.666667%);stroke-opacity:1;stroke-miterlimit:10;\" d=\"M 133.738281 32.640625 L 144.375 28.808594 \"/>\n<path style=\"fill:none;stroke-width:1;stroke-linecap:butt;stroke-linejoin:miter;stroke:rgb(26.666667%,26.666667%,26.666667%);stroke-opacity:1;stroke-miterlimit:10;\" d=\"M 144.375 28.808594 L 155.234375 25.65625 \"/>\n<path style=\"fill:none;stroke-width:1;stroke-linecap:butt;stroke-linejoin:miter;stroke:rgb(26.666667%,26.666667%,26.666667%);stroke-opacity:1;stroke-miterlimit:10;\" d=\"M 155.234375 25.65625 L 166.269531 23.1875 \"/>\n<path style=\"fill:none;stroke-width:1;stroke-linecap:butt;stroke-linejoin:miter;stroke:rgb(26.666667%,26.666667%,26.666667%);stroke-opacity:1;stroke-miterlimit:10;\" d=\"M 166.269531 23.1875 L 177.441406 21.417969 \"/>\n<path style=\"fill:none;stroke-width:1;stroke-linecap:butt;stroke-linejoin:miter;stroke:rgb(26.666667%,26.666667%,26.666667%);stroke-opacity:1;stroke-miterlimit:10;\" d=\"M 177.441406 21.417969 L 188.699219 20.355469 \"/>\n<path style=\"fill:none;stroke-width:1;stroke-linecap:butt;stroke-linejoin:miter;stroke:rgb(26.666667%,26.666667%,26.666667%);stroke-opacity:1;stroke-miterlimit:10;\" d=\"M 188.699219 20.355469 L 200 20 \"/>\n<path style=\"fill:none;stroke-width:1;stroke-linecap:butt;stroke-linejoin:miter;stroke:rgb(26.666667%,26.666667%,26.666667%);stroke-opacity:1;stroke-miterlimit:10;\" d=\"M 200 20 L 211.300781 20.355469 \"/>\n<path style=\"fill:none;stroke-width:1;stroke-linecap:butt;stroke-linejoin:miter;stroke:rgb(26.666667%,26.666667%,26.666667%);stroke-opacity:1;stroke-miterlimit:10;\" d=\"M 211.300781 20.355469 L 222.558594 21.417969 \"/>\n<path style=\"fill:none;stroke-width:1;stroke-linecap:butt;stroke-linejoin:miter;stroke:rgb(26.666667%,26.666667%,26.666667%);stroke-opacity:1;stroke-miterlimit:10;\" d=\"M 222.558594 21.417969 L 233.730469 23.1875 \"/>\n<path style=\"fill:none;stroke-width:1;stroke-linecap:butt;stroke-linejoin:miter;stroke:rgb(26.666667%,26.666667%,26.666667%);stroke-opacity:1;stroke-miterlimit:10;\" d=\"M 233.730469 23.1875 L 244.765625 25.65625 \"/>\n<path style=\"fill:none;stroke-width:1;stroke-linecap:butt;stroke-linejoin:miter;stroke:rgb(26.666667%,26.666667%,26.666667%);stroke-opacity:1;stroke-miterlimit:10;\" d=\"M 244.765625 25.65625 L 255.625 28.808594 \"/>\n<path style=\"fill:none;stroke-width:1;stroke-linecap:butt;stroke-linejoin:miter;stroke:rgb(26.666667%,26.666667%,26.666667%);stroke-opacity:1;stroke-miterlimit:10;\" d=\"M 255.625 28.808594 L 266.261719 32.640625 \"/>\n<path style=\"fill:none;stroke-width:1;stroke-linecap:butt;stroke-linejoin:miter;stroke:rgb(26.666667%,26.666667%,26.666667%);stroke-opacity:1;stroke-miterlimit:10;\" d=\"M 266.261719 32.640625 L 276.640625 37.132812 \"/>\n<path style=\"fill:none;stroke-width:1;stroke-linecap:butt;stroke-linejoin:miter;stroke:rgb(26.666667%,26.666667%,26.666667%);stroke-opacity:1;stroke-miterlimit:10;\" d=\"M 276.640625 37.132812 L 286.714844 42.265625 \"/>\n<path style=\"fill:none;stroke-width:1;stroke-linecap:butt;stroke-linejoin:miter;stroke:rgb(26.666667%,26.666667%,26.666667%);stroke-opacity:1;stroke-miterlimit:10;\" d=\"M 286.714844 42.265625 L 296.449219 48.019531 \"/>\n<path style=\"fill:none;stroke-width:1;stroke-linecap:butt;stroke-linejoin:miter;stroke:rgb(26.666667%,26.666667%,26.666667%);stroke-opacity:1;stroke-miterlimit:10;\" d=\"M 296.449219 48.019531 L 305.800781 54.375 \"/>\n<path style=\"fill:none;stroke-width:1;stroke-linecap:butt;stroke-linejoin:miter;stroke:rgb(26.666667%,26.666667%,26.666667%);stroke-opacity:1;stroke-miterlimit:10;\" d=\"M 305.800781 54.375 L 314.734375 61.308594 \"/>\n<path style=\"fill:none;stroke-width:1;stroke-linecap:butt;stroke-linejoin:miter;stroke:rgb(26.666667%,26.666667%,26.666667%);stroke-opacity:1;stroke-miterlimit:10;\" d=\"M 314.734375 61.308594 L 323.21875 68.785156 \"/>\n<path style=\"fill:none;stroke-width:1;stroke-linecap:butt;stroke-linejoin:miter;stroke:rgb(26.666667%,26.666667%,26.666667%);stroke-opacity:1;stroke-miterlimit:10;\" d=\"M 323.21875 68.785156 L 331.214844 76.78125 \"/>\n<path style=\"fill:none;stroke-width:1;stroke-linecap:butt;stroke-linejoin:miter;stroke:rgb(26.666667%,26.666667%,26.666667%);stroke-opacity:1;stroke-miterlimit:10;\" d=\"M 331.214844 76.78125 L 338.691406 85.265625 \"/>\n<path style=\"fill:none;stroke-width:1;stroke-linecap:butt;stroke-linejoin:miter;stroke:rgb(26.666667%,26.666667%,26.666667%);stroke-opacity:1;stroke-miterlimit:10;\" d=\"M 338.691406 85.265625 L 345.625 94.199219 \"/>\n<path style=\"fill:none;stroke-width:1;stroke-linecap:butt;stroke-linejoin:miter;stroke:rgb(26.666667%,26.666667%,26.666667%);stroke-opacity:1;stroke-miterlimit:10;\" d=\"M 345.625 94.199219 L 351.980469 103.550781 \"/>\n<path style=\"fill:none;stroke-width:1;stroke-linecap:butt;stroke-linejoin:miter;stroke:rgb(26.666667%,26.666667%,26.666667%);stroke-opacity:1;stroke-miterlimit:10;\" d=\"M 351.980469 103.550781 L 357.734375 113.285156 \"/>\n<path style=\"fill:none;stroke-width:1;stroke-linecap:butt;stroke-linejoin:miter;stroke:rgb(26.666667%,26.666667%,26.666667%);stroke-opacity:1;stroke-miterlimit:10;\" d=\"M 357.734375 113.285156 L 362.867188 123.359375 \"/>\n<path style=\"fill:none;stroke-width:1;stroke-linecap:butt;stroke-linejoin:miter;stroke:rgb(26.666667%,26.666667%,26.666667%);stroke-opacity:1;stroke-miterlimit:10;\" d=\"M 362.867188 123.359375 L 367.359375 133.738281 \"/>\n<path style=\"fill:none;stroke-width:1;stroke-linecap:butt;stroke-linejoin:miter;stroke:rgb(26.666667%,26.666667%,26.666667%);stroke-opacity:1;stroke-miterlimit:10;\" d=\"M 367.359375 133.738281 L 371.191406 144.375 \"/>\n<path style=\"fill:none;stroke-width:1;stroke-linecap:butt;stroke-linejoin:miter;stroke:rgb(26.666667%,26.666667%,26.666667%);stroke-opacity:1;stroke-miterlimit:10;\" d=\"M 371.191406 144.375 L 374.34375 155.234375 \"/>\n<path style=\"fill:none;stroke-width:1;stroke-linecap:butt;stroke-linejoin:miter;stroke:rgb(26.666667%,26.666667%,26.666667%);stroke-opacity:1;stroke-miterlimit:10;\" d=\"M 374.34375 155.234375 L 376.8125 166.269531 \"/>\n<path style=\"fill:none;stroke-width:1;stroke-linecap:butt;stroke-linejoin:miter;stroke:rgb(26.666667%,26.666667%,26.666667%);stroke-opacity:1;stroke-miterlimit:10;\" d=\"M 376.8125 166.269531 L 378.582031 177.441406 \"/>\n<path style=\"fill:none;stroke-width:1;stroke-linecap:butt;stroke-linejoin:miter;stroke:rgb(26.666667%,26.666667%,26.666667%);stroke-opacity:1;stroke-miterlimit:10;\" d=\"M 378.582031 177.441406 L 379.644531 188.699219 \"/>\n<path style=\"fill:none;stroke-width:1;stroke-linecap:butt;stroke-linejoin:miter;stroke:rgb(26.666667%,26.666667%,26.666667%);stroke-opacity:1;stroke-miterlimit:10;\" d=\"M 380 200 L 379.644531 188.699219 \"/>\n<path style=\"fill-rule:nonzero;fill:rgb(100%,0%,0%);fill-opacity:1;stroke-width:1;stroke-linecap:butt;stroke-linejoin:miter;stroke:rgb(0%,0%,0%);stroke-opacity:1;stroke-miterlimit:10;\" d=\"M 381.5 200 C 381.5 202 378.5 202 378.5 200 C 378.5 198 381.5 198 381.5 200 \"/>\n<path style=\"fill-rule:nonzero;fill:rgb(100%,0%,0%);fill-opacity:1;stroke-width:1;stroke-linecap:butt;stroke-linejoin:miter;stroke:rgb(0%,0%,0%);stroke-opacity:1;stroke-miterlimit:10;\" d=\"M 381.144531 211.300781 C 381.144531 213.300781 378.144531 213.300781 378.144531 211.300781 C 378.144531 209.300781 381.144531 209.300781 381.144531 211.300781 \"/>\n<path style=\"fill-rule:nonzero;fill:rgb(100%,0%,0%);fill-opacity:1;stroke-width:1;stroke-linecap:butt;stroke-linejoin:miter;stroke:rgb(0%,0%,0%);stroke-opacity:1;stroke-miterlimit:10;\" d=\"M 380.082031 222.558594 C 380.082031 224.558594 377.082031 224.558594 377.082031 222.558594 C 377.082031 220.558594 380.082031 220.558594 380.082031 222.558594 \"/>\n<path style=\"fill-rule:nonzero;fill:rgb(100%,0%,0%);fill-opacity:1;stroke-width:1;stroke-linecap:butt;stroke-linejoin:miter;stroke:rgb(0%,0%,0%);stroke-opacity:1;stroke-miterlimit:10;\" d=\"M 378.3125 233.730469 C 378.3125 235.730469 375.3125 235.730469 375.3125 233.730469 C 375.3125 231.730469 378.3125 231.730469 378.3125 233.730469 \"/>\n<path style=\"fill-rule:nonzero;fill:rgb(100%,0%,0%);fill-opacity:1;stroke-width:1;stroke-linecap:butt;stroke-linejoin:miter;stroke:rgb(0%,0%,0%);stroke-opacity:1;stroke-miterlimit:10;\" d=\"M 375.84375 244.765625 C 375.84375 246.765625 372.84375 246.765625 372.84375 244.765625 C 372.84375 242.765625 375.84375 242.765625 375.84375 244.765625 \"/>\n<path style=\"fill-rule:nonzero;fill:rgb(100%,0%,0%);fill-opacity:1;stroke-width:1;stroke-linecap:butt;stroke-linejoin:miter;stroke:rgb(0%,0%,0%);stroke-opacity:1;stroke-miterlimit:10;\" d=\"M 372.691406 255.625 C 372.691406 257.625 369.691406 257.625 369.691406 255.625 C 369.691406 253.625 372.691406 253.625 372.691406 255.625 \"/>\n<path style=\"fill-rule:nonzero;fill:rgb(100%,0%,0%);fill-opacity:1;stroke-width:1;stroke-linecap:butt;stroke-linejoin:miter;stroke:rgb(0%,0%,0%);stroke-opacity:1;stroke-miterlimit:10;\" d=\"M 368.859375 266.261719 C 368.859375 268.261719 365.859375 268.261719 365.859375 266.261719 C 365.859375 264.261719 368.859375 264.261719 368.859375 266.261719 \"/>\n<path style=\"fill-rule:nonzero;fill:rgb(100%,0%,0%);fill-opacity:1;stroke-width:1;stroke-linecap:butt;stroke-linejoin:miter;stroke:rgb(0%,0%,0%);stroke-opacity:1;stroke-miterlimit:10;\" d=\"M 364.367188 276.640625 C 364.367188 278.640625 361.367188 278.640625 361.367188 276.640625 C 361.367188 274.640625 364.367188 274.640625 364.367188 276.640625 \"/>\n<path style=\"fill-rule:nonzero;fill:rgb(100%,0%,0%);fill-opacity:1;stroke-width:1;stroke-linecap:butt;stroke-linejoin:miter;stroke:rgb(0%,0%,0%);stroke-opacity:1;stroke-miterlimit:10;\" d=\"M 359.234375 286.714844 C 359.234375 288.714844 356.234375 288.714844 356.234375 286.714844 C 356.234375 284.714844 359.234375 284.714844 359.234375 286.714844 \"/>\n<path style=\"fill-rule:nonzero;fill:rgb(100%,0%,0%);fill-opacity:1;stroke-width:1;stroke-linecap:butt;stroke-linejoin:miter;stroke:rgb(0%,0%,0%);stroke-opacity:1;stroke-miterlimit:10;\" d=\"M 353.480469 296.449219 C 353.480469 298.449219 350.480469 298.449219 350.480469 296.449219 C 350.480469 294.449219 353.480469 294.449219 353.480469 296.449219 \"/>\n<path style=\"fill-rule:nonzero;fill:rgb(100%,0%,0%);fill-opacity:1;stroke-width:1;stroke-linecap:butt;stroke-linejoin:miter;stroke:rgb(0%,0%,0%);stroke-opacity:1;stroke-miterlimit:10;\" d=\"M 347.125 305.800781 C 347.125 307.800781 344.125 307.800781 344.125 305.800781 C 344.125 303.800781 347.125 303.800781 347.125 305.800781 \"/>\n<path style=\"fill-rule:nonzero;fill:rgb(100%,0%,0%);fill-opacity:1;stroke-width:1;stroke-linecap:butt;stroke-linejoin:miter;stroke:rgb(0%,0%,0%);stroke-opacity:1;stroke-miterlimit:10;\" d=\"M 340.191406 314.734375 C 340.191406 316.734375 337.191406 316.734375 337.191406 314.734375 C 337.191406 312.734375 340.191406 312.734375 340.191406 314.734375 \"/>\n<path style=\"fill-rule:nonzero;fill:rgb(100%,0%,0%);fill-opacity:1;stroke-width:1;stroke-linecap:butt;stroke-linejoin:miter;stroke:rgb(0%,0%,0%);stroke-opacity:1;stroke-miterlimit:10;\" d=\"M 332.714844 323.21875 C 332.714844 325.21875 329.714844 325.21875 329.714844 323.21875 C 329.714844 321.21875 332.714844 321.21875 332.714844 323.21875 \"/>\n<path style=\"fill-rule:nonzero;fill:rgb(100%,0%,0%);fill-opacity:1;stroke-width:1;stroke-linecap:butt;stroke-linejoin:miter;stroke:rgb(0%,0%,0%);stroke-opacity:1;stroke-miterlimit:10;\" d=\"M 324.71875 331.214844 C 324.71875 333.214844 321.71875 333.214844 321.71875 331.214844 C 321.71875 329.214844 324.71875 329.214844 324.71875 331.214844 \"/>\n<path style=\"fill-rule:nonzero;fill:rgb(100%,0%,0%);fill-opacity:1;stroke-width:1;stroke-linecap:butt;stroke-linejoin:miter;stroke:rgb(0%,0%,0%);stroke-opacity:1;stroke-miterlimit:10;\" d=\"M 316.234375 338.691406 C 316.234375 340.691406 313.234375 340.691406 313.234375 338.691406 C 313.234375 336.691406 316.234375 336.691406 316.234375 338.691406 \"/>\n<path style=\"fill-rule:nonzero;fill:rgb(100%,0%,0%);fill-opacity:1;stroke-width:1;stroke-linecap:butt;stroke-linejoin:miter;stroke:rgb(0%,0%,0%);stroke-opacity:1;stroke-miterlimit:10;\" d=\"M 307.300781 345.625 C 307.300781 347.625 304.300781 347.625 304.300781 345.625 C 304.300781 343.625 307.300781 343.625 307.300781 345.625 \"/>\n<path style=\"fill-rule:nonzero;fill:rgb(100%,0%,0%);fill-opacity:1;stroke-width:1;stroke-linecap:butt;stroke-linejoin:miter;stroke:rgb(0%,0%,0%);stroke-opacity:1;stroke-miterlimit:10;\" d=\"M 297.949219 351.980469 C 297.949219 353.980469 294.949219 353.980469 294.949219 351.980469 C 294.949219 349.980469 297.949219 349.980469 297.949219 351.980469 \"/>\n<path style=\"fill-rule:nonzero;fill:rgb(100%,0%,0%);fill-opacity:1;stroke-width:1;stroke-linecap:butt;stroke-linejoin:miter;stroke:rgb(0%,0%,0%);stroke-opacity:1;stroke-miterlimit:10;\" d=\"M 288.214844 357.734375 C 288.214844 359.734375 285.214844 359.734375 285.214844 357.734375 C 285.214844 355.734375 288.214844 355.734375 288.214844 357.734375 \"/>\n<path style=\"fill-rule:nonzero;fill:rgb(100%,0%,0%);fill-opacity:1;stroke-width:1;stroke-linecap:butt;stroke-linejoin:miter;stroke:rgb(0%,0%,0%);stroke-opacity:1;stroke-miterlimit:10;\" d=\"M 278.140625 362.867188 C 278.140625 364.867188 275.140625 364.867188 275.140625 362.867188 C 275.140625 360.867188 278.140625 360.867188 278.140625 362.867188 \"/>\n<path style=\"fill-rule:nonzero;fill:rgb(100%,0%,0%);fill-opacity:1;stroke-width:1;stroke-linecap:butt;stroke-linejoin:miter;stroke:rgb(0%,0%,0%);stroke-opacity:1;stroke-miterlimit:10;\" d=\"M 267.761719 367.359375 C 267.761719 369.359375 264.761719 369.359375 264.761719 367.359375 C 264.761719 365.359375 267.761719 365.359375 267.761719 367.359375 \"/>\n<path style=\"fill-rule:nonzero;fill:rgb(100%,0%,0%);fill-opacity:1;stroke-width:1;stroke-linecap:butt;stroke-linejoin:miter;stroke:rgb(0%,0%,0%);stroke-opacity:1;stroke-miterlimit:10;\" d=\"M 257.125 371.191406 C 257.125 373.191406 254.125 373.191406 254.125 371.191406 C 254.125 369.191406 257.125 369.191406 257.125 371.191406 \"/>\n<path style=\"fill-rule:nonzero;fill:rgb(100%,0%,0%);fill-opacity:1;stroke-width:1;stroke-linecap:butt;stroke-linejoin:miter;stroke:rgb(0%,0%,0%);stroke-opacity:1;stroke-miterlimit:10;\" d=\"M 246.265625 374.34375 C 246.265625 376.34375 243.265625 376.34375 243.265625 374.34375 C 243.265625 372.34375 246.265625 372.34375 246.265625 374.34375 \"/>\n<path style=\"fill-rule:nonzero;fill:rgb(100%,0%,0%);fill-opacity:1;stroke-width:1;stroke-linecap:butt;stroke-linejoin:miter;stroke:rgb(0%,0%,0%);stroke-opacity:1;stroke-miterlimit:10;\" d=\"M 235.230469 376.8125 C 235.230469 378.8125 232.230469 378.8125 232.230469 376.8125 C 232.230469 374.8125 235.230469 374.8125 235.230469 376.8125 \"/>\n<path style=\"fill-rule:nonzero;fill:rgb(100%,0%,0%);fill-opacity:1;stroke-width:1;stroke-linecap:butt;stroke-linejoin:miter;stroke:rgb(0%,0%,0%);stroke-opacity:1;stroke-miterlimit:10;\" d=\"M 224.058594 378.582031 C 224.058594 380.582031 221.058594 380.582031 221.058594 378.582031 C 221.058594 376.582031 224.058594 376.582031 224.058594 378.582031 \"/>\n<path style=\"fill-rule:nonzero;fill:rgb(100%,0%,0%);fill-opacity:1;stroke-width:1;stroke-linecap:butt;stroke-linejoin:miter;stroke:rgb(0%,0%,0%);stroke-opacity:1;stroke-miterlimit:10;\" d=\"M 212.800781 379.644531 C 212.800781 381.644531 209.800781 381.644531 209.800781 379.644531 C 209.800781 377.644531 212.800781 377.644531 212.800781 379.644531 \"/>\n<path style=\"fill-rule:nonzero;fill:rgb(100%,0%,0%);fill-opacity:1;stroke-width:1;stroke-linecap:butt;stroke-linejoin:miter;stroke:rgb(0%,0%,0%);stroke-opacity:1;stroke-miterlimit:10;\" d=\"M 201.5 380 C 201.5 382 198.5 382 198.5 380 C 198.5 378 201.5 378 201.5 380 \"/>\n<path style=\"fill-rule:nonzero;fill:rgb(100%,0%,0%);fill-opacity:1;stroke-width:1;stroke-linecap:butt;stroke-linejoin:miter;stroke:rgb(0%,0%,0%);stroke-opacity:1;stroke-miterlimit:10;\" d=\"M 190.199219 379.644531 C 190.199219 381.644531 187.199219 381.644531 187.199219 379.644531 C 187.199219 377.644531 190.199219 377.644531 190.199219 379.644531 \"/>\n<path style=\"fill-rule:nonzero;fill:rgb(100%,0%,0%);fill-opacity:1;stroke-width:1;stroke-linecap:butt;stroke-linejoin:miter;stroke:rgb(0%,0%,0%);stroke-opacity:1;stroke-miterlimit:10;\" d=\"M 178.941406 378.582031 C 178.941406 380.582031 175.941406 380.582031 175.941406 378.582031 C 175.941406 376.582031 178.941406 376.582031 178.941406 378.582031 \"/>\n<path style=\"fill-rule:nonzero;fill:rgb(100%,0%,0%);fill-opacity:1;stroke-width:1;stroke-linecap:butt;stroke-linejoin:miter;stroke:rgb(0%,0%,0%);stroke-opacity:1;stroke-miterlimit:10;\" d=\"M 167.769531 376.8125 C 167.769531 378.8125 164.769531 378.8125 164.769531 376.8125 C 164.769531 374.8125 167.769531 374.8125 167.769531 376.8125 \"/>\n<path style=\"fill-rule:nonzero;fill:rgb(100%,0%,0%);fill-opacity:1;stroke-width:1;stroke-linecap:butt;stroke-linejoin:miter;stroke:rgb(0%,0%,0%);stroke-opacity:1;stroke-miterlimit:10;\" d=\"M 156.734375 374.34375 C 156.734375 376.34375 153.734375 376.34375 153.734375 374.34375 C 153.734375 372.34375 156.734375 372.34375 156.734375 374.34375 \"/>\n<path style=\"fill-rule:nonzero;fill:rgb(100%,0%,0%);fill-opacity:1;stroke-width:1;stroke-linecap:butt;stroke-linejoin:miter;stroke:rgb(0%,0%,0%);stroke-opacity:1;stroke-miterlimit:10;\" d=\"M 145.875 371.191406 C 145.875 373.191406 142.875 373.191406 142.875 371.191406 C 142.875 369.191406 145.875 369.191406 145.875 371.191406 \"/>\n<path style=\"fill-rule:nonzero;fill:rgb(100%,0%,0%);fill-opacity:1;stroke-width:1;stroke-linecap:butt;stroke-linejoin:miter;stroke:rgb(0%,0%,0%);stroke-opacity:1;stroke-miterlimit:10;\" d=\"M 135.238281 367.359375 C 135.238281 369.359375 132.238281 369.359375 132.238281 367.359375 C 132.238281 365.359375 135.238281 365.359375 135.238281 367.359375 \"/>\n<path style=\"fill-rule:nonzero;fill:rgb(100%,0%,0%);fill-opacity:1;stroke-width:1;stroke-linecap:butt;stroke-linejoin:miter;stroke:rgb(0%,0%,0%);stroke-opacity:1;stroke-miterlimit:10;\" d=\"M 124.859375 362.867188 C 124.859375 364.867188 121.859375 364.867188 121.859375 362.867188 C 121.859375 360.867188 124.859375 360.867188 124.859375 362.867188 \"/>\n<path style=\"fill-rule:nonzero;fill:rgb(100%,0%,0%);fill-opacity:1;stroke-width:1;stroke-linecap:butt;stroke-linejoin:miter;stroke:rgb(0%,0%,0%);stroke-opacity:1;stroke-miterlimit:10;\" d=\"M 114.785156 357.734375 C 114.785156 359.734375 111.785156 359.734375 111.785156 357.734375 C 111.785156 355.734375 114.785156 355.734375 114.785156 357.734375 \"/>\n<path style=\"fill-rule:nonzero;fill:rgb(100%,0%,0%);fill-opacity:1;stroke-width:1;stroke-linecap:butt;stroke-linejoin:miter;stroke:rgb(0%,0%,0%);stroke-opacity:1;stroke-miterlimit:10;\" d=\"M 105.050781 351.980469 C 105.050781 353.980469 102.050781 353.980469 102.050781 351.980469 C 102.050781 349.980469 105.050781 349.980469 105.050781 351.980469 \"/>\n<path style=\"fill-rule:nonzero;fill:rgb(100%,0%,0%);fill-opacity:1;stroke-width:1;stroke-linecap:butt;stroke-linejoin:miter;stroke:rgb(0%,0%,0%);stroke-opacity:1;stroke-miterlimit:10;\" d=\"M 95.699219 345.625 C 95.699219 347.625 92.699219 347.625 92.699219 345.625 C 92.699219 343.625 95.699219 343.625 95.699219 345.625 \"/>\n<path style=\"fill-rule:nonzero;fill:rgb(100%,0%,0%);fill-opacity:1;stroke-width:1;stroke-linecap:butt;stroke-linejoin:miter;stroke:rgb(0%,0%,0%);stroke-opacity:1;stroke-miterlimit:10;\" d=\"M 86.765625 338.691406 C 86.765625 340.691406 83.765625 340.691406 83.765625 338.691406 C 83.765625 336.691406 86.765625 336.691406 86.765625 338.691406 \"/>\n<path style=\"fill-rule:nonzero;fill:rgb(100%,0%,0%);fill-opacity:1;stroke-width:1;stroke-linecap:butt;stroke-linejoin:miter;stroke:rgb(0%,0%,0%);stroke-opacity:1;stroke-miterlimit:10;\" d=\"M 78.28125 331.214844 C 78.28125 333.214844 75.28125 333.214844 75.28125 331.214844 C 75.28125 329.214844 78.28125 329.214844 78.28125 331.214844 \"/>\n<path style=\"fill-rule:nonzero;fill:rgb(100%,0%,0%);fill-opacity:1;stroke-width:1;stroke-linecap:butt;stroke-linejoin:miter;stroke:rgb(0%,0%,0%);stroke-opacity:1;stroke-miterlimit:10;\" d=\"M 70.285156 323.21875 C 70.285156 325.21875 67.285156 325.21875 67.285156 323.21875 C 67.285156 321.21875 70.285156 321.21875 70.285156 323.21875 \"/>\n<path style=\"fill-rule:nonzero;fill:rgb(100%,0%,0%);fill-opacity:1;stroke-width:1;stroke-linecap:butt;stroke-linejoin:miter;stroke:rgb(0%,0%,0%);stroke-opacity:1;stroke-miterlimit:10;\" d=\"M 62.808594 314.734375 C 62.808594 316.734375 59.808594 316.734375 59.808594 314.734375 C 59.808594 312.734375 62.808594 312.734375 62.808594 314.734375 \"/>\n<path style=\"fill-rule:nonzero;fill:rgb(100%,0%,0%);fill-opacity:1;stroke-width:1;stroke-linecap:butt;stroke-linejoin:miter;stroke:rgb(0%,0%,0%);stroke-opacity:1;stroke-miterlimit:10;\" d=\"M 55.875 305.800781 C 55.875 307.800781 52.875 307.800781 52.875 305.800781 C 52.875 303.800781 55.875 303.800781 55.875 305.800781 \"/>\n<path style=\"fill-rule:nonzero;fill:rgb(100%,0%,0%);fill-opacity:1;stroke-width:1;stroke-linecap:butt;stroke-linejoin:miter;stroke:rgb(0%,0%,0%);stroke-opacity:1;stroke-miterlimit:10;\" d=\"M 49.519531 296.449219 C 49.519531 298.449219 46.519531 298.449219 46.519531 296.449219 C 46.519531 294.449219 49.519531 294.449219 49.519531 296.449219 \"/>\n<path style=\"fill-rule:nonzero;fill:rgb(100%,0%,0%);fill-opacity:1;stroke-width:1;stroke-linecap:butt;stroke-linejoin:miter;stroke:rgb(0%,0%,0%);stroke-opacity:1;stroke-miterlimit:10;\" d=\"M 43.765625 286.714844 C 43.765625 288.714844 40.765625 288.714844 40.765625 286.714844 C 40.765625 284.714844 43.765625 284.714844 43.765625 286.714844 \"/>\n<path style=\"fill-rule:nonzero;fill:rgb(100%,0%,0%);fill-opacity:1;stroke-width:1;stroke-linecap:butt;stroke-linejoin:miter;stroke:rgb(0%,0%,0%);stroke-opacity:1;stroke-miterlimit:10;\" d=\"M 38.632812 276.640625 C 38.632812 278.640625 35.632812 278.640625 35.632812 276.640625 C 35.632812 274.640625 38.632812 274.640625 38.632812 276.640625 \"/>\n<path style=\"fill-rule:nonzero;fill:rgb(100%,0%,0%);fill-opacity:1;stroke-width:1;stroke-linecap:butt;stroke-linejoin:miter;stroke:rgb(0%,0%,0%);stroke-opacity:1;stroke-miterlimit:10;\" d=\"M 34.140625 266.261719 C 34.140625 268.261719 31.140625 268.261719 31.140625 266.261719 C 31.140625 264.261719 34.140625 264.261719 34.140625 266.261719 \"/>\n<path style=\"fill-rule:nonzero;fill:rgb(100%,0%,0%);fill-opacity:1;stroke-width:1;stroke-linecap:butt;stroke-linejoin:miter;stroke:rgb(0%,0%,0%);stroke-opacity:1;stroke-miterlimit:10;\" d=\"M 30.308594 255.625 C 30.308594 257.625 27.308594 257.625 27.308594 255.625 C 27.308594 253.625 30.308594 253.625 30.308594 255.625 \"/>\n<path style=\"fill-rule:nonzero;fill:rgb(100%,0%,0%);fill-opacity:1;stroke-width:1;stroke-linecap:butt;stroke-linejoin:miter;stroke:rgb(0%,0%,0%);stroke-opacity:1;stroke-miterlimit:10;\" d=\"M 27.15625 244.765625 C 27.15625 246.765625 24.15625 246.765625 24.15625 244.765625 C 24.15625 242.765625 27.15625 242.765625 27.15625 244.765625 \"/>\n<path style=\"fill-rule:nonzero;fill:rgb(100%,0%,0%);fill-opacity:1;stroke-width:1;stroke-linecap:butt;stroke-linejoin:miter;stroke:rgb(0%,0%,0%);stroke-opacity:1;stroke-miterlimit:10;\" d=\"M 24.6875 233.730469 C 24.6875 235.730469 21.6875 235.730469 21.6875 233.730469 C 21.6875 231.730469 24.6875 231.730469 24.6875 233.730469 \"/>\n<path style=\"fill-rule:nonzero;fill:rgb(100%,0%,0%);fill-opacity:1;stroke-width:1;stroke-linecap:butt;stroke-linejoin:miter;stroke:rgb(0%,0%,0%);stroke-opacity:1;stroke-miterlimit:10;\" d=\"M 22.917969 222.558594 C 22.917969 224.558594 19.917969 224.558594 19.917969 222.558594 C 19.917969 220.558594 22.917969 220.558594 22.917969 222.558594 \"/>\n<path style=\"fill-rule:nonzero;fill:rgb(100%,0%,0%);fill-opacity:1;stroke-width:1;stroke-linecap:butt;stroke-linejoin:miter;stroke:rgb(0%,0%,0%);stroke-opacity:1;stroke-miterlimit:10;\" d=\"M 21.855469 211.300781 C 21.855469 213.300781 18.855469 213.300781 18.855469 211.300781 C 18.855469 209.300781 21.855469 209.300781 21.855469 211.300781 \"/>\n<path style=\"fill-rule:nonzero;fill:rgb(100%,0%,0%);fill-opacity:1;stroke-width:1;stroke-linecap:butt;stroke-linejoin:miter;stroke:rgb(0%,0%,0%);stroke-opacity:1;stroke-miterlimit:10;\" d=\"M 21.5 200 C 21.5 202 18.5 202 18.5 200 C 18.5 198 21.5 198 21.5 200 \"/>\n<path style=\"fill-rule:nonzero;fill:rgb(100%,0%,0%);fill-opacity:1;stroke-width:1;stroke-linecap:butt;stroke-linejoin:miter;stroke:rgb(0%,0%,0%);stroke-opacity:1;stroke-miterlimit:10;\" d=\"M 21.855469 188.699219 C 21.855469 190.699219 18.855469 190.699219 18.855469 188.699219 C 18.855469 186.699219 21.855469 186.699219 21.855469 188.699219 \"/>\n<path style=\"fill-rule:nonzero;fill:rgb(100%,0%,0%);fill-opacity:1;stroke-width:1;stroke-linecap:butt;stroke-linejoin:miter;stroke:rgb(0%,0%,0%);stroke-opacity:1;stroke-miterlimit:10;\" d=\"M 22.917969 177.441406 C 22.917969 179.441406 19.917969 179.441406 19.917969 177.441406 C 19.917969 175.441406 22.917969 175.441406 22.917969 177.441406 \"/>\n<path style=\"fill-rule:nonzero;fill:rgb(100%,0%,0%);fill-opacity:1;stroke-width:1;stroke-linecap:butt;stroke-linejoin:miter;stroke:rgb(0%,0%,0%);stroke-opacity:1;stroke-miterlimit:10;\" d=\"M 24.6875 166.269531 C 24.6875 168.269531 21.6875 168.269531 21.6875 166.269531 C 21.6875 164.269531 24.6875 164.269531 24.6875 166.269531 \"/>\n<path style=\"fill-rule:nonzero;fill:rgb(100%,0%,0%);fill-opacity:1;stroke-width:1;stroke-linecap:butt;stroke-linejoin:miter;stroke:rgb(0%,0%,0%);stroke-opacity:1;stroke-miterlimit:10;\" d=\"M 27.15625 155.234375 C 27.15625 157.234375 24.15625 157.234375 24.15625 155.234375 C 24.15625 153.234375 27.15625 153.234375 27.15625 155.234375 \"/>\n<path style=\"fill-rule:nonzero;fill:rgb(100%,0%,0%);fill-opacity:1;stroke-width:1;stroke-linecap:butt;stroke-linejoin:miter;stroke:rgb(0%,0%,0%);stroke-opacity:1;stroke-miterlimit:10;\" d=\"M 30.308594 144.375 C 30.308594 146.375 27.308594 146.375 27.308594 144.375 C 27.308594 142.375 30.308594 142.375 30.308594 144.375 \"/>\n<path style=\"fill-rule:nonzero;fill:rgb(100%,0%,0%);fill-opacity:1;stroke-width:1;stroke-linecap:butt;stroke-linejoin:miter;stroke:rgb(0%,0%,0%);stroke-opacity:1;stroke-miterlimit:10;\" d=\"M 34.140625 133.738281 C 34.140625 135.738281 31.140625 135.738281 31.140625 133.738281 C 31.140625 131.738281 34.140625 131.738281 34.140625 133.738281 \"/>\n<path style=\"fill-rule:nonzero;fill:rgb(100%,0%,0%);fill-opacity:1;stroke-width:1;stroke-linecap:butt;stroke-linejoin:miter;stroke:rgb(0%,0%,0%);stroke-opacity:1;stroke-miterlimit:10;\" d=\"M 38.632812 123.359375 C 38.632812 125.359375 35.632812 125.359375 35.632812 123.359375 C 35.632812 121.359375 38.632812 121.359375 38.632812 123.359375 \"/>\n<path style=\"fill-rule:nonzero;fill:rgb(100%,0%,0%);fill-opacity:1;stroke-width:1;stroke-linecap:butt;stroke-linejoin:miter;stroke:rgb(0%,0%,0%);stroke-opacity:1;stroke-miterlimit:10;\" d=\"M 43.765625 113.285156 C 43.765625 115.285156 40.765625 115.285156 40.765625 113.285156 C 40.765625 111.285156 43.765625 111.285156 43.765625 113.285156 \"/>\n<path style=\"fill-rule:nonzero;fill:rgb(100%,0%,0%);fill-opacity:1;stroke-width:1;stroke-linecap:butt;stroke-linejoin:miter;stroke:rgb(0%,0%,0%);stroke-opacity:1;stroke-miterlimit:10;\" d=\"M 49.519531 103.550781 C 49.519531 105.550781 46.519531 105.550781 46.519531 103.550781 C 46.519531 101.550781 49.519531 101.550781 49.519531 103.550781 \"/>\n<path style=\"fill-rule:nonzero;fill:rgb(100%,0%,0%);fill-opacity:1;stroke-width:1;stroke-linecap:butt;stroke-linejoin:miter;stroke:rgb(0%,0%,0%);stroke-opacity:1;stroke-miterlimit:10;\" d=\"M 55.875 94.199219 C 55.875 96.199219 52.875 96.199219 52.875 94.199219 C 52.875 92.199219 55.875 92.199219 55.875 94.199219 \"/>\n<path style=\"fill-rule:nonzero;fill:rgb(100%,0%,0%);fill-opacity:1;stroke-width:1;stroke-linecap:butt;stroke-linejoin:miter;stroke:rgb(0%,0%,0%);stroke-opacity:1;stroke-miterlimit:10;\" d=\"M 62.808594 85.265625 C 62.808594 87.265625 59.808594 87.265625 59.808594 85.265625 C 59.808594 83.265625 62.808594 83.265625 62.808594 85.265625 \"/>\n<path style=\"fill-rule:nonzero;fill:rgb(100%,0%,0%);fill-opacity:1;stroke-width:1;stroke-linecap:butt;stroke-linejoin:miter;stroke:rgb(0%,0%,0%);stroke-opacity:1;stroke-miterlimit:10;\" d=\"M 70.285156 76.78125 C 70.285156 78.78125 67.285156 78.78125 67.285156 76.78125 C 67.285156 74.78125 70.285156 74.78125 70.285156 76.78125 \"/>\n<path style=\"fill-rule:nonzero;fill:rgb(100%,0%,0%);fill-opacity:1;stroke-width:1;stroke-linecap:butt;stroke-linejoin:miter;stroke:rgb(0%,0%,0%);stroke-opacity:1;stroke-miterlimit:10;\" d=\"M 78.28125 68.785156 C 78.28125 70.785156 75.28125 70.785156 75.28125 68.785156 C 75.28125 66.785156 78.28125 66.785156 78.28125 68.785156 \"/>\n<path style=\"fill-rule:nonzero;fill:rgb(100%,0%,0%);fill-opacity:1;stroke-width:1;stroke-linecap:butt;stroke-linejoin:miter;stroke:rgb(0%,0%,0%);stroke-opacity:1;stroke-miterlimit:10;\" d=\"M 86.765625 61.308594 C 86.765625 63.308594 83.765625 63.308594 83.765625 61.308594 C 83.765625 59.308594 86.765625 59.308594 86.765625 61.308594 \"/>\n<path style=\"fill-rule:nonzero;fill:rgb(100%,0%,0%);fill-opacity:1;stroke-width:1;stroke-linecap:butt;stroke-linejoin:miter;stroke:rgb(0%,0%,0%);stroke-opacity:1;stroke-miterlimit:10;\" d=\"M 95.699219 54.375 C 95.699219 56.375 92.699219 56.375 92.699219 54.375 C 92.699219 52.375 95.699219 52.375 95.699219 54.375 \"/>\n<path style=\"fill-rule:nonzero;fill:rgb(100%,0%,0%);fill-opacity:1;stroke-width:1;stroke-linecap:butt;stroke-linejoin:miter;stroke:rgb(0%,0%,0%);stroke-opacity:1;stroke-miterlimit:10;\" d=\"M 105.050781 48.019531 C 105.050781 50.019531 102.050781 50.019531 102.050781 48.019531 C 102.050781 46.019531 105.050781 46.019531 105.050781 48.019531 \"/>\n<path style=\"fill-rule:nonzero;fill:rgb(100%,0%,0%);fill-opacity:1;stroke-width:1;stroke-linecap:butt;stroke-linejoin:miter;stroke:rgb(0%,0%,0%);stroke-opacity:1;stroke-miterlimit:10;\" d=\"M 114.785156 42.265625 C 114.785156 44.265625 111.785156 44.265625 111.785156 42.265625 C 111.785156 40.265625 114.785156 40.265625 114.785156 42.265625 \"/>\n<path style=\"fill-rule:nonzero;fill:rgb(100%,0%,0%);fill-opacity:1;stroke-width:1;stroke-linecap:butt;stroke-linejoin:miter;stroke:rgb(0%,0%,0%);stroke-opacity:1;stroke-miterlimit:10;\" d=\"M 124.859375 37.132812 C 124.859375 39.132812 121.859375 39.132812 121.859375 37.132812 C 121.859375 35.132812 124.859375 35.132812 124.859375 37.132812 \"/>\n<path style=\"fill-rule:nonzero;fill:rgb(100%,0%,0%);fill-opacity:1;stroke-width:1;stroke-linecap:butt;stroke-linejoin:miter;stroke:rgb(0%,0%,0%);stroke-opacity:1;stroke-miterlimit:10;\" d=\"M 135.238281 32.640625 C 135.238281 34.640625 132.238281 34.640625 132.238281 32.640625 C 132.238281 30.640625 135.238281 30.640625 135.238281 32.640625 \"/>\n<path style=\"fill-rule:nonzero;fill:rgb(100%,0%,0%);fill-opacity:1;stroke-width:1;stroke-linecap:butt;stroke-linejoin:miter;stroke:rgb(0%,0%,0%);stroke-opacity:1;stroke-miterlimit:10;\" d=\"M 145.875 28.808594 C 145.875 30.808594 142.875 30.808594 142.875 28.808594 C 142.875 26.808594 145.875 26.808594 145.875 28.808594 \"/>\n<path style=\"fill-rule:nonzero;fill:rgb(100%,0%,0%);fill-opacity:1;stroke-width:1;stroke-linecap:butt;stroke-linejoin:miter;stroke:rgb(0%,0%,0%);stroke-opacity:1;stroke-miterlimit:10;\" d=\"M 156.734375 25.65625 C 156.734375 27.65625 153.734375 27.65625 153.734375 25.65625 C 153.734375 23.65625 156.734375 23.65625 156.734375 25.65625 \"/>\n<path style=\"fill-rule:nonzero;fill:rgb(100%,0%,0%);fill-opacity:1;stroke-width:1;stroke-linecap:butt;stroke-linejoin:miter;stroke:rgb(0%,0%,0%);stroke-opacity:1;stroke-miterlimit:10;\" d=\"M 167.769531 23.1875 C 167.769531 25.1875 164.769531 25.1875 164.769531 23.1875 C 164.769531 21.1875 167.769531 21.1875 167.769531 23.1875 \"/>\n<path style=\"fill-rule:nonzero;fill:rgb(100%,0%,0%);fill-opacity:1;stroke-width:1;stroke-linecap:butt;stroke-linejoin:miter;stroke:rgb(0%,0%,0%);stroke-opacity:1;stroke-miterlimit:10;\" d=\"M 178.941406 21.417969 C 178.941406 23.417969 175.941406 23.417969 175.941406 21.417969 C 175.941406 19.417969 178.941406 19.417969 178.941406 21.417969 \"/>\n<path style=\"fill-rule:nonzero;fill:rgb(100%,0%,0%);fill-opacity:1;stroke-width:1;stroke-linecap:butt;stroke-linejoin:miter;stroke:rgb(0%,0%,0%);stroke-opacity:1;stroke-miterlimit:10;\" d=\"M 190.199219 20.355469 C 190.199219 22.355469 187.199219 22.355469 187.199219 20.355469 C 187.199219 18.355469 190.199219 18.355469 190.199219 20.355469 \"/>\n<path style=\"fill-rule:nonzero;fill:rgb(100%,0%,0%);fill-opacity:1;stroke-width:1;stroke-linecap:butt;stroke-linejoin:miter;stroke:rgb(0%,0%,0%);stroke-opacity:1;stroke-miterlimit:10;\" d=\"M 201.5 20 C 201.5 22 198.5 22 198.5 20 C 198.5 18 201.5 18 201.5 20 \"/>\n<path style=\"fill-rule:nonzero;fill:rgb(100%,0%,0%);fill-opacity:1;stroke-width:1;stroke-linecap:butt;stroke-linejoin:miter;stroke:rgb(0%,0%,0%);stroke-opacity:1;stroke-miterlimit:10;\" d=\"M 212.800781 20.355469 C 212.800781 22.355469 209.800781 22.355469 209.800781 20.355469 C 209.800781 18.355469 212.800781 18.355469 212.800781 20.355469 \"/>\n<path style=\"fill-rule:nonzero;fill:rgb(100%,0%,0%);fill-opacity:1;stroke-width:1;stroke-linecap:butt;stroke-linejoin:miter;stroke:rgb(0%,0%,0%);stroke-opacity:1;stroke-miterlimit:10;\" d=\"M 224.058594 21.417969 C 224.058594 23.417969 221.058594 23.417969 221.058594 21.417969 C 221.058594 19.417969 224.058594 19.417969 224.058594 21.417969 \"/>\n<path style=\"fill-rule:nonzero;fill:rgb(100%,0%,0%);fill-opacity:1;stroke-width:1;stroke-linecap:butt;stroke-linejoin:miter;stroke:rgb(0%,0%,0%);stroke-opacity:1;stroke-miterlimit:10;\" d=\"M 235.230469 23.1875 C 235.230469 25.1875 232.230469 25.1875 232.230469 23.1875 C 232.230469 21.1875 235.230469 21.1875 235.230469 23.1875 \"/>\n<path style=\"fill-rule:nonzero;fill:rgb(100%,0%,0%);fill-opacity:1;stroke-width:1;stroke-linecap:butt;stroke-linejoin:miter;stroke:rgb(0%,0%,0%);stroke-opacity:1;stroke-miterlimit:10;\" d=\"M 246.265625 25.65625 C 246.265625 27.65625 243.265625 27.65625 243.265625 25.65625 C 243.265625 23.65625 246.265625 23.65625 246.265625 25.65625 \"/>\n<path style=\"fill-rule:nonzero;fill:rgb(100%,0%,0%);fill-opacity:1;stroke-width:1;stroke-linecap:butt;stroke-linejoin:miter;stroke:rgb(0%,0%,0%);stroke-opacity:1;stroke-miterlimit:10;\" d=\"M 257.125 28.808594 C 257.125 30.808594 254.125 30.808594 254.125 28.808594 C 254.125 26.808594 257.125 26.808594 257.125 28.808594 \"/>\n<path style=\"fill-rule:nonzero;fill:rgb(100%,0%,0%);fill-opacity:1;stroke-width:1;stroke-linecap:butt;stroke-linejoin:miter;stroke:rgb(0%,0%,0%);stroke-opacity:1;stroke-miterlimit:10;\" d=\"M 267.761719 32.640625 C 267.761719 34.640625 264.761719 34.640625 264.761719 32.640625 C 264.761719 30.640625 267.761719 30.640625 267.761719 32.640625 \"/>\n<path style=\"fill-rule:nonzero;fill:rgb(100%,0%,0%);fill-opacity:1;stroke-width:1;stroke-linecap:butt;stroke-linejoin:miter;stroke:rgb(0%,0%,0%);stroke-opacity:1;stroke-miterlimit:10;\" d=\"M 278.140625 37.132812 C 278.140625 39.132812 275.140625 39.132812 275.140625 37.132812 C 275.140625 35.132812 278.140625 35.132812 278.140625 37.132812 \"/>\n<path style=\"fill-rule:nonzero;fill:rgb(100%,0%,0%);fill-opacity:1;stroke-width:1;stroke-linecap:butt;stroke-linejoin:miter;stroke:rgb(0%,0%,0%);stroke-opacity:1;stroke-miterlimit:10;\" d=\"M 288.214844 42.265625 C 288.214844 44.265625 285.214844 44.265625 285.214844 42.265625 C 285.214844 40.265625 288.214844 40.265625 288.214844 42.265625 \"/>\n<path style=\"fill-rule:nonzero;fill:rgb(100%,0%,0%);fill-opacity:1;stroke-width:1;stroke-linecap:butt;stroke-linejoin:miter;stroke:rgb(0%,0%,0%);stroke-opacity:1;stroke-miterlimit:10;\" d=\"M 297.949219 48.019531 C 297.949219 50.019531 294.949219 50.019531 294.949219 48.019531 C 294.949219 46.019531 297.949219 46.019531 297.949219 48.019531 \"/>\n<path style=\"fill-rule:nonzero;fill:rgb(100%,0%,0%);fill-opacity:1;stroke-width:1;stroke-linecap:butt;stroke-linejoin:miter;stroke:rgb(0%,0%,0%);stroke-opacity:1;stroke-miterlimit:10;\" d=\"M 307.300781 54.375 C 307.300781 56.375 304.300781 56.375 304.300781 54.375 C 304.300781 52.375 307.300781 52.375 307.300781 54.375 \"/>\n<path style=\"fill-rule:nonzero;fill:rgb(100%,0%,0%);fill-opacity:1;stroke-width:1;stroke-linecap:butt;stroke-linejoin:miter;stroke:rgb(0%,0%,0%);stroke-opacity:1;stroke-miterlimit:10;\" d=\"M 316.234375 61.308594 C 316.234375 63.308594 313.234375 63.308594 313.234375 61.308594 C 313.234375 59.308594 316.234375 59.308594 316.234375 61.308594 \"/>\n<path style=\"fill-rule:nonzero;fill:rgb(100%,0%,0%);fill-opacity:1;stroke-width:1;stroke-linecap:butt;stroke-linejoin:miter;stroke:rgb(0%,0%,0%);stroke-opacity:1;stroke-miterlimit:10;\" d=\"M 324.71875 68.785156 C 324.71875 70.785156 321.71875 70.785156 321.71875 68.785156 C 321.71875 66.785156 324.71875 66.785156 324.71875 68.785156 \"/>\n<path style=\"fill-rule:nonzero;fill:rgb(100%,0%,0%);fill-opacity:1;stroke-width:1;stroke-linecap:butt;stroke-linejoin:miter;stroke:rgb(0%,0%,0%);stroke-opacity:1;stroke-miterlimit:10;\" d=\"M 332.714844 76.78125 C 332.714844 78.78125 329.714844 78.78125 329.714844 76.78125 C 329.714844 74.78125 332.714844 74.78125 332.714844 76.78125 \"/>\n<path style=\"fill-rule:nonzero;fill:rgb(100%,0%,0%);fill-opacity:1;stroke-width:1;stroke-linecap:butt;stroke-linejoin:miter;stroke:rgb(0%,0%,0%);stroke-opacity:1;stroke-miterlimit:10;\" d=\"M 340.191406 85.265625 C 340.191406 87.265625 337.191406 87.265625 337.191406 85.265625 C 337.191406 83.265625 340.191406 83.265625 340.191406 85.265625 \"/>\n<path style=\"fill-rule:nonzero;fill:rgb(100%,0%,0%);fill-opacity:1;stroke-width:1;stroke-linecap:butt;stroke-linejoin:miter;stroke:rgb(0%,0%,0%);stroke-opacity:1;stroke-miterlimit:10;\" d=\"M 347.125 94.199219 C 347.125 96.199219 344.125 96.199219 344.125 94.199219 C 344.125 92.199219 347.125 92.199219 347.125 94.199219 \"/>\n<path style=\"fill-rule:nonzero;fill:rgb(100%,0%,0%);fill-opacity:1;stroke-width:1;stroke-linecap:butt;stroke-linejoin:miter;stroke:rgb(0%,0%,0%);stroke-opacity:1;stroke-miterlimit:10;\" d=\"M 353.480469 103.550781 C 353.480469 105.550781 350.480469 105.550781 350.480469 103.550781 C 350.480469 101.550781 353.480469 101.550781 353.480469 103.550781 \"/>\n<path style=\"fill-rule:nonzero;fill:rgb(100%,0%,0%);fill-opacity:1;stroke-width:1;stroke-linecap:butt;stroke-linejoin:miter;stroke:rgb(0%,0%,0%);stroke-opacity:1;stroke-miterlimit:10;\" d=\"M 359.234375 113.285156 C 359.234375 115.285156 356.234375 115.285156 356.234375 113.285156 C 356.234375 111.285156 359.234375 111.285156 359.234375 113.285156 \"/>\n<path style=\"fill-rule:nonzero;fill:rgb(100%,0%,0%);fill-opacity:1;stroke-width:1;stroke-linecap:butt;stroke-linejoin:miter;stroke:rgb(0%,0%,0%);stroke-opacity:1;stroke-miterlimit:10;\" d=\"M 364.367188 123.359375 C 364.367188 125.359375 361.367188 125.359375 361.367188 123.359375 C 361.367188 121.359375 364.367188 121.359375 364.367188 123.359375 \"/>\n<path style=\"fill-rule:nonzero;fill:rgb(100%,0%,0%);fill-opacity:1;stroke-width:1;stroke-linecap:butt;stroke-linejoin:miter;stroke:rgb(0%,0%,0%);stroke-opacity:1;stroke-miterlimit:10;\" d=\"M 368.859375 133.738281 C 368.859375 135.738281 365.859375 135.738281 365.859375 133.738281 C 365.859375 131.738281 368.859375 131.738281 368.859375 133.738281 \"/>\n<path style=\"fill-rule:nonzero;fill:rgb(100%,0%,0%);fill-opacity:1;stroke-width:1;stroke-linecap:butt;stroke-linejoin:miter;stroke:rgb(0%,0%,0%);stroke-opacity:1;stroke-miterlimit:10;\" d=\"M 372.691406 144.375 C 372.691406 146.375 369.691406 146.375 369.691406 144.375 C 369.691406 142.375 372.691406 142.375 372.691406 144.375 \"/>\n<path style=\"fill-rule:nonzero;fill:rgb(100%,0%,0%);fill-opacity:1;stroke-width:1;stroke-linecap:butt;stroke-linejoin:miter;stroke:rgb(0%,0%,0%);stroke-opacity:1;stroke-miterlimit:10;\" d=\"M 375.84375 155.234375 C 375.84375 157.234375 372.84375 157.234375 372.84375 155.234375 C 372.84375 153.234375 375.84375 153.234375 375.84375 155.234375 \"/>\n<path style=\"fill-rule:nonzero;fill:rgb(100%,0%,0%);fill-opacity:1;stroke-width:1;stroke-linecap:butt;stroke-linejoin:miter;stroke:rgb(0%,0%,0%);stroke-opacity:1;stroke-miterlimit:10;\" d=\"M 378.3125 166.269531 C 378.3125 168.269531 375.3125 168.269531 375.3125 166.269531 C 375.3125 164.269531 378.3125 164.269531 378.3125 166.269531 \"/>\n<path style=\"fill-rule:nonzero;fill:rgb(100%,0%,0%);fill-opacity:1;stroke-width:1;stroke-linecap:butt;stroke-linejoin:miter;stroke:rgb(0%,0%,0%);stroke-opacity:1;stroke-miterlimit:10;\" d=\"M 380.082031 177.441406 C 380.082031 179.441406 377.082031 179.441406 377.082031 177.441406 C 377.082031 175.441406 380.082031 175.441406 380.082031 177.441406 \"/>\n<path style=\"fill-rule:nonzero;fill:rgb(100%,0%,0%);fill-opacity:1;stroke-width:1;stroke-linecap:butt;stroke-linejoin:miter;stroke:rgb(0%,0%,0%);stroke-opacity:1;stroke-miterlimit:10;\" d=\"M 381.144531 188.699219 C 381.144531 190.699219 378.144531 190.699219 378.144531 188.699219 C 378.144531 186.699219 381.144531 186.699219 381.144531 188.699219 \"/>\n</g>\n</svg>\n"
          },
          "metadata": {
            "image/svg+xml": {
              "isolated": true
            }
          },
          "execution_count": 4
        }
      ],
      "source": [
        "net = ig.Graph.Ring(100)\n",
        "\n",
        "print('the criterion is: ' + str(Molloy_Reed(net)))\n",
        "layout = ig.Graph.layout_circle(net)\n",
        "ig.plot(net, bbox=(400, 400),vertex_size=3, layout=layout)"
      ]
    },
    {
      "cell_type": "code",
      "execution_count": 5,
      "id": "3b857db4",
      "metadata": {
        "id": "3b857db4",
        "outputId": "48a76021-49ba-45a2-9e78-4d57b450ae7d",
        "colab": {
          "base_uri": "https://localhost:8080/",
          "height": 572
        }
      },
      "outputs": [
        {
          "output_type": "stream",
          "name": "stdout",
          "text": [
            "the criterion is: 5.85140562248996\n"
          ]
        },
        {
          "output_type": "execute_result",
          "data": {
            "text/plain": [
              "<igraph.drawing.cairo.plot.CairoPlot at 0x7f3654ebb5e0>"
            ],
            "image/svg+xml": "<?xml version=\"1.0\" encoding=\"UTF-8\"?>\n<svg xmlns=\"http://www.w3.org/2000/svg\" xmlns:xlink=\"http://www.w3.org/1999/xlink\" width=\"400pt\" height=\"400pt\" viewBox=\"0 0 400 400\" version=\"1.1\">\n<g id=\"surface14\">\n<rect x=\"0\" y=\"0\" width=\"400\" height=\"400\" style=\"fill:rgb(100%,100%,100%);fill-opacity:1;stroke:none;\"/>\n<path style=\"fill:none;stroke-width:1;stroke-linecap:butt;stroke-linejoin:miter;stroke:rgb(26.666667%,26.666667%,26.666667%);stroke-opacity:1;stroke-miterlimit:10;\" d=\"M 253.199219 246.464844 L 293.390625 201.445312 \"/>\n<path style=\"fill:none;stroke-width:1;stroke-linecap:butt;stroke-linejoin:miter;stroke:rgb(26.666667%,26.666667%,26.666667%);stroke-opacity:1;stroke-miterlimit:10;\" d=\"M 229.777344 173.890625 L 259.972656 203.449219 \"/>\n<path style=\"fill:none;stroke-width:1;stroke-linecap:butt;stroke-linejoin:miter;stroke:rgb(26.666667%,26.666667%,26.666667%);stroke-opacity:1;stroke-miterlimit:10;\" d=\"M 253.199219 246.464844 L 259.972656 203.449219 \"/>\n<path style=\"fill:none;stroke-width:1;stroke-linecap:butt;stroke-linejoin:miter;stroke:rgb(26.666667%,26.666667%,26.666667%);stroke-opacity:1;stroke-miterlimit:10;\" d=\"M 293.390625 201.445312 L 215.117188 165.089844 \"/>\n<path style=\"fill:none;stroke-width:1;stroke-linecap:butt;stroke-linejoin:miter;stroke:rgb(26.666667%,26.666667%,26.666667%);stroke-opacity:1;stroke-miterlimit:10;\" d=\"M 229.777344 173.890625 L 240.925781 207.832031 \"/>\n<path style=\"fill:none;stroke-width:1;stroke-linecap:butt;stroke-linejoin:miter;stroke:rgb(26.666667%,26.666667%,26.666667%);stroke-opacity:1;stroke-miterlimit:10;\" d=\"M 164.335938 248.398438 L 240.925781 207.832031 \"/>\n<path style=\"fill:none;stroke-width:1;stroke-linecap:butt;stroke-linejoin:miter;stroke:rgb(26.666667%,26.666667%,26.666667%);stroke-opacity:1;stroke-miterlimit:10;\" d=\"M 229.777344 173.890625 L 191.40625 182.433594 \"/>\n<path style=\"fill:none;stroke-width:1;stroke-linecap:butt;stroke-linejoin:miter;stroke:rgb(26.666667%,26.666667%,26.666667%);stroke-opacity:1;stroke-miterlimit:10;\" d=\"M 221.160156 211.480469 L 191.40625 182.433594 \"/>\n<path style=\"fill:none;stroke-width:1;stroke-linecap:butt;stroke-linejoin:miter;stroke:rgb(26.666667%,26.666667%,26.666667%);stroke-opacity:1;stroke-miterlimit:10;\" d=\"M 215.117188 165.089844 L 192.542969 139.230469 \"/>\n<path style=\"fill:none;stroke-width:1;stroke-linecap:butt;stroke-linejoin:miter;stroke:rgb(26.666667%,26.666667%,26.666667%);stroke-opacity:1;stroke-miterlimit:10;\" d=\"M 229.777344 173.890625 L 151.210938 181.554688 \"/>\n<path style=\"fill:none;stroke-width:1;stroke-linecap:butt;stroke-linejoin:miter;stroke:rgb(26.666667%,26.666667%,26.666667%);stroke-opacity:1;stroke-miterlimit:10;\" d=\"M 164.335938 248.398438 L 151.210938 181.554688 \"/>\n<path style=\"fill:none;stroke-width:1;stroke-linecap:butt;stroke-linejoin:miter;stroke:rgb(26.666667%,26.666667%,26.666667%);stroke-opacity:1;stroke-miterlimit:10;\" d=\"M 259.972656 203.449219 L 199.847656 200.058594 \"/>\n<path style=\"fill:none;stroke-width:1;stroke-linecap:butt;stroke-linejoin:miter;stroke:rgb(26.666667%,26.666667%,26.666667%);stroke-opacity:1;stroke-miterlimit:10;\" d=\"M 215.117188 165.089844 L 199.847656 200.058594 \"/>\n<path style=\"fill:none;stroke-width:1;stroke-linecap:butt;stroke-linejoin:miter;stroke:rgb(26.666667%,26.666667%,26.666667%);stroke-opacity:1;stroke-miterlimit:10;\" d=\"M 169.957031 184.195312 L 199.847656 200.058594 \"/>\n<path style=\"fill:none;stroke-width:1;stroke-linecap:butt;stroke-linejoin:miter;stroke:rgb(26.666667%,26.666667%,26.666667%);stroke-opacity:1;stroke-miterlimit:10;\" d=\"M 221.292969 185.007812 L 258.710938 149.820312 \"/>\n<path style=\"fill:none;stroke-width:1;stroke-linecap:butt;stroke-linejoin:miter;stroke:rgb(26.666667%,26.666667%,26.666667%);stroke-opacity:1;stroke-miterlimit:10;\" d=\"M 192 114.109375 L 190.074219 70.242188 \"/>\n<path style=\"fill:none;stroke-width:1;stroke-linecap:butt;stroke-linejoin:miter;stroke:rgb(26.666667%,26.666667%,26.666667%);stroke-opacity:1;stroke-miterlimit:10;\" d=\"M 293.390625 201.445312 L 287.753906 153.820312 \"/>\n<path style=\"fill:none;stroke-width:1;stroke-linecap:butt;stroke-linejoin:miter;stroke:rgb(26.666667%,26.666667%,26.666667%);stroke-opacity:1;stroke-miterlimit:10;\" d=\"M 288 142.234375 L 287.753906 153.820312 \"/>\n<path style=\"fill:none;stroke-width:1;stroke-linecap:butt;stroke-linejoin:miter;stroke:rgb(26.666667%,26.666667%,26.666667%);stroke-opacity:1;stroke-miterlimit:10;\" d=\"M 258.710938 149.820312 L 287.753906 153.820312 \"/>\n<path style=\"fill:none;stroke-width:1;stroke-linecap:butt;stroke-linejoin:miter;stroke:rgb(26.666667%,26.666667%,26.666667%);stroke-opacity:1;stroke-miterlimit:10;\" d=\"M 145.175781 234.800781 L 145.703125 190.640625 \"/>\n<path style=\"fill:none;stroke-width:1;stroke-linecap:butt;stroke-linejoin:miter;stroke:rgb(26.666667%,26.666667%,26.666667%);stroke-opacity:1;stroke-miterlimit:10;\" d=\"M 191.40625 182.433594 L 145.703125 190.640625 \"/>\n<path style=\"fill:none;stroke-width:1;stroke-linecap:butt;stroke-linejoin:miter;stroke:rgb(26.666667%,26.666667%,26.666667%);stroke-opacity:1;stroke-miterlimit:10;\" d=\"M 145.703125 190.640625 L 84.042969 217.023438 \"/>\n<path style=\"fill:none;stroke-width:1;stroke-linecap:butt;stroke-linejoin:miter;stroke:rgb(26.666667%,26.666667%,26.666667%);stroke-opacity:1;stroke-miterlimit:10;\" d=\"M 145.175781 234.800781 L 220.160156 193.605469 \"/>\n<path style=\"fill:none;stroke-width:1;stroke-linecap:butt;stroke-linejoin:miter;stroke:rgb(26.666667%,26.666667%,26.666667%);stroke-opacity:1;stroke-miterlimit:10;\" d=\"M 192.542969 139.230469 L 220.160156 193.605469 \"/>\n<path style=\"fill:none;stroke-width:1;stroke-linecap:butt;stroke-linejoin:miter;stroke:rgb(26.666667%,26.666667%,26.666667%);stroke-opacity:1;stroke-miterlimit:10;\" d=\"M 199.847656 200.058594 L 220.160156 193.605469 \"/>\n<path style=\"fill:none;stroke-width:1;stroke-linecap:butt;stroke-linejoin:miter;stroke:rgb(26.666667%,26.666667%,26.666667%);stroke-opacity:1;stroke-miterlimit:10;\" d=\"M 287.753906 153.820312 L 220.160156 193.605469 \"/>\n<path style=\"fill:none;stroke-width:1;stroke-linecap:butt;stroke-linejoin:miter;stroke:rgb(26.666667%,26.666667%,26.666667%);stroke-opacity:1;stroke-miterlimit:10;\" d=\"M 126.503906 162.816406 L 189.375 156.292969 \"/>\n<path style=\"fill:none;stroke-width:1;stroke-linecap:butt;stroke-linejoin:miter;stroke:rgb(26.666667%,26.666667%,26.666667%);stroke-opacity:1;stroke-miterlimit:10;\" d=\"M 215.117188 165.089844 L 189.375 156.292969 \"/>\n<path style=\"fill:none;stroke-width:1;stroke-linecap:butt;stroke-linejoin:miter;stroke:rgb(26.666667%,26.666667%,26.666667%);stroke-opacity:1;stroke-miterlimit:10;\" d=\"M 192 114.109375 L 189.375 156.292969 \"/>\n<path style=\"fill:none;stroke-width:1;stroke-linecap:butt;stroke-linejoin:miter;stroke:rgb(26.666667%,26.666667%,26.666667%);stroke-opacity:1;stroke-miterlimit:10;\" d=\"M 145.703125 190.640625 L 189.375 156.292969 \"/>\n<path style=\"fill:none;stroke-width:1;stroke-linecap:butt;stroke-linejoin:miter;stroke:rgb(26.666667%,26.666667%,26.666667%);stroke-opacity:1;stroke-miterlimit:10;\" d=\"M 169.957031 184.195312 L 168.089844 134.289062 \"/>\n<path style=\"fill:none;stroke-width:1;stroke-linecap:butt;stroke-linejoin:miter;stroke:rgb(26.666667%,26.666667%,26.666667%);stroke-opacity:1;stroke-miterlimit:10;\" d=\"M 164.335938 248.398438 L 128.855469 303.070312 \"/>\n<path style=\"fill:none;stroke-width:1;stroke-linecap:butt;stroke-linejoin:miter;stroke:rgb(26.666667%,26.666667%,26.666667%);stroke-opacity:1;stroke-miterlimit:10;\" d=\"M 240.925781 207.832031 L 148.707031 211.835938 \"/>\n<path style=\"fill:none;stroke-width:1;stroke-linecap:butt;stroke-linejoin:miter;stroke:rgb(26.666667%,26.666667%,26.666667%);stroke-opacity:1;stroke-miterlimit:10;\" d=\"M 84.042969 217.023438 L 148.707031 211.835938 \"/>\n<path style=\"fill:none;stroke-width:1;stroke-linecap:butt;stroke-linejoin:miter;stroke:rgb(26.666667%,26.666667%,26.666667%);stroke-opacity:1;stroke-miterlimit:10;\" d=\"M 226.664062 63.804688 L 214.855469 133.152344 \"/>\n<path style=\"fill:none;stroke-width:1;stroke-linecap:butt;stroke-linejoin:miter;stroke:rgb(26.666667%,26.666667%,26.666667%);stroke-opacity:1;stroke-miterlimit:10;\" d=\"M 151.210938 181.554688 L 214.855469 133.152344 \"/>\n<path style=\"fill:none;stroke-width:1;stroke-linecap:butt;stroke-linejoin:miter;stroke:rgb(26.666667%,26.666667%,26.666667%);stroke-opacity:1;stroke-miterlimit:10;\" d=\"M 145.703125 190.640625 L 214.855469 133.152344 \"/>\n<path style=\"fill:none;stroke-width:1;stroke-linecap:butt;stroke-linejoin:miter;stroke:rgb(26.666667%,26.666667%,26.666667%);stroke-opacity:1;stroke-miterlimit:10;\" d=\"M 191.40625 182.433594 L 145.390625 131.53125 \"/>\n<path style=\"fill:none;stroke-width:1;stroke-linecap:butt;stroke-linejoin:miter;stroke:rgb(26.666667%,26.666667%,26.666667%);stroke-opacity:1;stroke-miterlimit:10;\" d=\"M 192.542969 139.230469 L 145.390625 131.53125 \"/>\n<path style=\"fill:none;stroke-width:1;stroke-linecap:butt;stroke-linejoin:miter;stroke:rgb(26.666667%,26.666667%,26.666667%);stroke-opacity:1;stroke-miterlimit:10;\" d=\"M 240.925781 207.832031 L 311.78125 210.726562 \"/>\n<path style=\"fill:none;stroke-width:1;stroke-linecap:butt;stroke-linejoin:miter;stroke:rgb(26.666667%,26.666667%,26.666667%);stroke-opacity:1;stroke-miterlimit:10;\" d=\"M 229.777344 173.890625 L 223.695312 138.339844 \"/>\n<path style=\"fill:none;stroke-width:1;stroke-linecap:butt;stroke-linejoin:miter;stroke:rgb(26.666667%,26.666667%,26.666667%);stroke-opacity:1;stroke-miterlimit:10;\" d=\"M 145.390625 131.53125 L 223.695312 138.339844 \"/>\n<path style=\"fill:none;stroke-width:1;stroke-linecap:butt;stroke-linejoin:miter;stroke:rgb(26.666667%,26.666667%,26.666667%);stroke-opacity:1;stroke-miterlimit:10;\" d=\"M 288 142.234375 L 243.878906 172.101562 \"/>\n<path style=\"fill:none;stroke-width:1;stroke-linecap:butt;stroke-linejoin:miter;stroke:rgb(26.666667%,26.666667%,26.666667%);stroke-opacity:1;stroke-miterlimit:10;\" d=\"M 169.957031 184.195312 L 243.878906 172.101562 \"/>\n<path style=\"fill:none;stroke-width:1;stroke-linecap:butt;stroke-linejoin:miter;stroke:rgb(26.666667%,26.666667%,26.666667%);stroke-opacity:1;stroke-miterlimit:10;\" d=\"M 192.542969 139.230469 L 243.878906 172.101562 \"/>\n<path style=\"fill:none;stroke-width:1;stroke-linecap:butt;stroke-linejoin:miter;stroke:rgb(26.666667%,26.666667%,26.666667%);stroke-opacity:1;stroke-miterlimit:10;\" d=\"M 168.089844 134.289062 L 243.878906 172.101562 \"/>\n<path style=\"fill:none;stroke-width:1;stroke-linecap:butt;stroke-linejoin:miter;stroke:rgb(26.666667%,26.666667%,26.666667%);stroke-opacity:1;stroke-miterlimit:10;\" d=\"M 311.78125 210.726562 L 243.878906 172.101562 \"/>\n<path style=\"fill:none;stroke-width:1;stroke-linecap:butt;stroke-linejoin:miter;stroke:rgb(26.666667%,26.666667%,26.666667%);stroke-opacity:1;stroke-miterlimit:10;\" d=\"M 330.246094 158.441406 L 331.808594 120.359375 \"/>\n<path style=\"fill:none;stroke-width:1;stroke-linecap:butt;stroke-linejoin:miter;stroke:rgb(26.666667%,26.666667%,26.666667%);stroke-opacity:1;stroke-miterlimit:10;\" d=\"M 288 142.234375 L 206.058594 158.542969 \"/>\n<path style=\"fill:none;stroke-width:1;stroke-linecap:butt;stroke-linejoin:miter;stroke:rgb(26.666667%,26.666667%,26.666667%);stroke-opacity:1;stroke-miterlimit:10;\" d=\"M 221.160156 211.480469 L 206.058594 158.542969 \"/>\n<path style=\"fill:none;stroke-width:1;stroke-linecap:butt;stroke-linejoin:miter;stroke:rgb(26.666667%,26.666667%,26.666667%);stroke-opacity:1;stroke-miterlimit:10;\" d=\"M 214.855469 133.152344 L 206.058594 158.542969 \"/>\n<path style=\"fill:none;stroke-width:1;stroke-linecap:butt;stroke-linejoin:miter;stroke:rgb(26.666667%,26.666667%,26.666667%);stroke-opacity:1;stroke-miterlimit:10;\" d=\"M 215.117188 165.089844 L 185.492188 193.183594 \"/>\n<path style=\"fill:none;stroke-width:1;stroke-linecap:butt;stroke-linejoin:miter;stroke:rgb(26.666667%,26.666667%,26.666667%);stroke-opacity:1;stroke-miterlimit:10;\" d=\"M 151.210938 181.554688 L 185.492188 193.183594 \"/>\n<path style=\"fill:none;stroke-width:1;stroke-linecap:butt;stroke-linejoin:miter;stroke:rgb(26.666667%,26.666667%,26.666667%);stroke-opacity:1;stroke-miterlimit:10;\" d=\"M 192 114.109375 L 185.492188 193.183594 \"/>\n<path style=\"fill:none;stroke-width:1;stroke-linecap:butt;stroke-linejoin:miter;stroke:rgb(26.666667%,26.666667%,26.666667%);stroke-opacity:1;stroke-miterlimit:10;\" d=\"M 148.707031 211.835938 L 185.492188 193.183594 \"/>\n<path style=\"fill:none;stroke-width:1;stroke-linecap:butt;stroke-linejoin:miter;stroke:rgb(26.666667%,26.666667%,26.666667%);stroke-opacity:1;stroke-miterlimit:10;\" d=\"M 220.160156 193.605469 L 257.082031 179.464844 \"/>\n<path style=\"fill:none;stroke-width:1;stroke-linecap:butt;stroke-linejoin:miter;stroke:rgb(26.666667%,26.666667%,26.666667%);stroke-opacity:1;stroke-miterlimit:10;\" d=\"M 191.40625 182.433594 L 241.960938 164.78125 \"/>\n<path style=\"fill:none;stroke-width:1;stroke-linecap:butt;stroke-linejoin:miter;stroke:rgb(26.666667%,26.666667%,26.666667%);stroke-opacity:1;stroke-miterlimit:10;\" d=\"M 190.074219 70.242188 L 143.742188 108.085938 \"/>\n<path style=\"fill:none;stroke-width:1;stroke-linecap:butt;stroke-linejoin:miter;stroke:rgb(26.666667%,26.666667%,26.666667%);stroke-opacity:1;stroke-miterlimit:10;\" d=\"M 221.292969 185.007812 L 195.988281 218.273438 \"/>\n<path style=\"fill:none;stroke-width:1;stroke-linecap:butt;stroke-linejoin:miter;stroke:rgb(26.666667%,26.666667%,26.666667%);stroke-opacity:1;stroke-miterlimit:10;\" d=\"M 257.082031 179.464844 L 195.988281 218.273438 \"/>\n<path style=\"fill:none;stroke-width:1;stroke-linecap:butt;stroke-linejoin:miter;stroke:rgb(26.666667%,26.666667%,26.666667%);stroke-opacity:1;stroke-miterlimit:10;\" d=\"M 106.226562 225.757812 L 162.363281 198.53125 \"/>\n<path style=\"fill:none;stroke-width:1;stroke-linecap:butt;stroke-linejoin:miter;stroke:rgb(26.666667%,26.666667%,26.666667%);stroke-opacity:1;stroke-miterlimit:10;\" d=\"M 145.175781 234.800781 L 120.601562 206.902344 \"/>\n<path style=\"fill:none;stroke-width:1;stroke-linecap:butt;stroke-linejoin:miter;stroke:rgb(26.666667%,26.666667%,26.666667%);stroke-opacity:1;stroke-miterlimit:10;\" d=\"M 206.058594 158.542969 L 120.601562 206.902344 \"/>\n<path style=\"fill:none;stroke-width:1;stroke-linecap:butt;stroke-linejoin:miter;stroke:rgb(26.666667%,26.666667%,26.666667%);stroke-opacity:1;stroke-miterlimit:10;\" d=\"M 243.878906 172.101562 L 288.148438 222.25 \"/>\n<path style=\"fill:none;stroke-width:1;stroke-linecap:butt;stroke-linejoin:miter;stroke:rgb(26.666667%,26.666667%,26.666667%);stroke-opacity:1;stroke-miterlimit:10;\" d=\"M 257.082031 179.464844 L 288.148438 222.25 \"/>\n<path style=\"fill:none;stroke-width:1;stroke-linecap:butt;stroke-linejoin:miter;stroke:rgb(26.666667%,26.666667%,26.666667%);stroke-opacity:1;stroke-miterlimit:10;\" d=\"M 226.664062 63.804688 L 219.195312 87.363281 \"/>\n<path style=\"fill:none;stroke-width:1;stroke-linecap:butt;stroke-linejoin:miter;stroke:rgb(26.666667%,26.666667%,26.666667%);stroke-opacity:1;stroke-miterlimit:10;\" d=\"M 258.710938 149.820312 L 219.195312 87.363281 \"/>\n<path style=\"fill:none;stroke-width:1;stroke-linecap:butt;stroke-linejoin:miter;stroke:rgb(26.666667%,26.666667%,26.666667%);stroke-opacity:1;stroke-miterlimit:10;\" d=\"M 190.074219 70.242188 L 219.195312 87.363281 \"/>\n<path style=\"fill:none;stroke-width:1;stroke-linecap:butt;stroke-linejoin:miter;stroke:rgb(26.666667%,26.666667%,26.666667%);stroke-opacity:1;stroke-miterlimit:10;\" d=\"M 199.847656 200.058594 L 232.460938 237.40625 \"/>\n<path style=\"fill:none;stroke-width:1;stroke-linecap:butt;stroke-linejoin:miter;stroke:rgb(26.666667%,26.666667%,26.666667%);stroke-opacity:1;stroke-miterlimit:10;\" d=\"M 241.960938 164.78125 L 232.460938 237.40625 \"/>\n<path style=\"fill:none;stroke-width:1;stroke-linecap:butt;stroke-linejoin:miter;stroke:rgb(26.666667%,26.666667%,26.666667%);stroke-opacity:1;stroke-miterlimit:10;\" d=\"M 195.988281 218.273438 L 232.460938 237.40625 \"/>\n<path style=\"fill:none;stroke-width:1;stroke-linecap:butt;stroke-linejoin:miter;stroke:rgb(26.666667%,26.666667%,26.666667%);stroke-opacity:1;stroke-miterlimit:10;\" d=\"M 288.148438 222.25 L 232.460938 237.40625 \"/>\n<path style=\"fill:none;stroke-width:1;stroke-linecap:butt;stroke-linejoin:miter;stroke:rgb(26.666667%,26.666667%,26.666667%);stroke-opacity:1;stroke-miterlimit:10;\" d=\"M 191.40625 182.433594 L 205.8125 245.761719 \"/>\n<path style=\"fill:none;stroke-width:1;stroke-linecap:butt;stroke-linejoin:miter;stroke:rgb(26.666667%,26.666667%,26.666667%);stroke-opacity:1;stroke-miterlimit:10;\" d=\"M 195.988281 218.273438 L 205.8125 245.761719 \"/>\n<path style=\"fill:none;stroke-width:1;stroke-linecap:butt;stroke-linejoin:miter;stroke:rgb(26.666667%,26.666667%,26.666667%);stroke-opacity:1;stroke-miterlimit:10;\" d=\"M 232.460938 237.40625 L 205.8125 245.761719 \"/>\n<path style=\"fill:none;stroke-width:1;stroke-linecap:butt;stroke-linejoin:miter;stroke:rgb(26.666667%,26.666667%,26.666667%);stroke-opacity:1;stroke-miterlimit:10;\" d=\"M 126.503906 162.816406 L 215.609375 175.203125 \"/>\n<path style=\"fill:none;stroke-width:1;stroke-linecap:butt;stroke-linejoin:miter;stroke:rgb(26.666667%,26.666667%,26.666667%);stroke-opacity:1;stroke-miterlimit:10;\" d=\"M 148.707031 211.835938 L 215.609375 175.203125 \"/>\n<path style=\"fill:none;stroke-width:1;stroke-linecap:butt;stroke-linejoin:miter;stroke:rgb(26.666667%,26.666667%,26.666667%);stroke-opacity:1;stroke-miterlimit:10;\" d=\"M 223.695312 138.339844 L 215.609375 175.203125 \"/>\n<path style=\"fill:none;stroke-width:1;stroke-linecap:butt;stroke-linejoin:miter;stroke:rgb(26.666667%,26.666667%,26.666667%);stroke-opacity:1;stroke-miterlimit:10;\" d=\"M 205.8125 245.761719 L 231.753906 208.867188 \"/>\n<path style=\"fill:none;stroke-width:1;stroke-linecap:butt;stroke-linejoin:miter;stroke:rgb(26.666667%,26.666667%,26.666667%);stroke-opacity:1;stroke-miterlimit:10;\" d=\"M 215.609375 175.203125 L 231.753906 208.867188 \"/>\n<path style=\"fill:none;stroke-width:1;stroke-linecap:butt;stroke-linejoin:miter;stroke:rgb(26.666667%,26.666667%,26.666667%);stroke-opacity:1;stroke-miterlimit:10;\" d=\"M 254.878906 286.25 L 196.542969 269.984375 \"/>\n<path style=\"fill:none;stroke-width:1;stroke-linecap:butt;stroke-linejoin:miter;stroke:rgb(26.666667%,26.666667%,26.666667%);stroke-opacity:1;stroke-miterlimit:10;\" d=\"M 162.363281 198.53125 L 196.542969 269.984375 \"/>\n<path style=\"fill:none;stroke-width:1;stroke-linecap:butt;stroke-linejoin:miter;stroke:rgb(26.666667%,26.666667%,26.666667%);stroke-opacity:1;stroke-miterlimit:10;\" d=\"M 232.460938 237.40625 L 196.542969 269.984375 \"/>\n<path style=\"fill:none;stroke-width:1;stroke-linecap:butt;stroke-linejoin:miter;stroke:rgb(26.666667%,26.666667%,26.666667%);stroke-opacity:1;stroke-miterlimit:10;\" d=\"M 215.117188 165.089844 L 154.71875 144.757812 \"/>\n<path style=\"fill:none;stroke-width:1;stroke-linecap:butt;stroke-linejoin:miter;stroke:rgb(26.666667%,26.666667%,26.666667%);stroke-opacity:1;stroke-miterlimit:10;\" d=\"M 199.847656 200.058594 L 154.71875 144.757812 \"/>\n<path style=\"fill:none;stroke-width:1;stroke-linecap:butt;stroke-linejoin:miter;stroke:rgb(26.666667%,26.666667%,26.666667%);stroke-opacity:1;stroke-miterlimit:10;\" d=\"M 143.742188 108.085938 L 154.71875 144.757812 \"/>\n<path style=\"fill:none;stroke-width:1;stroke-linecap:butt;stroke-linejoin:miter;stroke:rgb(26.666667%,26.666667%,26.666667%);stroke-opacity:1;stroke-miterlimit:10;\" d=\"M 145.703125 190.640625 L 109 158.820312 \"/>\n<path style=\"fill:none;stroke-width:1;stroke-linecap:butt;stroke-linejoin:miter;stroke:rgb(26.666667%,26.666667%,26.666667%);stroke-opacity:1;stroke-miterlimit:10;\" d=\"M 43.390625 149.996094 L 109 158.820312 \"/>\n<path style=\"fill:none;stroke-width:1;stroke-linecap:butt;stroke-linejoin:miter;stroke:rgb(26.666667%,26.666667%,26.666667%);stroke-opacity:1;stroke-miterlimit:10;\" d=\"M 189.375 156.292969 L 245 141.605469 \"/>\n<path style=\"fill:none;stroke-width:1;stroke-linecap:butt;stroke-linejoin:miter;stroke:rgb(26.666667%,26.666667%,26.666667%);stroke-opacity:1;stroke-miterlimit:10;\" d=\"M 214.855469 133.152344 L 245 141.605469 \"/>\n<path style=\"fill:none;stroke-width:1;stroke-linecap:butt;stroke-linejoin:miter;stroke:rgb(26.666667%,26.666667%,26.666667%);stroke-opacity:1;stroke-miterlimit:10;\" d=\"M 331.808594 120.359375 L 245 141.605469 \"/>\n<path style=\"fill:none;stroke-width:1;stroke-linecap:butt;stroke-linejoin:miter;stroke:rgb(26.666667%,26.666667%,26.666667%);stroke-opacity:1;stroke-miterlimit:10;\" d=\"M 162.363281 198.53125 L 245 141.605469 \"/>\n<path style=\"fill:none;stroke-width:1;stroke-linecap:butt;stroke-linejoin:miter;stroke:rgb(26.666667%,26.666667%,26.666667%);stroke-opacity:1;stroke-miterlimit:10;\" d=\"M 288 142.234375 L 292.28125 172.222656 \"/>\n<path style=\"fill:none;stroke-width:1;stroke-linecap:butt;stroke-linejoin:miter;stroke:rgb(26.666667%,26.666667%,26.666667%);stroke-opacity:1;stroke-miterlimit:10;\" d=\"M 240.925781 207.832031 L 292.28125 172.222656 \"/>\n<path style=\"fill:none;stroke-width:1;stroke-linecap:butt;stroke-linejoin:miter;stroke:rgb(26.666667%,26.666667%,26.666667%);stroke-opacity:1;stroke-miterlimit:10;\" d=\"M 214.855469 133.152344 L 292.28125 172.222656 \"/>\n<path style=\"fill:none;stroke-width:1;stroke-linecap:butt;stroke-linejoin:miter;stroke:rgb(26.666667%,26.666667%,26.666667%);stroke-opacity:1;stroke-miterlimit:10;\" d=\"M 241.960938 164.78125 L 292.28125 172.222656 \"/>\n<path style=\"fill:none;stroke-width:1;stroke-linecap:butt;stroke-linejoin:miter;stroke:rgb(26.666667%,26.666667%,26.666667%);stroke-opacity:1;stroke-miterlimit:10;\" d=\"M 221.160156 211.480469 L 283.550781 243.019531 \"/>\n<path style=\"fill:none;stroke-width:1;stroke-linecap:butt;stroke-linejoin:miter;stroke:rgb(26.666667%,26.666667%,26.666667%);stroke-opacity:1;stroke-miterlimit:10;\" d=\"M 259.972656 203.449219 L 283.550781 243.019531 \"/>\n<path style=\"fill:none;stroke-width:1;stroke-linecap:butt;stroke-linejoin:miter;stroke:rgb(26.666667%,26.666667%,26.666667%);stroke-opacity:1;stroke-miterlimit:10;\" d=\"M 240.925781 207.832031 L 283.550781 243.019531 \"/>\n<path style=\"fill:none;stroke-width:1;stroke-linecap:butt;stroke-linejoin:miter;stroke:rgb(26.666667%,26.666667%,26.666667%);stroke-opacity:1;stroke-miterlimit:10;\" d=\"M 215.117188 165.089844 L 272.269531 189.800781 \"/>\n<path style=\"fill:none;stroke-width:1;stroke-linecap:butt;stroke-linejoin:miter;stroke:rgb(26.666667%,26.666667%,26.666667%);stroke-opacity:1;stroke-miterlimit:10;\" d=\"M 220.160156 193.605469 L 272.269531 189.800781 \"/>\n<path style=\"fill:none;stroke-width:1;stroke-linecap:butt;stroke-linejoin:miter;stroke:rgb(26.666667%,26.666667%,26.666667%);stroke-opacity:1;stroke-miterlimit:10;\" d=\"M 215.609375 175.203125 L 272.269531 189.800781 \"/>\n<path style=\"fill:none;stroke-width:1;stroke-linecap:butt;stroke-linejoin:miter;stroke:rgb(26.666667%,26.666667%,26.666667%);stroke-opacity:1;stroke-miterlimit:10;\" d=\"M 169.957031 184.195312 L 69.753906 171.1875 \"/>\n<path style=\"fill:none;stroke-width:1;stroke-linecap:butt;stroke-linejoin:miter;stroke:rgb(26.666667%,26.666667%,26.666667%);stroke-opacity:1;stroke-miterlimit:10;\" d=\"M 43.390625 149.996094 L 69.753906 171.1875 \"/>\n<path style=\"fill:none;stroke-width:1;stroke-linecap:butt;stroke-linejoin:miter;stroke:rgb(26.666667%,26.666667%,26.666667%);stroke-opacity:1;stroke-miterlimit:10;\" d=\"M 259.972656 203.449219 L 249.328125 197.683594 \"/>\n<path style=\"fill:none;stroke-width:1;stroke-linecap:butt;stroke-linejoin:miter;stroke:rgb(26.666667%,26.666667%,26.666667%);stroke-opacity:1;stroke-miterlimit:10;\" d=\"M 221.292969 185.007812 L 249.328125 197.683594 \"/>\n<path style=\"fill:none;stroke-width:1;stroke-linecap:butt;stroke-linejoin:miter;stroke:rgb(26.666667%,26.666667%,26.666667%);stroke-opacity:1;stroke-miterlimit:10;\" d=\"M 330.246094 158.441406 L 249.328125 197.683594 \"/>\n<path style=\"fill:none;stroke-width:1;stroke-linecap:butt;stroke-linejoin:miter;stroke:rgb(26.666667%,26.666667%,26.666667%);stroke-opacity:1;stroke-miterlimit:10;\" d=\"M 162.363281 198.53125 L 249.328125 197.683594 \"/>\n<path style=\"fill:none;stroke-width:1;stroke-linecap:butt;stroke-linejoin:miter;stroke:rgb(26.666667%,26.666667%,26.666667%);stroke-opacity:1;stroke-miterlimit:10;\" d=\"M 229.777344 173.890625 L 175.484375 213 \"/>\n<path style=\"fill:none;stroke-width:1;stroke-linecap:butt;stroke-linejoin:miter;stroke:rgb(26.666667%,26.666667%,26.666667%);stroke-opacity:1;stroke-miterlimit:10;\" d=\"M 253.199219 246.464844 L 175.484375 213 \"/>\n<path style=\"fill:none;stroke-width:1;stroke-linecap:butt;stroke-linejoin:miter;stroke:rgb(26.666667%,26.666667%,26.666667%);stroke-opacity:1;stroke-miterlimit:10;\" d=\"M 164.335938 248.398438 L 175.484375 213 \"/>\n<path style=\"fill:none;stroke-width:1;stroke-linecap:butt;stroke-linejoin:miter;stroke:rgb(26.666667%,26.666667%,26.666667%);stroke-opacity:1;stroke-miterlimit:10;\" d=\"M 221.160156 211.480469 L 175.484375 213 \"/>\n<path style=\"fill:none;stroke-width:1;stroke-linecap:butt;stroke-linejoin:miter;stroke:rgb(26.666667%,26.666667%,26.666667%);stroke-opacity:1;stroke-miterlimit:10;\" d=\"M 109 158.820312 L 175.484375 213 \"/>\n<path style=\"fill:none;stroke-width:1;stroke-linecap:butt;stroke-linejoin:miter;stroke:rgb(26.666667%,26.666667%,26.666667%);stroke-opacity:1;stroke-miterlimit:10;\" d=\"M 293.390625 201.445312 L 303.042969 178.511719 \"/>\n<path style=\"fill:none;stroke-width:1;stroke-linecap:butt;stroke-linejoin:miter;stroke:rgb(26.666667%,26.666667%,26.666667%);stroke-opacity:1;stroke-miterlimit:10;\" d=\"M 330.246094 158.441406 L 303.042969 178.511719 \"/>\n<path style=\"fill:none;stroke-width:1;stroke-linecap:butt;stroke-linejoin:miter;stroke:rgb(26.666667%,26.666667%,26.666667%);stroke-opacity:1;stroke-miterlimit:10;\" d=\"M 231.753906 208.867188 L 303.042969 178.511719 \"/>\n<path style=\"fill:none;stroke-width:1;stroke-linecap:butt;stroke-linejoin:miter;stroke:rgb(26.666667%,26.666667%,26.666667%);stroke-opacity:1;stroke-miterlimit:10;\" d=\"M 245 141.605469 L 303.042969 178.511719 \"/>\n<path style=\"fill:none;stroke-width:1;stroke-linecap:butt;stroke-linejoin:miter;stroke:rgb(26.666667%,26.666667%,26.666667%);stroke-opacity:1;stroke-miterlimit:10;\" d=\"M 292.28125 172.222656 L 303.042969 178.511719 \"/>\n<path style=\"fill:none;stroke-width:1;stroke-linecap:butt;stroke-linejoin:miter;stroke:rgb(26.666667%,26.666667%,26.666667%);stroke-opacity:1;stroke-miterlimit:10;\" d=\"M 272.269531 189.800781 L 303.042969 178.511719 \"/>\n<path style=\"fill:none;stroke-width:1;stroke-linecap:butt;stroke-linejoin:miter;stroke:rgb(26.666667%,26.666667%,26.666667%);stroke-opacity:1;stroke-miterlimit:10;\" d=\"M 214.855469 133.152344 L 279.191406 111.054688 \"/>\n<path style=\"fill:none;stroke-width:1;stroke-linecap:butt;stroke-linejoin:miter;stroke:rgb(26.666667%,26.666667%,26.666667%);stroke-opacity:1;stroke-miterlimit:10;\" d=\"M 241.960938 164.78125 L 279.191406 111.054688 \"/>\n<path style=\"fill:none;stroke-width:1;stroke-linecap:butt;stroke-linejoin:miter;stroke:rgb(26.666667%,26.666667%,26.666667%);stroke-opacity:1;stroke-miterlimit:10;\" d=\"M 84.042969 217.023438 L 87.179688 187.484375 \"/>\n<path style=\"fill:none;stroke-width:1;stroke-linecap:butt;stroke-linejoin:miter;stroke:rgb(26.666667%,26.666667%,26.666667%);stroke-opacity:1;stroke-miterlimit:10;\" d=\"M 162.363281 198.53125 L 87.179688 187.484375 \"/>\n<path style=\"fill:none;stroke-width:1;stroke-linecap:butt;stroke-linejoin:miter;stroke:rgb(26.666667%,26.666667%,26.666667%);stroke-opacity:1;stroke-miterlimit:10;\" d=\"M 259.972656 203.449219 L 292.28125 186.363281 \"/>\n<path style=\"fill:none;stroke-width:1;stroke-linecap:butt;stroke-linejoin:miter;stroke:rgb(26.666667%,26.666667%,26.666667%);stroke-opacity:1;stroke-miterlimit:10;\" d=\"M 215.117188 165.089844 L 292.28125 186.363281 \"/>\n<path style=\"fill:none;stroke-width:1;stroke-linecap:butt;stroke-linejoin:miter;stroke:rgb(26.666667%,26.666667%,26.666667%);stroke-opacity:1;stroke-miterlimit:10;\" d=\"M 243.878906 172.101562 L 292.28125 186.363281 \"/>\n<path style=\"fill:none;stroke-width:1;stroke-linecap:butt;stroke-linejoin:miter;stroke:rgb(26.666667%,26.666667%,26.666667%);stroke-opacity:1;stroke-miterlimit:10;\" d=\"M 292.28125 172.222656 L 292.28125 186.363281 \"/>\n<path style=\"fill:none;stroke-width:1;stroke-linecap:butt;stroke-linejoin:miter;stroke:rgb(26.666667%,26.666667%,26.666667%);stroke-opacity:1;stroke-miterlimit:10;\" d=\"M 221.160156 211.480469 L 230.9375 154.207031 \"/>\n<path style=\"fill:none;stroke-width:1;stroke-linecap:butt;stroke-linejoin:miter;stroke:rgb(26.666667%,26.666667%,26.666667%);stroke-opacity:1;stroke-miterlimit:10;\" d=\"M 221.292969 185.007812 L 230.9375 154.207031 \"/>\n<path style=\"fill:none;stroke-width:1;stroke-linecap:butt;stroke-linejoin:miter;stroke:rgb(26.666667%,26.666667%,26.666667%);stroke-opacity:1;stroke-miterlimit:10;\" d=\"M 191.40625 182.433594 L 230.9375 154.207031 \"/>\n<path style=\"fill:none;stroke-width:1;stroke-linecap:butt;stroke-linejoin:miter;stroke:rgb(26.666667%,26.666667%,26.666667%);stroke-opacity:1;stroke-miterlimit:10;\" d=\"M 189.375 156.292969 L 230.9375 154.207031 \"/>\n<path style=\"fill:none;stroke-width:1;stroke-linecap:butt;stroke-linejoin:miter;stroke:rgb(26.666667%,26.666667%,26.666667%);stroke-opacity:1;stroke-miterlimit:10;\" d=\"M 185.492188 193.183594 L 230.9375 154.207031 \"/>\n<path style=\"fill:none;stroke-width:1;stroke-linecap:butt;stroke-linejoin:miter;stroke:rgb(26.666667%,26.666667%,26.666667%);stroke-opacity:1;stroke-miterlimit:10;\" d=\"M 290.957031 97.910156 L 230.9375 154.207031 \"/>\n<path style=\"fill:none;stroke-width:1;stroke-linecap:butt;stroke-linejoin:miter;stroke:rgb(26.666667%,26.666667%,26.666667%);stroke-opacity:1;stroke-miterlimit:10;\" d=\"M 221.292969 185.007812 L 244.921875 220.433594 \"/>\n<path style=\"fill:none;stroke-width:1;stroke-linecap:butt;stroke-linejoin:miter;stroke:rgb(26.666667%,26.666667%,26.666667%);stroke-opacity:1;stroke-miterlimit:10;\" d=\"M 169.957031 184.195312 L 244.921875 220.433594 \"/>\n<path style=\"fill:none;stroke-width:1;stroke-linecap:butt;stroke-linejoin:miter;stroke:rgb(26.666667%,26.666667%,26.666667%);stroke-opacity:1;stroke-miterlimit:10;\" d=\"M 185.492188 193.183594 L 244.921875 220.433594 \"/>\n<path style=\"fill:none;stroke-width:1;stroke-linecap:butt;stroke-linejoin:miter;stroke:rgb(26.666667%,26.666667%,26.666667%);stroke-opacity:1;stroke-miterlimit:10;\" d=\"M 257.082031 179.464844 L 244.921875 220.433594 \"/>\n<path style=\"fill:none;stroke-width:1;stroke-linecap:butt;stroke-linejoin:miter;stroke:rgb(26.666667%,26.666667%,26.666667%);stroke-opacity:1;stroke-miterlimit:10;\" d=\"M 231.753906 208.867188 L 244.921875 220.433594 \"/>\n<path style=\"fill:none;stroke-width:1;stroke-linecap:butt;stroke-linejoin:miter;stroke:rgb(26.666667%,26.666667%,26.666667%);stroke-opacity:1;stroke-miterlimit:10;\" d=\"M 196.542969 269.984375 L 200.035156 292.457031 \"/>\n<path style=\"fill:none;stroke-width:1;stroke-linecap:butt;stroke-linejoin:miter;stroke:rgb(26.666667%,26.666667%,26.666667%);stroke-opacity:1;stroke-miterlimit:10;\" d=\"M 126.503906 162.816406 L 160.285156 158.972656 \"/>\n<path style=\"fill:none;stroke-width:1;stroke-linecap:butt;stroke-linejoin:miter;stroke:rgb(26.666667%,26.666667%,26.666667%);stroke-opacity:1;stroke-miterlimit:10;\" d=\"M 221.292969 185.007812 L 160.285156 158.972656 \"/>\n<path style=\"fill:none;stroke-width:1;stroke-linecap:butt;stroke-linejoin:miter;stroke:rgb(26.666667%,26.666667%,26.666667%);stroke-opacity:1;stroke-miterlimit:10;\" d=\"M 241.960938 164.78125 L 160.285156 158.972656 \"/>\n<path style=\"fill:none;stroke-width:1;stroke-linecap:butt;stroke-linejoin:miter;stroke:rgb(26.666667%,26.666667%,26.666667%);stroke-opacity:1;stroke-miterlimit:10;\" d=\"M 143.742188 108.085938 L 160.285156 158.972656 \"/>\n<path style=\"fill:none;stroke-width:1;stroke-linecap:butt;stroke-linejoin:miter;stroke:rgb(26.666667%,26.666667%,26.666667%);stroke-opacity:1;stroke-miterlimit:10;\" d=\"M 109 158.820312 L 160.285156 158.972656 \"/>\n<path style=\"fill:none;stroke-width:1;stroke-linecap:butt;stroke-linejoin:miter;stroke:rgb(26.666667%,26.666667%,26.666667%);stroke-opacity:1;stroke-miterlimit:10;\" d=\"M 175.484375 213 L 160.285156 158.972656 \"/>\n<path style=\"fill:none;stroke-width:1;stroke-linecap:butt;stroke-linejoin:miter;stroke:rgb(26.666667%,26.666667%,26.666667%);stroke-opacity:1;stroke-miterlimit:10;\" d=\"M 240.925781 207.832031 L 244.535156 123.464844 \"/>\n<path style=\"fill:none;stroke-width:1;stroke-linecap:butt;stroke-linejoin:miter;stroke:rgb(26.666667%,26.666667%,26.666667%);stroke-opacity:1;stroke-miterlimit:10;\" d=\"M 190.074219 70.242188 L 244.535156 123.464844 \"/>\n<path style=\"fill:none;stroke-width:1;stroke-linecap:butt;stroke-linejoin:miter;stroke:rgb(26.666667%,26.666667%,26.666667%);stroke-opacity:1;stroke-miterlimit:10;\" d=\"M 223.695312 138.339844 L 244.535156 123.464844 \"/>\n<path style=\"fill:none;stroke-width:1;stroke-linecap:butt;stroke-linejoin:miter;stroke:rgb(26.666667%,26.666667%,26.666667%);stroke-opacity:1;stroke-miterlimit:10;\" d=\"M 257.082031 179.464844 L 244.535156 123.464844 \"/>\n<path style=\"fill:none;stroke-width:1;stroke-linecap:butt;stroke-linejoin:miter;stroke:rgb(26.666667%,26.666667%,26.666667%);stroke-opacity:1;stroke-miterlimit:10;\" d=\"M 148.707031 211.835938 L 141.851562 175.015625 \"/>\n<path style=\"fill:none;stroke-width:1;stroke-linecap:butt;stroke-linejoin:miter;stroke:rgb(26.666667%,26.666667%,26.666667%);stroke-opacity:1;stroke-miterlimit:10;\" d=\"M 195.988281 218.273438 L 141.851562 175.015625 \"/>\n<path style=\"fill:none;stroke-width:1;stroke-linecap:butt;stroke-linejoin:miter;stroke:rgb(26.666667%,26.666667%,26.666667%);stroke-opacity:1;stroke-miterlimit:10;\" d=\"M 87.179688 187.484375 L 141.851562 175.015625 \"/>\n<path style=\"fill:none;stroke-width:1;stroke-linecap:butt;stroke-linejoin:miter;stroke:rgb(26.666667%,26.666667%,26.666667%);stroke-opacity:1;stroke-miterlimit:10;\" d=\"M 240.925781 207.832031 L 265.714844 222.300781 \"/>\n<path style=\"fill:none;stroke-width:1;stroke-linecap:butt;stroke-linejoin:miter;stroke:rgb(26.666667%,26.666667%,26.666667%);stroke-opacity:1;stroke-miterlimit:10;\" d=\"M 254.878906 286.25 L 265.714844 222.300781 \"/>\n<path style=\"fill:none;stroke-width:1;stroke-linecap:butt;stroke-linejoin:miter;stroke:rgb(26.666667%,26.666667%,26.666667%);stroke-opacity:1;stroke-miterlimit:10;\" d=\"M 257.082031 179.464844 L 265.714844 222.300781 \"/>\n<path style=\"fill:none;stroke-width:1;stroke-linecap:butt;stroke-linejoin:miter;stroke:rgb(26.666667%,26.666667%,26.666667%);stroke-opacity:1;stroke-miterlimit:10;\" d=\"M 215.609375 175.203125 L 265.714844 222.300781 \"/>\n<path style=\"fill:none;stroke-width:1;stroke-linecap:butt;stroke-linejoin:miter;stroke:rgb(26.666667%,26.666667%,26.666667%);stroke-opacity:1;stroke-miterlimit:10;\" d=\"M 249.328125 197.683594 L 265.714844 222.300781 \"/>\n<path style=\"fill:none;stroke-width:1;stroke-linecap:butt;stroke-linejoin:miter;stroke:rgb(26.666667%,26.666667%,26.666667%);stroke-opacity:1;stroke-miterlimit:10;\" d=\"M 192.542969 139.230469 L 162.757812 113.269531 \"/>\n<path style=\"fill:none;stroke-width:1;stroke-linecap:butt;stroke-linejoin:miter;stroke:rgb(26.666667%,26.666667%,26.666667%);stroke-opacity:1;stroke-miterlimit:10;\" d=\"M 109 158.820312 L 162.757812 113.269531 \"/>\n<path style=\"fill:none;stroke-width:1;stroke-linecap:butt;stroke-linejoin:miter;stroke:rgb(26.666667%,26.666667%,26.666667%);stroke-opacity:1;stroke-miterlimit:10;\" d=\"M 245 141.605469 L 162.757812 113.269531 \"/>\n<path style=\"fill:none;stroke-width:1;stroke-linecap:butt;stroke-linejoin:miter;stroke:rgb(26.666667%,26.666667%,26.666667%);stroke-opacity:1;stroke-miterlimit:10;\" d=\"M 169.957031 184.195312 L 179.5625 148.820312 \"/>\n<path style=\"fill:none;stroke-width:1;stroke-linecap:butt;stroke-linejoin:miter;stroke:rgb(26.666667%,26.666667%,26.666667%);stroke-opacity:1;stroke-miterlimit:10;\" d=\"M 192 114.109375 L 179.5625 148.820312 \"/>\n<path style=\"fill:none;stroke-width:1;stroke-linecap:butt;stroke-linejoin:miter;stroke:rgb(26.666667%,26.666667%,26.666667%);stroke-opacity:1;stroke-miterlimit:10;\" d=\"M 243.878906 172.101562 L 179.5625 148.820312 \"/>\n<path style=\"fill:none;stroke-width:1;stroke-linecap:butt;stroke-linejoin:miter;stroke:rgb(26.666667%,26.666667%,26.666667%);stroke-opacity:1;stroke-miterlimit:10;\" d=\"M 231.753906 208.867188 L 179.5625 148.820312 \"/>\n<path style=\"fill:none;stroke-width:1;stroke-linecap:butt;stroke-linejoin:miter;stroke:rgb(26.666667%,26.666667%,26.666667%);stroke-opacity:1;stroke-miterlimit:10;\" d=\"M 154.71875 144.757812 L 179.5625 148.820312 \"/>\n<path style=\"fill:none;stroke-width:1;stroke-linecap:butt;stroke-linejoin:miter;stroke:rgb(26.666667%,26.666667%,26.666667%);stroke-opacity:1;stroke-miterlimit:10;\" d=\"M 162.757812 113.269531 L 179.5625 148.820312 \"/>\n<path style=\"fill:none;stroke-width:1;stroke-linecap:butt;stroke-linejoin:miter;stroke:rgb(26.666667%,26.666667%,26.666667%);stroke-opacity:1;stroke-miterlimit:10;\" d=\"M 145.390625 131.53125 L 83.445312 150.542969 \"/>\n<path style=\"fill:none;stroke-width:1;stroke-linecap:butt;stroke-linejoin:miter;stroke:rgb(26.666667%,26.666667%,26.666667%);stroke-opacity:1;stroke-miterlimit:10;\" d=\"M 162.363281 198.53125 L 83.445312 150.542969 \"/>\n<path style=\"fill:none;stroke-width:1;stroke-linecap:butt;stroke-linejoin:miter;stroke:rgb(26.666667%,26.666667%,26.666667%);stroke-opacity:1;stroke-miterlimit:10;\" d=\"M 43.390625 149.996094 L 83.445312 150.542969 \"/>\n<path style=\"fill:none;stroke-width:1;stroke-linecap:butt;stroke-linejoin:miter;stroke:rgb(26.666667%,26.666667%,26.666667%);stroke-opacity:1;stroke-miterlimit:10;\" d=\"M 20 125.988281 L 83.445312 150.542969 \"/>\n<path style=\"fill:none;stroke-width:1;stroke-linecap:butt;stroke-linejoin:miter;stroke:rgb(26.666667%,26.666667%,26.666667%);stroke-opacity:1;stroke-miterlimit:10;\" d=\"M 109 158.820312 L 83.445312 150.542969 \"/>\n<path style=\"fill:none;stroke-width:1;stroke-linecap:butt;stroke-linejoin:miter;stroke:rgb(26.666667%,26.666667%,26.666667%);stroke-opacity:1;stroke-miterlimit:10;\" d=\"M 87.179688 187.484375 L 83.445312 150.542969 \"/>\n<path style=\"fill:none;stroke-width:1;stroke-linecap:butt;stroke-linejoin:miter;stroke:rgb(26.666667%,26.666667%,26.666667%);stroke-opacity:1;stroke-miterlimit:10;\" d=\"M 192 114.109375 L 247.796875 104.753906 \"/>\n<path style=\"fill:none;stroke-width:1;stroke-linecap:butt;stroke-linejoin:miter;stroke:rgb(26.666667%,26.666667%,26.666667%);stroke-opacity:1;stroke-miterlimit:10;\" d=\"M 287.753906 153.820312 L 247.796875 104.753906 \"/>\n<path style=\"fill:none;stroke-width:1;stroke-linecap:butt;stroke-linejoin:miter;stroke:rgb(26.666667%,26.666667%,26.666667%);stroke-opacity:1;stroke-miterlimit:10;\" d=\"M 206.058594 158.542969 L 247.796875 104.753906 \"/>\n<path style=\"fill:none;stroke-width:1;stroke-linecap:butt;stroke-linejoin:miter;stroke:rgb(26.666667%,26.666667%,26.666667%);stroke-opacity:1;stroke-miterlimit:10;\" d=\"M 214.855469 133.152344 L 209.503906 123.617188 \"/>\n<path style=\"fill:none;stroke-width:1;stroke-linecap:butt;stroke-linejoin:miter;stroke:rgb(26.666667%,26.666667%,26.666667%);stroke-opacity:1;stroke-miterlimit:10;\" d=\"M 257.082031 179.464844 L 209.503906 123.617188 \"/>\n<path style=\"fill:none;stroke-width:1;stroke-linecap:butt;stroke-linejoin:miter;stroke:rgb(26.666667%,26.666667%,26.666667%);stroke-opacity:1;stroke-miterlimit:10;\" d=\"M 219.195312 87.363281 L 209.503906 123.617188 \"/>\n<path style=\"fill:none;stroke-width:1;stroke-linecap:butt;stroke-linejoin:miter;stroke:rgb(26.666667%,26.666667%,26.666667%);stroke-opacity:1;stroke-miterlimit:10;\" d=\"M 245 141.605469 L 209.503906 123.617188 \"/>\n<path style=\"fill:none;stroke-width:1;stroke-linecap:butt;stroke-linejoin:miter;stroke:rgb(26.666667%,26.666667%,26.666667%);stroke-opacity:1;stroke-miterlimit:10;\" d=\"M 141.851562 175.015625 L 209.503906 123.617188 \"/>\n<path style=\"fill:none;stroke-width:1;stroke-linecap:butt;stroke-linejoin:miter;stroke:rgb(26.666667%,26.666667%,26.666667%);stroke-opacity:1;stroke-miterlimit:10;\" d=\"M 215.117188 165.089844 L 172.011719 117.613281 \"/>\n<path style=\"fill:none;stroke-width:1;stroke-linecap:butt;stroke-linejoin:miter;stroke:rgb(26.666667%,26.666667%,26.666667%);stroke-opacity:1;stroke-miterlimit:10;\" d=\"M 192.542969 139.230469 L 172.011719 117.613281 \"/>\n<path style=\"fill:none;stroke-width:1;stroke-linecap:butt;stroke-linejoin:miter;stroke:rgb(26.666667%,26.666667%,26.666667%);stroke-opacity:1;stroke-miterlimit:10;\" d=\"M 168.089844 134.289062 L 172.011719 117.613281 \"/>\n<path style=\"fill:none;stroke-width:1;stroke-linecap:butt;stroke-linejoin:miter;stroke:rgb(26.666667%,26.666667%,26.666667%);stroke-opacity:1;stroke-miterlimit:10;\" d=\"M 219.195312 87.363281 L 172.011719 117.613281 \"/>\n<path style=\"fill:none;stroke-width:1;stroke-linecap:butt;stroke-linejoin:miter;stroke:rgb(26.666667%,26.666667%,26.666667%);stroke-opacity:1;stroke-miterlimit:10;\" d=\"M 258.710938 149.820312 L 279.996094 134.566406 \"/>\n<path style=\"fill:none;stroke-width:1;stroke-linecap:butt;stroke-linejoin:miter;stroke:rgb(26.666667%,26.666667%,26.666667%);stroke-opacity:1;stroke-miterlimit:10;\" d=\"M 330.246094 158.441406 L 279.996094 134.566406 \"/>\n<path style=\"fill:none;stroke-width:1;stroke-linecap:butt;stroke-linejoin:miter;stroke:rgb(26.666667%,26.666667%,26.666667%);stroke-opacity:1;stroke-miterlimit:10;\" d=\"M 223.695312 138.339844 L 279.996094 134.566406 \"/>\n<path style=\"fill:none;stroke-width:1;stroke-linecap:butt;stroke-linejoin:miter;stroke:rgb(26.666667%,26.666667%,26.666667%);stroke-opacity:1;stroke-miterlimit:10;\" d=\"M 257.082031 179.464844 L 279.996094 134.566406 \"/>\n<path style=\"fill:none;stroke-width:1;stroke-linecap:butt;stroke-linejoin:miter;stroke:rgb(26.666667%,26.666667%,26.666667%);stroke-opacity:1;stroke-miterlimit:10;\" d=\"M 290.957031 97.910156 L 279.996094 134.566406 \"/>\n<path style=\"fill:none;stroke-width:1;stroke-linecap:butt;stroke-linejoin:miter;stroke:rgb(26.666667%,26.666667%,26.666667%);stroke-opacity:1;stroke-miterlimit:10;\" d=\"M 215.609375 175.203125 L 279.996094 134.566406 \"/>\n<path style=\"fill:none;stroke-width:1;stroke-linecap:butt;stroke-linejoin:miter;stroke:rgb(26.666667%,26.666667%,26.666667%);stroke-opacity:1;stroke-miterlimit:10;\" d=\"M 259.972656 203.449219 L 173.121094 168.761719 \"/>\n<path style=\"fill:none;stroke-width:1;stroke-linecap:butt;stroke-linejoin:miter;stroke:rgb(26.666667%,26.666667%,26.666667%);stroke-opacity:1;stroke-miterlimit:10;\" d=\"M 191.40625 182.433594 L 173.121094 168.761719 \"/>\n<path style=\"fill:none;stroke-width:1;stroke-linecap:butt;stroke-linejoin:miter;stroke:rgb(26.666667%,26.666667%,26.666667%);stroke-opacity:1;stroke-miterlimit:10;\" d=\"M 148.707031 211.835938 L 173.121094 168.761719 \"/>\n<path style=\"fill:none;stroke-width:1;stroke-linecap:butt;stroke-linejoin:miter;stroke:rgb(26.666667%,26.666667%,26.666667%);stroke-opacity:1;stroke-miterlimit:10;\" d=\"M 143.742188 108.085938 L 173.121094 168.761719 \"/>\n<path style=\"fill:none;stroke-width:1;stroke-linecap:butt;stroke-linejoin:miter;stroke:rgb(26.666667%,26.666667%,26.666667%);stroke-opacity:1;stroke-miterlimit:10;\" d=\"M 190.074219 70.242188 L 176.339844 20 \"/>\n<path style=\"fill:none;stroke-width:1;stroke-linecap:butt;stroke-linejoin:miter;stroke:rgb(26.666667%,26.666667%,26.666667%);stroke-opacity:1;stroke-miterlimit:10;\" d=\"M 192.542969 139.230469 L 259.828125 161.460938 \"/>\n<path style=\"fill:none;stroke-width:1;stroke-linecap:butt;stroke-linejoin:miter;stroke:rgb(26.666667%,26.666667%,26.666667%);stroke-opacity:1;stroke-miterlimit:10;\" d=\"M 189.375 156.292969 L 259.828125 161.460938 \"/>\n<path style=\"fill:none;stroke-width:1;stroke-linecap:butt;stroke-linejoin:miter;stroke:rgb(26.666667%,26.666667%,26.666667%);stroke-opacity:1;stroke-miterlimit:10;\" d=\"M 303.042969 178.511719 L 259.828125 161.460938 \"/>\n<path style=\"fill:none;stroke-width:1;stroke-linecap:butt;stroke-linejoin:miter;stroke:rgb(26.666667%,26.666667%,26.666667%);stroke-opacity:1;stroke-miterlimit:10;\" d=\"M 265.714844 222.300781 L 259.828125 161.460938 \"/>\n<path style=\"fill:none;stroke-width:1;stroke-linecap:butt;stroke-linejoin:miter;stroke:rgb(26.666667%,26.666667%,26.666667%);stroke-opacity:1;stroke-miterlimit:10;\" d=\"M 259.972656 203.449219 L 310.5 159.078125 \"/>\n<path style=\"fill:none;stroke-width:1;stroke-linecap:butt;stroke-linejoin:miter;stroke:rgb(26.666667%,26.666667%,26.666667%);stroke-opacity:1;stroke-miterlimit:10;\" d=\"M 258.710938 149.820312 L 310.5 159.078125 \"/>\n<path style=\"fill:none;stroke-width:1;stroke-linecap:butt;stroke-linejoin:miter;stroke:rgb(26.666667%,26.666667%,26.666667%);stroke-opacity:1;stroke-miterlimit:10;\" d=\"M 245 141.605469 L 310.5 159.078125 \"/>\n<path style=\"fill:none;stroke-width:1;stroke-linecap:butt;stroke-linejoin:miter;stroke:rgb(26.666667%,26.666667%,26.666667%);stroke-opacity:1;stroke-miterlimit:10;\" d=\"M 215.117188 165.089844 L 133.71875 170.210938 \"/>\n<path style=\"fill:none;stroke-width:1;stroke-linecap:butt;stroke-linejoin:miter;stroke:rgb(26.666667%,26.666667%,26.666667%);stroke-opacity:1;stroke-miterlimit:10;\" d=\"M 120.601562 206.902344 L 133.71875 170.210938 \"/>\n<path style=\"fill:none;stroke-width:1;stroke-linecap:butt;stroke-linejoin:miter;stroke:rgb(26.666667%,26.666667%,26.666667%);stroke-opacity:1;stroke-miterlimit:10;\" d=\"M 172.011719 117.613281 L 133.71875 170.210938 \"/>\n<path style=\"fill:none;stroke-width:1;stroke-linecap:butt;stroke-linejoin:miter;stroke:rgb(26.666667%,26.666667%,26.666667%);stroke-opacity:1;stroke-miterlimit:10;\" d=\"M 229.777344 173.890625 L 311.164062 134.085938 \"/>\n<path style=\"fill:none;stroke-width:1;stroke-linecap:butt;stroke-linejoin:miter;stroke:rgb(26.666667%,26.666667%,26.666667%);stroke-opacity:1;stroke-miterlimit:10;\" d=\"M 331.808594 120.359375 L 311.164062 134.085938 \"/>\n<path style=\"fill:none;stroke-width:1;stroke-linecap:butt;stroke-linejoin:miter;stroke:rgb(26.666667%,26.666667%,26.666667%);stroke-opacity:1;stroke-miterlimit:10;\" d=\"M 292.28125 172.222656 L 311.164062 134.085938 \"/>\n<path style=\"fill:none;stroke-width:1;stroke-linecap:butt;stroke-linejoin:miter;stroke:rgb(26.666667%,26.666667%,26.666667%);stroke-opacity:1;stroke-miterlimit:10;\" d=\"M 279.191406 111.054688 L 311.164062 134.085938 \"/>\n<path style=\"fill:none;stroke-width:1;stroke-linecap:butt;stroke-linejoin:miter;stroke:rgb(26.666667%,26.666667%,26.666667%);stroke-opacity:1;stroke-miterlimit:10;\" d=\"M 106.226562 225.757812 L 171.75 202.894531 \"/>\n<path style=\"fill:none;stroke-width:1;stroke-linecap:butt;stroke-linejoin:miter;stroke:rgb(26.666667%,26.666667%,26.666667%);stroke-opacity:1;stroke-miterlimit:10;\" d=\"M 189.375 156.292969 L 171.75 202.894531 \"/>\n<path style=\"fill:none;stroke-width:1;stroke-linecap:butt;stroke-linejoin:miter;stroke:rgb(26.666667%,26.666667%,26.666667%);stroke-opacity:1;stroke-miterlimit:10;\" d=\"M 206.058594 158.542969 L 171.75 202.894531 \"/>\n<path style=\"fill:none;stroke-width:1;stroke-linecap:butt;stroke-linejoin:miter;stroke:rgb(26.666667%,26.666667%,26.666667%);stroke-opacity:1;stroke-miterlimit:10;\" d=\"M 195.988281 218.273438 L 171.75 202.894531 \"/>\n<path style=\"fill:none;stroke-width:1;stroke-linecap:butt;stroke-linejoin:miter;stroke:rgb(26.666667%,26.666667%,26.666667%);stroke-opacity:1;stroke-miterlimit:10;\" d=\"M 249.328125 197.683594 L 171.75 202.894531 \"/>\n<path style=\"fill:none;stroke-width:1;stroke-linecap:butt;stroke-linejoin:miter;stroke:rgb(26.666667%,26.666667%,26.666667%);stroke-opacity:1;stroke-miterlimit:10;\" d=\"M 133.71875 170.210938 L 171.75 202.894531 \"/>\n<path style=\"fill:none;stroke-width:1;stroke-linecap:butt;stroke-linejoin:miter;stroke:rgb(26.666667%,26.666667%,26.666667%);stroke-opacity:1;stroke-miterlimit:10;\" d=\"M 145.175781 234.800781 L 155.914062 262.988281 \"/>\n<path style=\"fill:none;stroke-width:1;stroke-linecap:butt;stroke-linejoin:miter;stroke:rgb(26.666667%,26.666667%,26.666667%);stroke-opacity:1;stroke-miterlimit:10;\" d=\"M 185.492188 193.183594 L 155.914062 262.988281 \"/>\n<path style=\"fill:none;stroke-width:1;stroke-linecap:butt;stroke-linejoin:miter;stroke:rgb(26.666667%,26.666667%,26.666667%);stroke-opacity:1;stroke-miterlimit:10;\" d=\"M 196.542969 269.984375 L 155.914062 262.988281 \"/>\n<path style=\"fill:none;stroke-width:1;stroke-linecap:butt;stroke-linejoin:miter;stroke:rgb(26.666667%,26.666667%,26.666667%);stroke-opacity:1;stroke-miterlimit:10;\" d=\"M 169.957031 184.195312 L 204.066406 223.488281 \"/>\n<path style=\"fill:none;stroke-width:1;stroke-linecap:butt;stroke-linejoin:miter;stroke:rgb(26.666667%,26.666667%,26.666667%);stroke-opacity:1;stroke-miterlimit:10;\" d=\"M 240.925781 207.832031 L 204.066406 223.488281 \"/>\n<path style=\"fill:none;stroke-width:1;stroke-linecap:butt;stroke-linejoin:miter;stroke:rgb(26.666667%,26.666667%,26.666667%);stroke-opacity:1;stroke-miterlimit:10;\" d=\"M 258.710938 149.820312 L 204.066406 223.488281 \"/>\n<path style=\"fill:none;stroke-width:1;stroke-linecap:butt;stroke-linejoin:miter;stroke:rgb(26.666667%,26.666667%,26.666667%);stroke-opacity:1;stroke-miterlimit:10;\" d=\"M 145.703125 190.640625 L 204.066406 223.488281 \"/>\n<path style=\"fill:none;stroke-width:1;stroke-linecap:butt;stroke-linejoin:miter;stroke:rgb(26.666667%,26.666667%,26.666667%);stroke-opacity:1;stroke-miterlimit:10;\" d=\"M 231.753906 208.867188 L 204.066406 223.488281 \"/>\n<path style=\"fill:none;stroke-width:1;stroke-linecap:butt;stroke-linejoin:miter;stroke:rgb(26.666667%,26.666667%,26.666667%);stroke-opacity:1;stroke-miterlimit:10;\" d=\"M 200.035156 292.457031 L 204.066406 223.488281 \"/>\n<path style=\"fill:none;stroke-width:1;stroke-linecap:butt;stroke-linejoin:miter;stroke:rgb(26.666667%,26.666667%,26.666667%);stroke-opacity:1;stroke-miterlimit:10;\" d=\"M 171.75 202.894531 L 204.066406 223.488281 \"/>\n<path style=\"fill:none;stroke-width:1;stroke-linecap:butt;stroke-linejoin:miter;stroke:rgb(26.666667%,26.666667%,26.666667%);stroke-opacity:1;stroke-miterlimit:10;\" d=\"M 192.542969 139.230469 L 124.964844 133.871094 \"/>\n<path style=\"fill:none;stroke-width:1;stroke-linecap:butt;stroke-linejoin:miter;stroke:rgb(26.666667%,26.666667%,26.666667%);stroke-opacity:1;stroke-miterlimit:10;\" d=\"M 151.210938 181.554688 L 124.964844 133.871094 \"/>\n<path style=\"fill:none;stroke-width:1;stroke-linecap:butt;stroke-linejoin:miter;stroke:rgb(26.666667%,26.666667%,26.666667%);stroke-opacity:1;stroke-miterlimit:10;\" d=\"M 168.089844 134.289062 L 124.964844 133.871094 \"/>\n<path style=\"fill:none;stroke-width:1;stroke-linecap:butt;stroke-linejoin:miter;stroke:rgb(26.666667%,26.666667%,26.666667%);stroke-opacity:1;stroke-miterlimit:10;\" d=\"M 179.5625 148.820312 L 124.964844 133.871094 \"/>\n<path style=\"fill:none;stroke-width:1;stroke-linecap:butt;stroke-linejoin:miter;stroke:rgb(26.666667%,26.666667%,26.666667%);stroke-opacity:1;stroke-miterlimit:10;\" d=\"M 83.445312 150.542969 L 124.964844 133.871094 \"/>\n<path style=\"fill:none;stroke-width:1;stroke-linecap:butt;stroke-linejoin:miter;stroke:rgb(26.666667%,26.666667%,26.666667%);stroke-opacity:1;stroke-miterlimit:10;\" d=\"M 215.117188 165.089844 L 237.058594 130.289062 \"/>\n<path style=\"fill:none;stroke-width:1;stroke-linecap:butt;stroke-linejoin:miter;stroke:rgb(26.666667%,26.666667%,26.666667%);stroke-opacity:1;stroke-miterlimit:10;\" d=\"M 206.058594 158.542969 L 237.058594 130.289062 \"/>\n<path style=\"fill:none;stroke-width:1;stroke-linecap:butt;stroke-linejoin:miter;stroke:rgb(26.666667%,26.666667%,26.666667%);stroke-opacity:1;stroke-miterlimit:10;\" d=\"M 215.609375 175.203125 L 237.058594 130.289062 \"/>\n<path style=\"fill:none;stroke-width:1;stroke-linecap:butt;stroke-linejoin:miter;stroke:rgb(26.666667%,26.666667%,26.666667%);stroke-opacity:1;stroke-miterlimit:10;\" d=\"M 209.503906 123.617188 L 237.058594 130.289062 \"/>\n<path style=\"fill:none;stroke-width:1;stroke-linecap:butt;stroke-linejoin:miter;stroke:rgb(26.666667%,26.666667%,26.666667%);stroke-opacity:1;stroke-miterlimit:10;\" d=\"M 259.828125 161.460938 L 237.058594 130.289062 \"/>\n<path style=\"fill:none;stroke-width:1;stroke-linecap:butt;stroke-linejoin:miter;stroke:rgb(26.666667%,26.666667%,26.666667%);stroke-opacity:1;stroke-miterlimit:10;\" d=\"M 259.972656 203.449219 L 232.640625 191.542969 \"/>\n<path style=\"fill:none;stroke-width:1;stroke-linecap:butt;stroke-linejoin:miter;stroke:rgb(26.666667%,26.666667%,26.666667%);stroke-opacity:1;stroke-miterlimit:10;\" d=\"M 223.695312 138.339844 L 232.640625 191.542969 \"/>\n<path style=\"fill:none;stroke-width:1;stroke-linecap:butt;stroke-linejoin:miter;stroke:rgb(26.666667%,26.666667%,26.666667%);stroke-opacity:1;stroke-miterlimit:10;\" d=\"M 162.363281 198.53125 L 232.640625 191.542969 \"/>\n<path style=\"fill:none;stroke-width:1;stroke-linecap:butt;stroke-linejoin:miter;stroke:rgb(26.666667%,26.666667%,26.666667%);stroke-opacity:1;stroke-miterlimit:10;\" d=\"M 249.328125 197.683594 L 232.640625 191.542969 \"/>\n<path style=\"fill:none;stroke-width:1;stroke-linecap:butt;stroke-linejoin:miter;stroke:rgb(26.666667%,26.666667%,26.666667%);stroke-opacity:1;stroke-miterlimit:10;\" d=\"M 292.28125 172.222656 L 326.121094 234.296875 \"/>\n<path style=\"fill:none;stroke-width:1;stroke-linecap:butt;stroke-linejoin:miter;stroke:rgb(26.666667%,26.666667%,26.666667%);stroke-opacity:1;stroke-miterlimit:10;\" d=\"M 283.550781 243.019531 L 326.121094 234.296875 \"/>\n<path style=\"fill:none;stroke-width:1;stroke-linecap:butt;stroke-linejoin:miter;stroke:rgb(26.666667%,26.666667%,26.666667%);stroke-opacity:1;stroke-miterlimit:10;\" d=\"M 244.921875 220.433594 L 326.121094 234.296875 \"/>\n<path style=\"fill:none;stroke-width:1;stroke-linecap:butt;stroke-linejoin:miter;stroke:rgb(26.666667%,26.666667%,26.666667%);stroke-opacity:1;stroke-miterlimit:10;\" d=\"M 380 262.859375 L 326.121094 234.296875 \"/>\n<path style=\"fill:none;stroke-width:1;stroke-linecap:butt;stroke-linejoin:miter;stroke:rgb(26.666667%,26.666667%,26.666667%);stroke-opacity:1;stroke-miterlimit:10;\" d=\"M 106.226562 225.757812 L 79.554688 197.078125 \"/>\n<path style=\"fill:none;stroke-width:1;stroke-linecap:butt;stroke-linejoin:miter;stroke:rgb(26.666667%,26.666667%,26.666667%);stroke-opacity:1;stroke-miterlimit:10;\" d=\"M 126.503906 162.816406 L 79.554688 197.078125 \"/>\n<path style=\"fill:none;stroke-width:1;stroke-linecap:butt;stroke-linejoin:miter;stroke:rgb(26.666667%,26.666667%,26.666667%);stroke-opacity:1;stroke-miterlimit:10;\" d=\"M 151.210938 181.554688 L 79.554688 197.078125 \"/>\n<path style=\"fill:none;stroke-width:1;stroke-linecap:butt;stroke-linejoin:miter;stroke:rgb(26.666667%,26.666667%,26.666667%);stroke-opacity:1;stroke-miterlimit:10;\" d=\"M 87.179688 187.484375 L 79.554688 197.078125 \"/>\n<path style=\"fill:none;stroke-width:1;stroke-linecap:butt;stroke-linejoin:miter;stroke:rgb(26.666667%,26.666667%,26.666667%);stroke-opacity:1;stroke-miterlimit:10;\" d=\"M 148.707031 211.835938 L 86.085938 244.136719 \"/>\n<path style=\"fill:none;stroke-width:1;stroke-linecap:butt;stroke-linejoin:miter;stroke:rgb(26.666667%,26.666667%,26.666667%);stroke-opacity:1;stroke-miterlimit:10;\" d=\"M 120.601562 206.902344 L 86.085938 244.136719 \"/>\n<path style=\"fill-rule:nonzero;fill:rgb(100%,0%,0%);fill-opacity:1;stroke-width:1;stroke-linecap:butt;stroke-linejoin:miter;stroke:rgb(0%,0%,0%);stroke-opacity:1;stroke-miterlimit:10;\" d=\"M 231.277344 173.890625 C 231.277344 175.890625 228.277344 175.890625 228.277344 173.890625 C 228.277344 171.890625 231.277344 171.890625 231.277344 173.890625 \"/>\n<path style=\"fill-rule:nonzero;fill:rgb(100%,0%,0%);fill-opacity:1;stroke-width:1;stroke-linecap:butt;stroke-linejoin:miter;stroke:rgb(0%,0%,0%);stroke-opacity:1;stroke-miterlimit:10;\" d=\"M 254.699219 246.464844 C 254.699219 248.464844 251.699219 248.464844 251.699219 246.464844 C 251.699219 244.464844 254.699219 244.464844 254.699219 246.464844 \"/>\n<path style=\"fill-rule:nonzero;fill:rgb(100%,0%,0%);fill-opacity:1;stroke-width:1;stroke-linecap:butt;stroke-linejoin:miter;stroke:rgb(0%,0%,0%);stroke-opacity:1;stroke-miterlimit:10;\" d=\"M 107.726562 225.757812 C 107.726562 227.757812 104.726562 227.757812 104.726562 225.757812 C 104.726562 223.757812 107.726562 223.757812 107.726562 225.757812 \"/>\n<path style=\"fill-rule:nonzero;fill:rgb(100%,0%,0%);fill-opacity:1;stroke-width:1;stroke-linecap:butt;stroke-linejoin:miter;stroke:rgb(0%,0%,0%);stroke-opacity:1;stroke-miterlimit:10;\" d=\"M 294.890625 201.445312 C 294.890625 203.445312 291.890625 203.445312 291.890625 201.445312 C 291.890625 199.445312 294.890625 199.445312 294.890625 201.445312 \"/>\n<path style=\"fill-rule:nonzero;fill:rgb(100%,0%,0%);fill-opacity:1;stroke-width:1;stroke-linecap:butt;stroke-linejoin:miter;stroke:rgb(0%,0%,0%);stroke-opacity:1;stroke-miterlimit:10;\" d=\"M 128.003906 162.816406 C 128.003906 164.816406 125.003906 164.816406 125.003906 162.816406 C 125.003906 160.816406 128.003906 160.816406 128.003906 162.816406 \"/>\n<path style=\"fill-rule:nonzero;fill:rgb(100%,0%,0%);fill-opacity:1;stroke-width:1;stroke-linecap:butt;stroke-linejoin:miter;stroke:rgb(0%,0%,0%);stroke-opacity:1;stroke-miterlimit:10;\" d=\"M 289.5 142.234375 C 289.5 144.234375 286.5 144.234375 286.5 142.234375 C 286.5 140.234375 289.5 140.234375 289.5 142.234375 \"/>\n<path style=\"fill-rule:nonzero;fill:rgb(100%,0%,0%);fill-opacity:1;stroke-width:1;stroke-linecap:butt;stroke-linejoin:miter;stroke:rgb(0%,0%,0%);stroke-opacity:1;stroke-miterlimit:10;\" d=\"M 228.164062 63.804688 C 228.164062 65.804688 225.164062 65.804688 225.164062 63.804688 C 225.164062 61.804688 228.164062 61.804688 228.164062 63.804688 \"/>\n<path style=\"fill-rule:nonzero;fill:rgb(100%,0%,0%);fill-opacity:1;stroke-width:1;stroke-linecap:butt;stroke-linejoin:miter;stroke:rgb(0%,0%,0%);stroke-opacity:1;stroke-miterlimit:10;\" d=\"M 165.835938 248.398438 C 165.835938 250.398438 162.835938 250.398438 162.835938 248.398438 C 162.835938 246.398438 165.835938 246.398438 165.835938 248.398438 \"/>\n<path style=\"fill-rule:nonzero;fill:rgb(100%,0%,0%);fill-opacity:1;stroke-width:1;stroke-linecap:butt;stroke-linejoin:miter;stroke:rgb(0%,0%,0%);stroke-opacity:1;stroke-miterlimit:10;\" d=\"M 199.207031 380 C 199.207031 382 196.207031 382 196.207031 380 C 196.207031 378 199.207031 378 199.207031 380 \"/>\n<path style=\"fill-rule:nonzero;fill:rgb(100%,0%,0%);fill-opacity:1;stroke-width:1;stroke-linecap:butt;stroke-linejoin:miter;stroke:rgb(0%,0%,0%);stroke-opacity:1;stroke-miterlimit:10;\" d=\"M 222.660156 211.480469 C 222.660156 213.480469 219.660156 213.480469 219.660156 211.480469 C 219.660156 209.480469 222.660156 209.480469 222.660156 211.480469 \"/>\n<path style=\"fill-rule:nonzero;fill:rgb(100%,0%,0%);fill-opacity:1;stroke-width:1;stroke-linecap:butt;stroke-linejoin:miter;stroke:rgb(0%,0%,0%);stroke-opacity:1;stroke-miterlimit:10;\" d=\"M 261.472656 203.449219 C 261.472656 205.449219 258.472656 205.449219 258.472656 203.449219 C 258.472656 201.449219 261.472656 201.449219 261.472656 203.449219 \"/>\n<path style=\"fill-rule:nonzero;fill:rgb(100%,0%,0%);fill-opacity:1;stroke-width:1;stroke-linecap:butt;stroke-linejoin:miter;stroke:rgb(0%,0%,0%);stroke-opacity:1;stroke-miterlimit:10;\" d=\"M 146.675781 234.800781 C 146.675781 236.800781 143.675781 236.800781 143.675781 234.800781 C 143.675781 232.800781 146.675781 232.800781 146.675781 234.800781 \"/>\n<path style=\"fill-rule:nonzero;fill:rgb(100%,0%,0%);fill-opacity:1;stroke-width:1;stroke-linecap:butt;stroke-linejoin:miter;stroke:rgb(0%,0%,0%);stroke-opacity:1;stroke-miterlimit:10;\" d=\"M 216.617188 165.089844 C 216.617188 167.089844 213.617188 167.089844 213.617188 165.089844 C 213.617188 163.089844 216.617188 163.089844 216.617188 165.089844 \"/>\n<path style=\"fill-rule:nonzero;fill:rgb(100%,0%,0%);fill-opacity:1;stroke-width:1;stroke-linecap:butt;stroke-linejoin:miter;stroke:rgb(0%,0%,0%);stroke-opacity:1;stroke-miterlimit:10;\" d=\"M 222.792969 185.007812 C 222.792969 187.007812 219.792969 187.007812 219.792969 185.007812 C 219.792969 183.007812 222.792969 183.007812 222.792969 185.007812 \"/>\n<path style=\"fill-rule:nonzero;fill:rgb(100%,0%,0%);fill-opacity:1;stroke-width:1;stroke-linecap:butt;stroke-linejoin:miter;stroke:rgb(0%,0%,0%);stroke-opacity:1;stroke-miterlimit:10;\" d=\"M 171.457031 184.195312 C 171.457031 186.195312 168.457031 186.195312 168.457031 184.195312 C 168.457031 182.195312 171.457031 182.195312 171.457031 184.195312 \"/>\n<path style=\"fill-rule:nonzero;fill:rgb(100%,0%,0%);fill-opacity:1;stroke-width:1;stroke-linecap:butt;stroke-linejoin:miter;stroke:rgb(0%,0%,0%);stroke-opacity:1;stroke-miterlimit:10;\" d=\"M 242.425781 207.832031 C 242.425781 209.832031 239.425781 209.832031 239.425781 207.832031 C 239.425781 205.832031 242.425781 205.832031 242.425781 207.832031 \"/>\n<path style=\"fill-rule:nonzero;fill:rgb(100%,0%,0%);fill-opacity:1;stroke-width:1;stroke-linecap:butt;stroke-linejoin:miter;stroke:rgb(0%,0%,0%);stroke-opacity:1;stroke-miterlimit:10;\" d=\"M 192.90625 182.433594 C 192.90625 184.433594 189.90625 184.433594 189.90625 182.433594 C 189.90625 180.433594 192.90625 180.433594 192.90625 182.433594 \"/>\n<path style=\"fill-rule:nonzero;fill:rgb(100%,0%,0%);fill-opacity:1;stroke-width:1;stroke-linecap:butt;stroke-linejoin:miter;stroke:rgb(0%,0%,0%);stroke-opacity:1;stroke-miterlimit:10;\" d=\"M 194.042969 139.230469 C 194.042969 141.230469 191.042969 141.230469 191.042969 139.230469 C 191.042969 137.230469 194.042969 137.230469 194.042969 139.230469 \"/>\n<path style=\"fill-rule:nonzero;fill:rgb(100%,0%,0%);fill-opacity:1;stroke-width:1;stroke-linecap:butt;stroke-linejoin:miter;stroke:rgb(0%,0%,0%);stroke-opacity:1;stroke-miterlimit:10;\" d=\"M 152.710938 181.554688 C 152.710938 183.554688 149.710938 183.554688 149.710938 181.554688 C 149.710938 179.554688 152.710938 179.554688 152.710938 181.554688 \"/>\n<path style=\"fill-rule:nonzero;fill:rgb(100%,0%,0%);fill-opacity:1;stroke-width:1;stroke-linecap:butt;stroke-linejoin:miter;stroke:rgb(0%,0%,0%);stroke-opacity:1;stroke-miterlimit:10;\" d=\"M 193.5 114.109375 C 193.5 116.109375 190.5 116.109375 190.5 114.109375 C 190.5 112.109375 193.5 112.109375 193.5 114.109375 \"/>\n<path style=\"fill-rule:nonzero;fill:rgb(100%,0%,0%);fill-opacity:1;stroke-width:1;stroke-linecap:butt;stroke-linejoin:miter;stroke:rgb(0%,0%,0%);stroke-opacity:1;stroke-miterlimit:10;\" d=\"M 201.347656 200.058594 C 201.347656 202.058594 198.347656 202.058594 198.347656 200.058594 C 198.347656 198.058594 201.347656 198.058594 201.347656 200.058594 \"/>\n<path style=\"fill-rule:nonzero;fill:rgb(100%,0%,0%);fill-opacity:1;stroke-width:1;stroke-linecap:butt;stroke-linejoin:miter;stroke:rgb(0%,0%,0%);stroke-opacity:1;stroke-miterlimit:10;\" d=\"M 260.210938 149.820312 C 260.210938 151.820312 257.210938 151.820312 257.210938 149.820312 C 257.210938 147.820312 260.210938 147.820312 260.210938 149.820312 \"/>\n<path style=\"fill-rule:nonzero;fill:rgb(100%,0%,0%);fill-opacity:1;stroke-width:1;stroke-linecap:butt;stroke-linejoin:miter;stroke:rgb(0%,0%,0%);stroke-opacity:1;stroke-miterlimit:10;\" d=\"M 191.574219 70.242188 C 191.574219 72.242188 188.574219 72.242188 188.574219 70.242188 C 188.574219 68.242188 191.574219 68.242188 191.574219 70.242188 \"/>\n<path style=\"fill-rule:nonzero;fill:rgb(100%,0%,0%);fill-opacity:1;stroke-width:1;stroke-linecap:butt;stroke-linejoin:miter;stroke:rgb(0%,0%,0%);stroke-opacity:1;stroke-miterlimit:10;\" d=\"M 289.253906 153.820312 C 289.253906 155.820312 286.253906 155.820312 286.253906 153.820312 C 286.253906 151.820312 289.253906 151.820312 289.253906 153.820312 \"/>\n<path style=\"fill-rule:nonzero;fill:rgb(100%,0%,0%);fill-opacity:1;stroke-width:1;stroke-linecap:butt;stroke-linejoin:miter;stroke:rgb(0%,0%,0%);stroke-opacity:1;stroke-miterlimit:10;\" d=\"M 147.203125 190.640625 C 147.203125 192.640625 144.203125 192.640625 144.203125 190.640625 C 144.203125 188.640625 147.203125 188.640625 147.203125 190.640625 \"/>\n<path style=\"fill-rule:nonzero;fill:rgb(100%,0%,0%);fill-opacity:1;stroke-width:1;stroke-linecap:butt;stroke-linejoin:miter;stroke:rgb(0%,0%,0%);stroke-opacity:1;stroke-miterlimit:10;\" d=\"M 85.542969 217.023438 C 85.542969 219.023438 82.542969 219.023438 82.542969 217.023438 C 82.542969 215.023438 85.542969 215.023438 85.542969 217.023438 \"/>\n<path style=\"fill-rule:nonzero;fill:rgb(100%,0%,0%);fill-opacity:1;stroke-width:1;stroke-linecap:butt;stroke-linejoin:miter;stroke:rgb(0%,0%,0%);stroke-opacity:1;stroke-miterlimit:10;\" d=\"M 331.746094 158.441406 C 331.746094 160.441406 328.746094 160.441406 328.746094 158.441406 C 328.746094 156.441406 331.746094 156.441406 331.746094 158.441406 \"/>\n<path style=\"fill-rule:nonzero;fill:rgb(100%,0%,0%);fill-opacity:1;stroke-width:1;stroke-linecap:butt;stroke-linejoin:miter;stroke:rgb(0%,0%,0%);stroke-opacity:1;stroke-miterlimit:10;\" d=\"M 221.660156 193.605469 C 221.660156 195.605469 218.660156 195.605469 218.660156 193.605469 C 218.660156 191.605469 221.660156 191.605469 221.660156 193.605469 \"/>\n<path style=\"fill-rule:nonzero;fill:rgb(100%,0%,0%);fill-opacity:1;stroke-width:1;stroke-linecap:butt;stroke-linejoin:miter;stroke:rgb(0%,0%,0%);stroke-opacity:1;stroke-miterlimit:10;\" d=\"M 256.378906 286.25 C 256.378906 288.25 253.378906 288.25 253.378906 286.25 C 253.378906 284.25 256.378906 284.25 256.378906 286.25 \"/>\n<path style=\"fill-rule:nonzero;fill:rgb(100%,0%,0%);fill-opacity:1;stroke-width:1;stroke-linecap:butt;stroke-linejoin:miter;stroke:rgb(0%,0%,0%);stroke-opacity:1;stroke-miterlimit:10;\" d=\"M 190.875 156.292969 C 190.875 158.292969 187.875 158.292969 187.875 156.292969 C 187.875 154.292969 190.875 154.292969 190.875 156.292969 \"/>\n<path style=\"fill-rule:nonzero;fill:rgb(100%,0%,0%);fill-opacity:1;stroke-width:1;stroke-linecap:butt;stroke-linejoin:miter;stroke:rgb(0%,0%,0%);stroke-opacity:1;stroke-miterlimit:10;\" d=\"M 169.589844 134.289062 C 169.589844 136.289062 166.589844 136.289062 166.589844 134.289062 C 166.589844 132.289062 169.589844 132.289062 169.589844 134.289062 \"/>\n<path style=\"fill-rule:nonzero;fill:rgb(100%,0%,0%);fill-opacity:1;stroke-width:1;stroke-linecap:butt;stroke-linejoin:miter;stroke:rgb(0%,0%,0%);stroke-opacity:1;stroke-miterlimit:10;\" d=\"M 130.355469 303.070312 C 130.355469 305.070312 127.355469 305.070312 127.355469 303.070312 C 127.355469 301.070312 130.355469 301.070312 130.355469 303.070312 \"/>\n<path style=\"fill-rule:nonzero;fill:rgb(100%,0%,0%);fill-opacity:1;stroke-width:1;stroke-linecap:butt;stroke-linejoin:miter;stroke:rgb(0%,0%,0%);stroke-opacity:1;stroke-miterlimit:10;\" d=\"M 150.207031 211.835938 C 150.207031 213.835938 147.207031 213.835938 147.207031 211.835938 C 147.207031 209.835938 150.207031 209.835938 150.207031 211.835938 \"/>\n<path style=\"fill-rule:nonzero;fill:rgb(100%,0%,0%);fill-opacity:1;stroke-width:1;stroke-linecap:butt;stroke-linejoin:miter;stroke:rgb(0%,0%,0%);stroke-opacity:1;stroke-miterlimit:10;\" d=\"M 216.355469 133.152344 C 216.355469 135.152344 213.355469 135.152344 213.355469 133.152344 C 213.355469 131.152344 216.355469 131.152344 216.355469 133.152344 \"/>\n<path style=\"fill-rule:nonzero;fill:rgb(100%,0%,0%);fill-opacity:1;stroke-width:1;stroke-linecap:butt;stroke-linejoin:miter;stroke:rgb(0%,0%,0%);stroke-opacity:1;stroke-miterlimit:10;\" d=\"M 146.890625 131.53125 C 146.890625 133.53125 143.890625 133.53125 143.890625 131.53125 C 143.890625 129.53125 146.890625 129.53125 146.890625 131.53125 \"/>\n<path style=\"fill-rule:nonzero;fill:rgb(100%,0%,0%);fill-opacity:1;stroke-width:1;stroke-linecap:butt;stroke-linejoin:miter;stroke:rgb(0%,0%,0%);stroke-opacity:1;stroke-miterlimit:10;\" d=\"M 313.28125 210.726562 C 313.28125 212.726562 310.28125 212.726562 310.28125 210.726562 C 310.28125 208.726562 313.28125 208.726562 313.28125 210.726562 \"/>\n<path style=\"fill-rule:nonzero;fill:rgb(100%,0%,0%);fill-opacity:1;stroke-width:1;stroke-linecap:butt;stroke-linejoin:miter;stroke:rgb(0%,0%,0%);stroke-opacity:1;stroke-miterlimit:10;\" d=\"M 225.195312 138.339844 C 225.195312 140.339844 222.195312 140.339844 222.195312 138.339844 C 222.195312 136.339844 225.195312 136.339844 225.195312 138.339844 \"/>\n<path style=\"fill-rule:nonzero;fill:rgb(100%,0%,0%);fill-opacity:1;stroke-width:1;stroke-linecap:butt;stroke-linejoin:miter;stroke:rgb(0%,0%,0%);stroke-opacity:1;stroke-miterlimit:10;\" d=\"M 245.378906 172.101562 C 245.378906 174.101562 242.378906 174.101562 242.378906 172.101562 C 242.378906 170.101562 245.378906 170.101562 245.378906 172.101562 \"/>\n<path style=\"fill-rule:nonzero;fill:rgb(100%,0%,0%);fill-opacity:1;stroke-width:1;stroke-linecap:butt;stroke-linejoin:miter;stroke:rgb(0%,0%,0%);stroke-opacity:1;stroke-miterlimit:10;\" d=\"M 333.308594 120.359375 C 333.308594 122.359375 330.308594 122.359375 330.308594 120.359375 C 330.308594 118.359375 333.308594 118.359375 333.308594 120.359375 \"/>\n<path style=\"fill-rule:nonzero;fill:rgb(100%,0%,0%);fill-opacity:1;stroke-width:1;stroke-linecap:butt;stroke-linejoin:miter;stroke:rgb(0%,0%,0%);stroke-opacity:1;stroke-miterlimit:10;\" d=\"M 207.558594 158.542969 C 207.558594 160.542969 204.558594 160.542969 204.558594 158.542969 C 204.558594 156.542969 207.558594 156.542969 207.558594 158.542969 \"/>\n<path style=\"fill-rule:nonzero;fill:rgb(100%,0%,0%);fill-opacity:1;stroke-width:1;stroke-linecap:butt;stroke-linejoin:miter;stroke:rgb(0%,0%,0%);stroke-opacity:1;stroke-miterlimit:10;\" d=\"M 186.992188 193.183594 C 186.992188 195.183594 183.992188 195.183594 183.992188 193.183594 C 183.992188 191.183594 186.992188 191.183594 186.992188 193.183594 \"/>\n<path style=\"fill-rule:nonzero;fill:rgb(100%,0%,0%);fill-opacity:1;stroke-width:1;stroke-linecap:butt;stroke-linejoin:miter;stroke:rgb(0%,0%,0%);stroke-opacity:1;stroke-miterlimit:10;\" d=\"M 258.582031 179.464844 C 258.582031 181.464844 255.582031 181.464844 255.582031 179.464844 C 255.582031 177.464844 258.582031 177.464844 258.582031 179.464844 \"/>\n<path style=\"fill-rule:nonzero;fill:rgb(100%,0%,0%);fill-opacity:1;stroke-width:1;stroke-linecap:butt;stroke-linejoin:miter;stroke:rgb(0%,0%,0%);stroke-opacity:1;stroke-miterlimit:10;\" d=\"M 243.460938 164.78125 C 243.460938 166.78125 240.460938 166.78125 240.460938 164.78125 C 240.460938 162.78125 243.460938 162.78125 243.460938 164.78125 \"/>\n<path style=\"fill-rule:nonzero;fill:rgb(100%,0%,0%);fill-opacity:1;stroke-width:1;stroke-linecap:butt;stroke-linejoin:miter;stroke:rgb(0%,0%,0%);stroke-opacity:1;stroke-miterlimit:10;\" d=\"M 292.457031 97.910156 C 292.457031 99.910156 289.457031 99.910156 289.457031 97.910156 C 289.457031 95.910156 292.457031 95.910156 292.457031 97.910156 \"/>\n<path style=\"fill-rule:nonzero;fill:rgb(100%,0%,0%);fill-opacity:1;stroke-width:1;stroke-linecap:butt;stroke-linejoin:miter;stroke:rgb(0%,0%,0%);stroke-opacity:1;stroke-miterlimit:10;\" d=\"M 145.242188 108.085938 C 145.242188 110.085938 142.242188 110.085938 142.242188 108.085938 C 142.242188 106.085938 145.242188 106.085938 145.242188 108.085938 \"/>\n<path style=\"fill-rule:nonzero;fill:rgb(100%,0%,0%);fill-opacity:1;stroke-width:1;stroke-linecap:butt;stroke-linejoin:miter;stroke:rgb(0%,0%,0%);stroke-opacity:1;stroke-miterlimit:10;\" d=\"M 197.488281 218.273438 C 197.488281 220.273438 194.488281 220.273438 194.488281 218.273438 C 194.488281 216.273438 197.488281 216.273438 197.488281 218.273438 \"/>\n<path style=\"fill-rule:nonzero;fill:rgb(100%,0%,0%);fill-opacity:1;stroke-width:1;stroke-linecap:butt;stroke-linejoin:miter;stroke:rgb(0%,0%,0%);stroke-opacity:1;stroke-miterlimit:10;\" d=\"M 163.863281 198.53125 C 163.863281 200.53125 160.863281 200.53125 160.863281 198.53125 C 160.863281 196.53125 163.863281 196.53125 163.863281 198.53125 \"/>\n<path style=\"fill-rule:nonzero;fill:rgb(100%,0%,0%);fill-opacity:1;stroke-width:1;stroke-linecap:butt;stroke-linejoin:miter;stroke:rgb(0%,0%,0%);stroke-opacity:1;stroke-miterlimit:10;\" d=\"M 122.101562 206.902344 C 122.101562 208.902344 119.101562 208.902344 119.101562 206.902344 C 119.101562 204.902344 122.101562 204.902344 122.101562 206.902344 \"/>\n<path style=\"fill-rule:nonzero;fill:rgb(100%,0%,0%);fill-opacity:1;stroke-width:1;stroke-linecap:butt;stroke-linejoin:miter;stroke:rgb(0%,0%,0%);stroke-opacity:1;stroke-miterlimit:10;\" d=\"M 289.648438 222.25 C 289.648438 224.25 286.648438 224.25 286.648438 222.25 C 286.648438 220.25 289.648438 220.25 289.648438 222.25 \"/>\n<path style=\"fill-rule:nonzero;fill:rgb(100%,0%,0%);fill-opacity:1;stroke-width:1;stroke-linecap:butt;stroke-linejoin:miter;stroke:rgb(0%,0%,0%);stroke-opacity:1;stroke-miterlimit:10;\" d=\"M 44.890625 149.996094 C 44.890625 151.996094 41.890625 151.996094 41.890625 149.996094 C 41.890625 147.996094 44.890625 147.996094 44.890625 149.996094 \"/>\n<path style=\"fill-rule:nonzero;fill:rgb(100%,0%,0%);fill-opacity:1;stroke-width:1;stroke-linecap:butt;stroke-linejoin:miter;stroke:rgb(0%,0%,0%);stroke-opacity:1;stroke-miterlimit:10;\" d=\"M 220.695312 87.363281 C 220.695312 89.363281 217.695312 89.363281 217.695312 87.363281 C 217.695312 85.363281 220.695312 85.363281 220.695312 87.363281 \"/>\n<path style=\"fill-rule:nonzero;fill:rgb(100%,0%,0%);fill-opacity:1;stroke-width:1;stroke-linecap:butt;stroke-linejoin:miter;stroke:rgb(0%,0%,0%);stroke-opacity:1;stroke-miterlimit:10;\" d=\"M 233.960938 237.40625 C 233.960938 239.40625 230.960938 239.40625 230.960938 237.40625 C 230.960938 235.40625 233.960938 235.40625 233.960938 237.40625 \"/>\n<path style=\"fill-rule:nonzero;fill:rgb(100%,0%,0%);fill-opacity:1;stroke-width:1;stroke-linecap:butt;stroke-linejoin:miter;stroke:rgb(0%,0%,0%);stroke-opacity:1;stroke-miterlimit:10;\" d=\"M 207.3125 245.761719 C 207.3125 247.761719 204.3125 247.761719 204.3125 245.761719 C 204.3125 243.761719 207.3125 243.761719 207.3125 245.761719 \"/>\n<path style=\"fill-rule:nonzero;fill:rgb(100%,0%,0%);fill-opacity:1;stroke-width:1;stroke-linecap:butt;stroke-linejoin:miter;stroke:rgb(0%,0%,0%);stroke-opacity:1;stroke-miterlimit:10;\" d=\"M 21.5 125.988281 C 21.5 127.988281 18.5 127.988281 18.5 125.988281 C 18.5 123.988281 21.5 123.988281 21.5 125.988281 \"/>\n<path style=\"fill-rule:nonzero;fill:rgb(100%,0%,0%);fill-opacity:1;stroke-width:1;stroke-linecap:butt;stroke-linejoin:miter;stroke:rgb(0%,0%,0%);stroke-opacity:1;stroke-miterlimit:10;\" d=\"M 217.109375 175.203125 C 217.109375 177.203125 214.109375 177.203125 214.109375 175.203125 C 214.109375 173.203125 217.109375 173.203125 217.109375 175.203125 \"/>\n<path style=\"fill-rule:nonzero;fill:rgb(100%,0%,0%);fill-opacity:1;stroke-width:1;stroke-linecap:butt;stroke-linejoin:miter;stroke:rgb(0%,0%,0%);stroke-opacity:1;stroke-miterlimit:10;\" d=\"M 233.253906 208.867188 C 233.253906 210.867188 230.253906 210.867188 230.253906 208.867188 C 230.253906 206.867188 233.253906 206.867188 233.253906 208.867188 \"/>\n<path style=\"fill-rule:nonzero;fill:rgb(100%,0%,0%);fill-opacity:1;stroke-width:1;stroke-linecap:butt;stroke-linejoin:miter;stroke:rgb(0%,0%,0%);stroke-opacity:1;stroke-miterlimit:10;\" d=\"M 198.042969 269.984375 C 198.042969 271.984375 195.042969 271.984375 195.042969 269.984375 C 195.042969 267.984375 198.042969 267.984375 198.042969 269.984375 \"/>\n<path style=\"fill-rule:nonzero;fill:rgb(100%,0%,0%);fill-opacity:1;stroke-width:1;stroke-linecap:butt;stroke-linejoin:miter;stroke:rgb(0%,0%,0%);stroke-opacity:1;stroke-miterlimit:10;\" d=\"M 156.21875 144.757812 C 156.21875 146.757812 153.21875 146.757812 153.21875 144.757812 C 153.21875 142.757812 156.21875 142.757812 156.21875 144.757812 \"/>\n<path style=\"fill-rule:nonzero;fill:rgb(100%,0%,0%);fill-opacity:1;stroke-width:1;stroke-linecap:butt;stroke-linejoin:miter;stroke:rgb(0%,0%,0%);stroke-opacity:1;stroke-miterlimit:10;\" d=\"M 110.5 158.820312 C 110.5 160.820312 107.5 160.820312 107.5 158.820312 C 107.5 156.820312 110.5 156.820312 110.5 158.820312 \"/>\n<path style=\"fill-rule:nonzero;fill:rgb(100%,0%,0%);fill-opacity:1;stroke-width:1;stroke-linecap:butt;stroke-linejoin:miter;stroke:rgb(0%,0%,0%);stroke-opacity:1;stroke-miterlimit:10;\" d=\"M 246.5 141.605469 C 246.5 143.605469 243.5 143.605469 243.5 141.605469 C 243.5 139.605469 246.5 139.605469 246.5 141.605469 \"/>\n<path style=\"fill-rule:nonzero;fill:rgb(100%,0%,0%);fill-opacity:1;stroke-width:1;stroke-linecap:butt;stroke-linejoin:miter;stroke:rgb(0%,0%,0%);stroke-opacity:1;stroke-miterlimit:10;\" d=\"M 293.78125 172.222656 C 293.78125 174.222656 290.78125 174.222656 290.78125 172.222656 C 290.78125 170.222656 293.78125 170.222656 293.78125 172.222656 \"/>\n<path style=\"fill-rule:nonzero;fill:rgb(100%,0%,0%);fill-opacity:1;stroke-width:1;stroke-linecap:butt;stroke-linejoin:miter;stroke:rgb(0%,0%,0%);stroke-opacity:1;stroke-miterlimit:10;\" d=\"M 285.050781 243.019531 C 285.050781 245.019531 282.050781 245.019531 282.050781 243.019531 C 282.050781 241.019531 285.050781 241.019531 285.050781 243.019531 \"/>\n<path style=\"fill-rule:nonzero;fill:rgb(100%,0%,0%);fill-opacity:1;stroke-width:1;stroke-linecap:butt;stroke-linejoin:miter;stroke:rgb(0%,0%,0%);stroke-opacity:1;stroke-miterlimit:10;\" d=\"M 273.769531 189.800781 C 273.769531 191.800781 270.769531 191.800781 270.769531 189.800781 C 270.769531 187.800781 273.769531 187.800781 273.769531 189.800781 \"/>\n<path style=\"fill-rule:nonzero;fill:rgb(100%,0%,0%);fill-opacity:1;stroke-width:1;stroke-linecap:butt;stroke-linejoin:miter;stroke:rgb(0%,0%,0%);stroke-opacity:1;stroke-miterlimit:10;\" d=\"M 71.253906 171.1875 C 71.253906 173.1875 68.253906 173.1875 68.253906 171.1875 C 68.253906 169.1875 71.253906 169.1875 71.253906 171.1875 \"/>\n<path style=\"fill-rule:nonzero;fill:rgb(100%,0%,0%);fill-opacity:1;stroke-width:1;stroke-linecap:butt;stroke-linejoin:miter;stroke:rgb(0%,0%,0%);stroke-opacity:1;stroke-miterlimit:10;\" d=\"M 250.828125 197.683594 C 250.828125 199.683594 247.828125 199.683594 247.828125 197.683594 C 247.828125 195.683594 250.828125 195.683594 250.828125 197.683594 \"/>\n<path style=\"fill-rule:nonzero;fill:rgb(100%,0%,0%);fill-opacity:1;stroke-width:1;stroke-linecap:butt;stroke-linejoin:miter;stroke:rgb(0%,0%,0%);stroke-opacity:1;stroke-miterlimit:10;\" d=\"M 176.984375 213 C 176.984375 215 173.984375 215 173.984375 213 C 173.984375 211 176.984375 211 176.984375 213 \"/>\n<path style=\"fill-rule:nonzero;fill:rgb(100%,0%,0%);fill-opacity:1;stroke-width:1;stroke-linecap:butt;stroke-linejoin:miter;stroke:rgb(0%,0%,0%);stroke-opacity:1;stroke-miterlimit:10;\" d=\"M 304.542969 178.511719 C 304.542969 180.511719 301.542969 180.511719 301.542969 178.511719 C 301.542969 176.511719 304.542969 176.511719 304.542969 178.511719 \"/>\n<path style=\"fill-rule:nonzero;fill:rgb(100%,0%,0%);fill-opacity:1;stroke-width:1;stroke-linecap:butt;stroke-linejoin:miter;stroke:rgb(0%,0%,0%);stroke-opacity:1;stroke-miterlimit:10;\" d=\"M 280.691406 111.054688 C 280.691406 113.054688 277.691406 113.054688 277.691406 111.054688 C 277.691406 109.054688 280.691406 109.054688 280.691406 111.054688 \"/>\n<path style=\"fill-rule:nonzero;fill:rgb(100%,0%,0%);fill-opacity:1;stroke-width:1;stroke-linecap:butt;stroke-linejoin:miter;stroke:rgb(0%,0%,0%);stroke-opacity:1;stroke-miterlimit:10;\" d=\"M 88.679688 187.484375 C 88.679688 189.484375 85.679688 189.484375 85.679688 187.484375 C 85.679688 185.484375 88.679688 185.484375 88.679688 187.484375 \"/>\n<path style=\"fill-rule:nonzero;fill:rgb(100%,0%,0%);fill-opacity:1;stroke-width:1;stroke-linecap:butt;stroke-linejoin:miter;stroke:rgb(0%,0%,0%);stroke-opacity:1;stroke-miterlimit:10;\" d=\"M 293.78125 186.363281 C 293.78125 188.363281 290.78125 188.363281 290.78125 186.363281 C 290.78125 184.363281 293.78125 184.363281 293.78125 186.363281 \"/>\n<path style=\"fill-rule:nonzero;fill:rgb(100%,0%,0%);fill-opacity:1;stroke-width:1;stroke-linecap:butt;stroke-linejoin:miter;stroke:rgb(0%,0%,0%);stroke-opacity:1;stroke-miterlimit:10;\" d=\"M 232.4375 154.207031 C 232.4375 156.207031 229.4375 156.207031 229.4375 154.207031 C 229.4375 152.207031 232.4375 152.207031 232.4375 154.207031 \"/>\n<path style=\"fill-rule:nonzero;fill:rgb(100%,0%,0%);fill-opacity:1;stroke-width:1;stroke-linecap:butt;stroke-linejoin:miter;stroke:rgb(0%,0%,0%);stroke-opacity:1;stroke-miterlimit:10;\" d=\"M 246.421875 220.433594 C 246.421875 222.433594 243.421875 222.433594 243.421875 220.433594 C 243.421875 218.433594 246.421875 218.433594 246.421875 220.433594 \"/>\n<path style=\"fill-rule:nonzero;fill:rgb(100%,0%,0%);fill-opacity:1;stroke-width:1;stroke-linecap:butt;stroke-linejoin:miter;stroke:rgb(0%,0%,0%);stroke-opacity:1;stroke-miterlimit:10;\" d=\"M 201.535156 292.457031 C 201.535156 294.457031 198.535156 294.457031 198.535156 292.457031 C 198.535156 290.457031 201.535156 290.457031 201.535156 292.457031 \"/>\n<path style=\"fill-rule:nonzero;fill:rgb(100%,0%,0%);fill-opacity:1;stroke-width:1;stroke-linecap:butt;stroke-linejoin:miter;stroke:rgb(0%,0%,0%);stroke-opacity:1;stroke-miterlimit:10;\" d=\"M 161.785156 158.972656 C 161.785156 160.972656 158.785156 160.972656 158.785156 158.972656 C 158.785156 156.972656 161.785156 156.972656 161.785156 158.972656 \"/>\n<path style=\"fill-rule:nonzero;fill:rgb(100%,0%,0%);fill-opacity:1;stroke-width:1;stroke-linecap:butt;stroke-linejoin:miter;stroke:rgb(0%,0%,0%);stroke-opacity:1;stroke-miterlimit:10;\" d=\"M 246.035156 123.464844 C 246.035156 125.464844 243.035156 125.464844 243.035156 123.464844 C 243.035156 121.464844 246.035156 121.464844 246.035156 123.464844 \"/>\n<path style=\"fill-rule:nonzero;fill:rgb(100%,0%,0%);fill-opacity:1;stroke-width:1;stroke-linecap:butt;stroke-linejoin:miter;stroke:rgb(0%,0%,0%);stroke-opacity:1;stroke-miterlimit:10;\" d=\"M 143.351562 175.015625 C 143.351562 177.015625 140.351562 177.015625 140.351562 175.015625 C 140.351562 173.015625 143.351562 173.015625 143.351562 175.015625 \"/>\n<path style=\"fill-rule:nonzero;fill:rgb(100%,0%,0%);fill-opacity:1;stroke-width:1;stroke-linecap:butt;stroke-linejoin:miter;stroke:rgb(0%,0%,0%);stroke-opacity:1;stroke-miterlimit:10;\" d=\"M 267.214844 222.300781 C 267.214844 224.300781 264.214844 224.300781 264.214844 222.300781 C 264.214844 220.300781 267.214844 220.300781 267.214844 222.300781 \"/>\n<path style=\"fill-rule:nonzero;fill:rgb(100%,0%,0%);fill-opacity:1;stroke-width:1;stroke-linecap:butt;stroke-linejoin:miter;stroke:rgb(0%,0%,0%);stroke-opacity:1;stroke-miterlimit:10;\" d=\"M 164.257812 113.269531 C 164.257812 115.269531 161.257812 115.269531 161.257812 113.269531 C 161.257812 111.269531 164.257812 111.269531 164.257812 113.269531 \"/>\n<path style=\"fill-rule:nonzero;fill:rgb(100%,0%,0%);fill-opacity:1;stroke-width:1;stroke-linecap:butt;stroke-linejoin:miter;stroke:rgb(0%,0%,0%);stroke-opacity:1;stroke-miterlimit:10;\" d=\"M 181.0625 148.820312 C 181.0625 150.820312 178.0625 150.820312 178.0625 148.820312 C 178.0625 146.820312 181.0625 146.820312 181.0625 148.820312 \"/>\n<path style=\"fill-rule:nonzero;fill:rgb(100%,0%,0%);fill-opacity:1;stroke-width:1;stroke-linecap:butt;stroke-linejoin:miter;stroke:rgb(0%,0%,0%);stroke-opacity:1;stroke-miterlimit:10;\" d=\"M 381.5 262.859375 C 381.5 264.859375 378.5 264.859375 378.5 262.859375 C 378.5 260.859375 381.5 260.859375 381.5 262.859375 \"/>\n<path style=\"fill-rule:nonzero;fill:rgb(100%,0%,0%);fill-opacity:1;stroke-width:1;stroke-linecap:butt;stroke-linejoin:miter;stroke:rgb(0%,0%,0%);stroke-opacity:1;stroke-miterlimit:10;\" d=\"M 84.945312 150.542969 C 84.945312 152.542969 81.945312 152.542969 81.945312 150.542969 C 81.945312 148.542969 84.945312 148.542969 84.945312 150.542969 \"/>\n<path style=\"fill-rule:nonzero;fill:rgb(100%,0%,0%);fill-opacity:1;stroke-width:1;stroke-linecap:butt;stroke-linejoin:miter;stroke:rgb(0%,0%,0%);stroke-opacity:1;stroke-miterlimit:10;\" d=\"M 249.296875 104.753906 C 249.296875 106.753906 246.296875 106.753906 246.296875 104.753906 C 246.296875 102.753906 249.296875 102.753906 249.296875 104.753906 \"/>\n<path style=\"fill-rule:nonzero;fill:rgb(100%,0%,0%);fill-opacity:1;stroke-width:1;stroke-linecap:butt;stroke-linejoin:miter;stroke:rgb(0%,0%,0%);stroke-opacity:1;stroke-miterlimit:10;\" d=\"M 211.003906 123.617188 C 211.003906 125.617188 208.003906 125.617188 208.003906 123.617188 C 208.003906 121.617188 211.003906 121.617188 211.003906 123.617188 \"/>\n<path style=\"fill-rule:nonzero;fill:rgb(100%,0%,0%);fill-opacity:1;stroke-width:1;stroke-linecap:butt;stroke-linejoin:miter;stroke:rgb(0%,0%,0%);stroke-opacity:1;stroke-miterlimit:10;\" d=\"M 173.511719 117.613281 C 173.511719 119.613281 170.511719 119.613281 170.511719 117.613281 C 170.511719 115.613281 173.511719 115.613281 173.511719 117.613281 \"/>\n<path style=\"fill-rule:nonzero;fill:rgb(100%,0%,0%);fill-opacity:1;stroke-width:1;stroke-linecap:butt;stroke-linejoin:miter;stroke:rgb(0%,0%,0%);stroke-opacity:1;stroke-miterlimit:10;\" d=\"M 281.496094 134.566406 C 281.496094 136.566406 278.496094 136.566406 278.496094 134.566406 C 278.496094 132.566406 281.496094 132.566406 281.496094 134.566406 \"/>\n<path style=\"fill-rule:nonzero;fill:rgb(100%,0%,0%);fill-opacity:1;stroke-width:1;stroke-linecap:butt;stroke-linejoin:miter;stroke:rgb(0%,0%,0%);stroke-opacity:1;stroke-miterlimit:10;\" d=\"M 174.621094 168.761719 C 174.621094 170.761719 171.621094 170.761719 171.621094 168.761719 C 171.621094 166.761719 174.621094 166.761719 174.621094 168.761719 \"/>\n<path style=\"fill-rule:nonzero;fill:rgb(100%,0%,0%);fill-opacity:1;stroke-width:1;stroke-linecap:butt;stroke-linejoin:miter;stroke:rgb(0%,0%,0%);stroke-opacity:1;stroke-miterlimit:10;\" d=\"M 177.839844 20 C 177.839844 22 174.839844 22 174.839844 20 C 174.839844 18 177.839844 18 177.839844 20 \"/>\n<path style=\"fill-rule:nonzero;fill:rgb(100%,0%,0%);fill-opacity:1;stroke-width:1;stroke-linecap:butt;stroke-linejoin:miter;stroke:rgb(0%,0%,0%);stroke-opacity:1;stroke-miterlimit:10;\" d=\"M 261.328125 161.460938 C 261.328125 163.460938 258.328125 163.460938 258.328125 161.460938 C 258.328125 159.460938 261.328125 159.460938 261.328125 161.460938 \"/>\n<path style=\"fill-rule:nonzero;fill:rgb(100%,0%,0%);fill-opacity:1;stroke-width:1;stroke-linecap:butt;stroke-linejoin:miter;stroke:rgb(0%,0%,0%);stroke-opacity:1;stroke-miterlimit:10;\" d=\"M 312 159.078125 C 312 161.078125 309 161.078125 309 159.078125 C 309 157.078125 312 157.078125 312 159.078125 \"/>\n<path style=\"fill-rule:nonzero;fill:rgb(100%,0%,0%);fill-opacity:1;stroke-width:1;stroke-linecap:butt;stroke-linejoin:miter;stroke:rgb(0%,0%,0%);stroke-opacity:1;stroke-miterlimit:10;\" d=\"M 135.21875 170.210938 C 135.21875 172.210938 132.21875 172.210938 132.21875 170.210938 C 132.21875 168.210938 135.21875 168.210938 135.21875 170.210938 \"/>\n<path style=\"fill-rule:nonzero;fill:rgb(100%,0%,0%);fill-opacity:1;stroke-width:1;stroke-linecap:butt;stroke-linejoin:miter;stroke:rgb(0%,0%,0%);stroke-opacity:1;stroke-miterlimit:10;\" d=\"M 312.664062 134.085938 C 312.664062 136.085938 309.664062 136.085938 309.664062 134.085938 C 309.664062 132.085938 312.664062 132.085938 312.664062 134.085938 \"/>\n<path style=\"fill-rule:nonzero;fill:rgb(100%,0%,0%);fill-opacity:1;stroke-width:1;stroke-linecap:butt;stroke-linejoin:miter;stroke:rgb(0%,0%,0%);stroke-opacity:1;stroke-miterlimit:10;\" d=\"M 173.25 202.894531 C 173.25 204.894531 170.25 204.894531 170.25 202.894531 C 170.25 200.894531 173.25 200.894531 173.25 202.894531 \"/>\n<path style=\"fill-rule:nonzero;fill:rgb(100%,0%,0%);fill-opacity:1;stroke-width:1;stroke-linecap:butt;stroke-linejoin:miter;stroke:rgb(0%,0%,0%);stroke-opacity:1;stroke-miterlimit:10;\" d=\"M 157.414062 262.988281 C 157.414062 264.988281 154.414062 264.988281 154.414062 262.988281 C 154.414062 260.988281 157.414062 260.988281 157.414062 262.988281 \"/>\n<path style=\"fill-rule:nonzero;fill:rgb(100%,0%,0%);fill-opacity:1;stroke-width:1;stroke-linecap:butt;stroke-linejoin:miter;stroke:rgb(0%,0%,0%);stroke-opacity:1;stroke-miterlimit:10;\" d=\"M 205.566406 223.488281 C 205.566406 225.488281 202.566406 225.488281 202.566406 223.488281 C 202.566406 221.488281 205.566406 221.488281 205.566406 223.488281 \"/>\n<path style=\"fill-rule:nonzero;fill:rgb(100%,0%,0%);fill-opacity:1;stroke-width:1;stroke-linecap:butt;stroke-linejoin:miter;stroke:rgb(0%,0%,0%);stroke-opacity:1;stroke-miterlimit:10;\" d=\"M 126.464844 133.871094 C 126.464844 135.871094 123.464844 135.871094 123.464844 133.871094 C 123.464844 131.871094 126.464844 131.871094 126.464844 133.871094 \"/>\n<path style=\"fill-rule:nonzero;fill:rgb(100%,0%,0%);fill-opacity:1;stroke-width:1;stroke-linecap:butt;stroke-linejoin:miter;stroke:rgb(0%,0%,0%);stroke-opacity:1;stroke-miterlimit:10;\" d=\"M 238.558594 130.289062 C 238.558594 132.289062 235.558594 132.289062 235.558594 130.289062 C 235.558594 128.289062 238.558594 128.289062 238.558594 130.289062 \"/>\n<path style=\"fill-rule:nonzero;fill:rgb(100%,0%,0%);fill-opacity:1;stroke-width:1;stroke-linecap:butt;stroke-linejoin:miter;stroke:rgb(0%,0%,0%);stroke-opacity:1;stroke-miterlimit:10;\" d=\"M 234.140625 191.542969 C 234.140625 193.542969 231.140625 193.542969 231.140625 191.542969 C 231.140625 189.542969 234.140625 189.542969 234.140625 191.542969 \"/>\n<path style=\"fill-rule:nonzero;fill:rgb(100%,0%,0%);fill-opacity:1;stroke-width:1;stroke-linecap:butt;stroke-linejoin:miter;stroke:rgb(0%,0%,0%);stroke-opacity:1;stroke-miterlimit:10;\" d=\"M 327.621094 234.296875 C 327.621094 236.296875 324.621094 236.296875 324.621094 234.296875 C 324.621094 232.296875 327.621094 232.296875 327.621094 234.296875 \"/>\n<path style=\"fill-rule:nonzero;fill:rgb(100%,0%,0%);fill-opacity:1;stroke-width:1;stroke-linecap:butt;stroke-linejoin:miter;stroke:rgb(0%,0%,0%);stroke-opacity:1;stroke-miterlimit:10;\" d=\"M 81.054688 197.078125 C 81.054688 199.078125 78.054688 199.078125 78.054688 197.078125 C 78.054688 195.078125 81.054688 195.078125 81.054688 197.078125 \"/>\n<path style=\"fill-rule:nonzero;fill:rgb(100%,0%,0%);fill-opacity:1;stroke-width:1;stroke-linecap:butt;stroke-linejoin:miter;stroke:rgb(0%,0%,0%);stroke-opacity:1;stroke-miterlimit:10;\" d=\"M 87.585938 244.136719 C 87.585938 246.136719 84.585938 246.136719 84.585938 244.136719 C 84.585938 242.136719 87.585938 242.136719 87.585938 244.136719 \"/>\n</g>\n</svg>\n"
          },
          "metadata": {
            "image/svg+xml": {
              "isolated": true
            }
          },
          "execution_count": 5
        }
      ],
      "source": [
        "net = ig.Graph.Erdos_Renyi(100, p=1/20)\n",
        "\n",
        "print('the criterion is: ' + str(Molloy_Reed(net)))\n",
        "ig.plot(net, bbox=(400, 400),vertex_size=3)"
      ]
    },
    {
      "cell_type": "markdown",
      "id": "2aa6cfc3",
      "metadata": {
        "id": "2aa6cfc3"
      },
      "source": [
        "### Percolation on Erdos Renyi network and scale-free network"
      ]
    },
    {
      "cell_type": "code",
      "execution_count": 6,
      "id": "d713ba5b-324f-4e45-9199-0c737197cdc5",
      "metadata": {
        "id": "d713ba5b-324f-4e45-9199-0c737197cdc5"
      },
      "outputs": [],
      "source": [
        "def P_inf(net):\n",
        "    if Molloy_Reed(net) < 2:\n",
        "        return 0\n",
        "    else:\n",
        "        return max(net.components().sizes()) / len(net.vs)"
      ]
    },
    {
      "cell_type": "code",
      "execution_count": 7,
      "id": "9c27c209",
      "metadata": {
        "id": "9c27c209",
        "outputId": "96447285-1118-43be-efa1-67eebd299217",
        "colab": {
          "base_uri": "https://localhost:8080/"
        }
      },
      "outputs": [
        {
          "output_type": "execute_result",
          "data": {
            "text/plain": [
              "array([32, 22, 75, 94, 53, 11, 61, 40, 99, 65, 36, 68,  5, 77, 49, 72, 71,\n",
              "       13, 42, 60, 31,  1, 27, 38, 51, 16, 15, 18, 59, 24, 57, 79, 78, 74,\n",
              "       44, 96, 87, 39, 56, 69, 55, 30,  4, 50, 97, 14, 81,  2, 52, 21])"
            ]
          },
          "metadata": {},
          "execution_count": 7
        }
      ],
      "source": [
        "net = ig.Graph.Erdos_Renyi(100, p=1/150)\n",
        "np.random.choice(np.arange(len(net.vs)), size=50, replace=False)"
      ]
    },
    {
      "cell_type": "code",
      "execution_count": 8,
      "id": "55c01353",
      "metadata": {
        "id": "55c01353"
      },
      "outputs": [],
      "source": [
        "def random_remove(net, p):\n",
        "    copied_net = net.copy()\n",
        "    removed_nodes = np.random.choice(np.arange(len(net.vs)), size=int(p * len(net.vs)), replace=False)\n",
        "    copied_net.delete_vertices(removed_nodes)\n",
        "    return copied_net"
      ]
    },
    {
      "cell_type": "code",
      "execution_count": 9,
      "id": "1099bef2",
      "metadata": {
        "scrolled": true,
        "id": "1099bef2"
      },
      "outputs": [],
      "source": [
        "N = 10000\n",
        "mean_k = 3\n",
        "net = ig.Graph.Erdos_Renyi(N, mean_k / N)\n",
        "p_array = np.arange(0, 1, 0.05)\n",
        "\n",
        "p_inf_ER = np.zeros_like(p_array)\n",
        "for j, p in enumerate(p_array):\n",
        "    for i in range(100):\n",
        "        new_net = random_remove(net, p)\n",
        "        p_inf_ER[j] += P_inf(new_net)\n",
        "    p_inf_ER[j] = p_inf_ER[j] / 100"
      ]
    },
    {
      "cell_type": "code",
      "execution_count": 10,
      "id": "43ca10cd-e783-4de3-a661-05324e168ffe",
      "metadata": {
        "id": "43ca10cd-e783-4de3-a661-05324e168ffe",
        "outputId": "b92afb06-b5c2-4501-a844-91f56dd4d5b7",
        "colab": {
          "base_uri": "https://localhost:8080/",
          "height": 297
        }
      },
      "outputs": [
        {
          "output_type": "execute_result",
          "data": {
            "text/plain": [
              "Text(0.5, 0, 'f')"
            ]
          },
          "metadata": {},
          "execution_count": 10
        },
        {
          "output_type": "display_data",
          "data": {
            "text/plain": [
              "<Figure size 432x288 with 1 Axes>"
            ],
            "image/png": "[encoded data removed]"
          },
          "metadata": {
            "needs_background": "light"
          }
        }
      ],
      "source": [
        "plt.plot(p_array, p_inf_ER / p_inf_ER[0], 'o')\n",
        "plt.axvline(1 - 1 / mean_k, linestyle='dashed')\n",
        "plt.xlabel('f')"
      ]
    },
    {
      "cell_type": "code",
      "execution_count": 11,
      "id": "75239aeb",
      "metadata": {
        "id": "75239aeb"
      },
      "outputs": [],
      "source": [
        "N = 10000\n",
        "net = ig.Graph.Barabasi(N, 1)\n",
        "p_array = np.arange(0, 1, 0.05)\n",
        "\n",
        "p_inf_BA = np.zeros_like(p_array)\n",
        "for j, p in enumerate(p_array):\n",
        "    for i in range(100):\n",
        "        new_net = random_remove(net, p)\n",
        "        p_inf_BA[j] += P_inf(new_net)\n",
        "    p_inf_BA[j] = p_inf_BA[j] / 100"
      ]
    },
    {
      "cell_type": "code",
      "execution_count": 12,
      "id": "cc19768f",
      "metadata": {
        "id": "cc19768f",
        "outputId": "7ff8c723-b7a9-44d5-e832-eb91e5041417",
        "colab": {
          "base_uri": "https://localhost:8080/",
          "height": 297
        }
      },
      "outputs": [
        {
          "output_type": "execute_result",
          "data": {
            "text/plain": [
              "Text(0.5, 0, 'f')"
            ]
          },
          "metadata": {},
          "execution_count": 12
        },
        {
          "output_type": "display_data",
          "data": {
            "text/plain": [
              "<Figure size 432x288 with 1 Axes>"
            ],
            "image/png": "[encoded data removed]"
          },
          "metadata": {
            "needs_background": "light"
          }
        }
      ],
      "source": [
        "plt.plot(p_array, p_inf_BA / p_inf_BA[0], 'o')\n",
        "plt.xlabel('f')"
      ]
    },
    {
      "cell_type": "markdown",
      "id": "766c979b",
      "metadata": {
        "id": "766c979b"
      },
      "source": [
        "We can clearly found that for random network, there is a threshold $f_c = \\frac{1}{\\left< k \\right>}$. But the Barabási-Albert network seems do not have a threshold, which means it is very stable under random failure."
      ]
    },
    {
      "cell_type": "markdown",
      "id": "61ef014f",
      "metadata": {
        "id": "61ef014f"
      },
      "source": [
        "## Critical threshold under random failures\n",
        "\n",
        "The random removal of an f fraction of nodes has two consequences:\n",
        "\n",
        "* It alters the degree of some nodes, as nodes that were previously connected to the removed nodes will lose some links $k \\rightarrow k^{'}$\n",
        "\n",
        "* Consequently, it changes the degree distribution, as the neighbors of the missing nodes will have an altered degree $p_k \\rightarrow p_{k^{'}}^{'}$\n",
        "\n",
        "The probability that a node with degree $k$ becomes a node with degree $k^{'}$ with probability\n",
        "\n",
        "$$\n",
        "\\left(\\begin{array}{c}\n",
        "k \\\\\n",
        "k^{\\prime}\n",
        "\\end{array}\\right) f^{k-k^{\\prime}}(1-f)^{k^{\\prime}} \\quad k^{\\prime} \\leq k\n",
        "$$\n",
        "\n",
        "The new node with degree $k^{'}$ in the new network is:\n",
        "\n",
        "$$\n",
        "p_{k^{\\prime}}^{\\prime}=\\sum_{k=k^{\\prime}}^{\\infty} p_k\\left(\\begin{array}{l}\n",
        "k \\\\\n",
        "k^{\\prime}\n",
        "\\end{array}\\right) f^{k-k^{\\prime}}(1-f)^{k^{\\prime}}\n",
        "$$\n",
        "\n",
        "The threshold will be the point that makes the new $\\kappa = 2$"
      ]
    },
    {
      "cell_type": "markdown",
      "id": "dc22d3c5",
      "metadata": {
        "id": "dc22d3c5"
      },
      "source": [
        "Let us assume that we know $\\left< k \\right>$ and $\\left< k^2 \\right>$, our goal is to calculate $\\left< k^{'} \\right>$ and $\\left< k^{'2} \\right>$"
      ]
    },
    {
      "cell_type": "markdown",
      "id": "f18199c1",
      "metadata": {
        "id": "f18199c1"
      },
      "source": [
        "$$\n",
        "\\begin{aligned}\n",
        "\\left\\langle k^{\\prime}\\right\\rangle_f & =\\sum_{k^{\\prime}=0}^{\\infty} k^{\\prime} p_{k^{\\prime}}^{\\prime} \\\\\n",
        "& =\\sum_{k^{\\prime}=0}^{\\infty} k^{\\prime} \\sum_{k=k^{\\prime}}^{\\infty} p_k\\left(\\frac{k !}{k^{\\prime} !\\left(k-k^{\\prime}\\right) !}\\right) f^{k-k^{\\prime}}(1-f)^{k^{\\prime}} \\\\\n",
        "& =\\sum_{k^{\\prime}=0}^{\\infty} \\sum_{k=k^{\\prime}}^{\\infty} p_k \\frac{k(k-1) !}{\\left(k^{\\prime}-1\\right) !\\left(k-k^{\\prime}\\right) !} f^{k-k^{\\prime}}(1-f)^{k^{\\prime}-1}(1-f)\n",
        "\\end{aligned}\n",
        "$$"
      ]
    },
    {
      "cell_type": "markdown",
      "id": "d25146d3",
      "metadata": {
        "id": "d25146d3"
      },
      "source": [
        "The sum $\\sum_{k^{'}=0}^\\infty \\sum_{k=k^{'}}^\\infty$ is performed over the triangle shown in the figure below:\n",
        "\n",
        "![sum](http://networksciencebook.com/images/ch-08/figure-8-28.jpg)\n",
        "\n",
        "But we can also apply the sum in another direction:\n",
        "$$\n",
        "\\sum_{k^{\\prime}=0}^{\\infty} \\sum_{k=k^{\\prime}}^{\\infty}=\\sum_{k=0}^{\\infty} \\sum_{k^{\\prime}=0}^k\n",
        "$$"
      ]
    },
    {
      "cell_type": "markdown",
      "id": "bec77762",
      "metadata": {
        "id": "bec77762"
      },
      "source": [
        "Then\n",
        "\n",
        "$$\n",
        "\\left\\langle k^{\\prime}\\right\\rangle_f=\\sum_{k=0}^{\\infty} \\sum_{k^{\\prime}=0}^k p_k \\frac{k(k-1) !}{\\left(k^{\\prime}-1\\right) !\\left(k-k^{\\prime}\\right) !} f^{k-k^{\\prime}}(1-f)^{k^{\\prime}-1}(1-f)\n",
        "$$\n",
        "$$\n",
        "=\\sum_{k=0}^{\\infty}(1-f) k p_k \\sum_{k^{\\prime}=0}^k \\frac{k(k-1) !}{\\left(k^{\\prime}-1\\right) !\\left(k-k^{\\prime}\\right) !} f^{k-k^{\\prime}}(1-f)^{k^{\\prime}-1}\n",
        "$$\n",
        "\n",
        "From the binomial theorem\n",
        "\n",
        "$$\n",
        "\\sum_{k^{\\prime}=0}^k \\frac{k(k-1) !}{\\left(k^{\\prime}-1\\right) !\\left(k-k^{\\prime}\\right) !} f^{k-k^{\\prime}}(1-f)^{k^{\\prime}-1}\n",
        " = (1 - f + f) ^ {k - 1} = 1\n",
        "$$\n",
        "\n",
        "As a result\n",
        "\n",
        "$$  \\left\\langle k^{\\prime}\\right\\rangle_f = (1 - f) \\left< k \\right>$$"
      ]
    },
    {
      "cell_type": "markdown",
      "id": "24986a9b",
      "metadata": {
        "id": "24986a9b"
      },
      "source": [
        "Let consider the calculation of $\\left< k ^ {' 2}\\right>_f$\n",
        "\n",
        "$$\n",
        "\\begin{aligned}\n",
        "\\left\\langle k^{\\prime 2}\\right\\rangle_f & =\\left\\langle k^{\\prime}\\left(k^{\\prime}-1\\right)+k^{\\prime}\\right\\rangle_f \\\\\n",
        "& =\\left\\langle k^{\\prime}\\left(k^{\\prime}-1\\right)\\right\\rangle_f+\\left\\langle k^{\\prime}\\right\\rangle_f\n",
        "\\end{aligned}\n",
        "$$"
      ]
    },
    {
      "cell_type": "markdown",
      "id": "8c7b3f66",
      "metadata": {
        "id": "8c7b3f66"
      },
      "source": [
        "The calculation is very similar as what we did to calculate $\\left\\langle k^{\\prime}\\right\\rangle_f$"
      ]
    },
    {
      "cell_type": "markdown",
      "id": "8fa97036",
      "metadata": {
        "id": "8fa97036"
      },
      "source": [
        "$$\n",
        "\\begin{aligned}\n",
        "\\left\\langle k^{\\prime}\\left(k^{\\prime}-1\\right)\\right\\rangle_f & =\\sum_{k^{\\prime}=0}^{\\infty} k^{\\prime}\\left(k^{\\prime}-1\\right) p_{k^{\\prime}}^{\\prime} \\\\\n",
        "& =\\sum_{k^{\\prime}=0}^{\\infty} k^{\\prime}\\left(k^{\\prime}-1\\right) \\sum_{k=k^{\\prime}}^{\\infty} p_k\\left(\\begin{array}{c}\n",
        "k \\\\\n",
        "k^{\\prime}\n",
        "\\end{array}\\right) f^{k-k^{\\prime}}(1-f)^{k^{\\prime}} \\\\\n",
        "& =\\sum_{k=0}^{\\infty} k^{\\prime}\\left(k^{\\prime}-1\\right) \\sum_{k=k^{\\prime}}^\\infty p_k \\frac{𝑘!}{k^{\\prime} !\\left(k-k^{\\prime}\\right) !} f^{k-k^{\\prime}}(1-f)^{k^{\\prime}} \\\\\n",
        "& =\\sum_{k=0}^{\\infty} \\sum_{k=0}^k p_k \\frac{k !}{\\left(k^{\\prime}-2\\right) !\\left(k-k^{\\prime}\\right) !} f^{k-k^{\\prime}}(1-f)^{k^{\\prime}-2}(1-f)^2 \\\\\n",
        "& =\\sum_{k=0}^{\\infty}(1-f)^2 k(k-1) p_k \\sum_{k^{\\prime}=0}^k \\frac{(k-2) !}{\\left(k^{\\prime}-2\\right) !\\left(k-k^{\\prime}\\right) !} f^{k-k^{\\prime}}(1-f)^{k^{\\prime}-2} \\\\\n",
        "& =\\sum_{k=0}^{\\infty}(1-f)^2 k(k-1) p_k \\sum_{k^{\\prime}=0}^k\\left(\\begin{array}{l}\n",
        "k-2 \\\\\n",
        "k^{\\prime}-2\n",
        "\\end{array}\\right) f^{k-k^{\\prime}}(1-f)^{k^{\\prime}-2} \\\\\n",
        "& =\\sum_{k=0}^{\\infty}(1-f)^2 k(k-1) p_k \\\\\n",
        "& =(1-f)^2\\langle k(k-1)\\rangle\n",
        "\\end{aligned}\n",
        "$$\n",
        "\n",
        "Hence\n",
        "\n",
        "$$\n",
        "\\begin{aligned}\n",
        "\\left\\langle k^2\\right\\rangle_f & =\\left\\langle k^{\\prime}\\left(k^{\\prime}-1\\right)+k^{\\prime}\\right\\rangle_f \\\\\n",
        "& =\\left\\langle k^{\\prime}\\left(k^{\\prime}-1\\right)\\right\\rangle_f+\\left\\langle k^{\\prime}\\right\\rangle_f \\\\\n",
        "& =(1-f)^2\\langle k(k-1)\\rangle+(1-f)\\langle k\\rangle \\\\\n",
        "& =(1-f)^2\\left(\\left\\langle k^2\\right\\rangle-\\langle k\\rangle\\right)+(1-f)\\langle k\\rangle \\\\\n",
        "& =(1-f)^2\\left\\langle k^2\\right\\rangle-(1-f)^2\\langle k\\rangle+(1-f)\\langle k\\rangle \\\\\n",
        "& =(1-f)^2\\left\\langle k^2\\right\\rangle-\\left(-f^2+2 f-1+1-f\\right)\\langle k\\rangle \\\\\n",
        "& =(1-f)^2\\left\\langle k^2\\right\\rangle+f(1-f)\\langle k\\rangle\n",
        "\\end{aligned}\n",
        "$$\n",
        "\n",
        "Solving the equation $\\kappa=\\frac{\\left\\langle k^{\\prime 2}\\right\\rangle_f}{\\left\\langle k^{\\prime}\\right\\rangle_f}=2$ we can get:\n",
        "\n",
        "$$\n",
        "f_c=1-\\frac{1}{\\frac{\\left\\langle k^2\\right\\rangle}{\\langle k\\rangle}-1}\n",
        "$$"
      ]
    },
    {
      "cell_type": "markdown",
      "id": "c5865993",
      "metadata": {
        "id": "c5865993"
      },
      "source": [
        "## Attack tolerance\n",
        "\n",
        "The important role the hubs play in holding together a scale-free network motivates our next question: What if we do not remove the nodes randomly, but go after the hubs? That is, we first remove the highest degree node, followed by the node with the next highest degree and so on."
      ]
    },
    {
      "cell_type": "code",
      "execution_count": 13,
      "id": "57b1c7d5",
      "metadata": {
        "id": "57b1c7d5"
      },
      "outputs": [],
      "source": [
        "def target_attack(net, p):\n",
        "    copied_net = net.copy()\n",
        "    if p == 0:\n",
        "        return copied_net\n",
        "    removed_nodes = np.argsort(net.degree())[::-1][:int(p * len(net.vs))]\n",
        "    copied_net.delete_vertices(removed_nodes)\n",
        "    return copied_net"
      ]
    },
    {
      "cell_type": "code",
      "execution_count": 14,
      "id": "145ec07b",
      "metadata": {
        "id": "145ec07b",
        "outputId": "d6ade007-6011-43c0-c327-8b42eedbf0cc",
        "colab": {
          "base_uri": "https://localhost:8080/"
        }
      },
      "outputs": [
        {
          "output_type": "stream",
          "name": "stderr",
          "text": [
            "<ipython-input-2-34a0648a2d1c>:3: RuntimeWarning: invalid value encountered in double_scalars\n",
            "  return (degrees ** 2).mean() / degrees.mean()\n"
          ]
        }
      ],
      "source": [
        "N = 10000\n",
        "mean_k = 3\n",
        "net = ig.Graph.Erdos_Renyi(N, mean_k / N)\n",
        "p_array = np.arange(0, 1, 0.05)\n",
        "\n",
        "p_inf_ER = np.zeros_like(p_array)\n",
        "for j, p in enumerate(p_array):\n",
        "    new_net = target_attack(net, p)\n",
        "    p_inf_ER[j] = P_inf(new_net)"
      ]
    },
    {
      "cell_type": "code",
      "execution_count": 15,
      "id": "ad767a69",
      "metadata": {
        "id": "ad767a69",
        "outputId": "5dc9492a-b620-481f-9462-12d1202b1ab6",
        "colab": {
          "base_uri": "https://localhost:8080/",
          "height": 283
        }
      },
      "outputs": [
        {
          "output_type": "execute_result",
          "data": {
            "text/plain": [
              "[<matplotlib.lines.Line2D at 0x7f365101aa00>]"
            ]
          },
          "metadata": {},
          "execution_count": 15
        },
        {
          "output_type": "display_data",
          "data": {
            "text/plain": [
              "<Figure size 432x288 with 1 Axes>"
            ],
            "image/png": "[encoded data removed]"
          },
          "metadata": {
            "needs_background": "light"
          }
        }
      ],
      "source": [
        "plt.plot(p_array, p_inf_ER / p_inf_ER[0], 'o')"
      ]
    },
    {
      "cell_type": "code",
      "execution_count": 16,
      "id": "9aaf01e7",
      "metadata": {
        "id": "9aaf01e7",
        "outputId": "dddd4063-4997-4aa8-f65e-583589db9ec8",
        "colab": {
          "base_uri": "https://localhost:8080/"
        }
      },
      "outputs": [
        {
          "output_type": "stream",
          "name": "stderr",
          "text": [
            "<ipython-input-2-34a0648a2d1c>:3: RuntimeWarning: invalid value encountered in double_scalars\n",
            "  return (degrees ** 2).mean() / degrees.mean()\n"
          ]
        }
      ],
      "source": [
        "N = 10000\n",
        "mean_k = 4\n",
        "net = ig.Graph.Barabasi(N, 2)\n",
        "p_array = np.arange(0, 0.9, 0.05)\n",
        "\n",
        "p_inf_BA = np.zeros_like(p_array)\n",
        "for j, p in enumerate(p_array):\n",
        "    new_net = target_attack(net, p)\n",
        "    p_inf_BA[j] = P_inf(new_net)"
      ]
    },
    {
      "cell_type": "code",
      "execution_count": 17,
      "id": "e5f2a8e4",
      "metadata": {
        "id": "e5f2a8e4",
        "outputId": "fb52c3c1-e5c6-4ef1-a9a9-bd7181b55f87",
        "colab": {
          "base_uri": "https://localhost:8080/",
          "height": 283
        }
      },
      "outputs": [
        {
          "output_type": "execute_result",
          "data": {
            "text/plain": [
              "[<matplotlib.lines.Line2D at 0x7f3650ffe220>]"
            ]
          },
          "metadata": {},
          "execution_count": 17
        },
        {
          "output_type": "display_data",
          "data": {
            "text/plain": [
              "<Figure size 432x288 with 1 Axes>"
            ],
            "image/png": "[encoded data removed]"
          },
          "metadata": {
            "needs_background": "light"
          }
        }
      ],
      "source": [
        "plt.plot(p_array, p_inf_BA / p_inf_BA[0], 'o')"
      ]
    },
    {
      "cell_type": "markdown",
      "id": "689a9766",
      "metadata": {
        "id": "689a9766"
      },
      "source": [
        "Although the Barabási-Albert network is robust on random errors, it is easier to be destroied under target attack compared with Erdos Renyi network"
      ]
    },
    {
      "cell_type": "markdown",
      "id": "36c403fc",
      "metadata": {
        "id": "36c403fc"
      },
      "source": [
        "|Network | Random Failures (Real Network)| Random Failures (Randomized Network) | Attack(Real Network)|\n",
        "|---|---|---|---|\n",
        "|Internet|\t0.92|\t0.84|\t0.16|\n",
        "|WWW|\t0.88|\t0.85|\t0.12|\n",
        "|Power Grid|\t0.61|\t0.63|\t0.20|\n",
        "|Mobile Phone Calls|\t0.78|\t0.68|\t0.20|\n",
        "|Email|\t0.92|\t0.69|\t0.04|\n",
        "|Science Collaboration|\t0.92|\t0.88|\t0.27|\n",
        "|Actor Network|\t0.98|\t0.99|\t0.55|\n",
        "|Citation Network|\t0.96|\t0.95|\t0.76|\n",
        "|E. Coli Metabolism|\t0.96|\t0.90|\t0.49|\n",
        "|Protein Interactions|\t0.88|\t0.66|\t0.06|"
      ]
    },
    {
      "cell_type": "markdown",
      "id": "61fc8e06",
      "metadata": {
        "id": "61fc8e06"
      },
      "source": [
        "# Exercises"
      ]
    },
    {
      "cell_type": "markdown",
      "id": "6a6435e4",
      "metadata": {
        "id": "6a6435e4"
      },
      "source": [
        "1. The critical threshold for the random failure is \n",
        "$$f_c = 1 - \\frac{1}{\\frac{\\left< k^2 \\right>}{\\left< k \\right>} - 1}$$\n",
        "\n",
        "please prove that for a random network\n",
        "$$f_c^{ER} = 1 - \\frac{1}{\\left<k\\right>}$$"
      ]
    },
    {
      "cell_type": "markdown",
      "id": "24b8bf91",
      "metadata": {
        "id": "24b8bf91"
      },
      "source": []
    },
    {
      "cell_type": "markdown",
      "id": "fade38dd",
      "metadata": {
        "id": "fade38dd"
      },
      "source": [
        "2. Consider a network's degree distribution is a power-law distribution with an exponential cutoff:\n",
        "   $$f(x) \\propto x^{-\\gamma} e^{-\\beta x}$$\n",
        "calculate the critical threshold $f_c$"
      ]
    },
    {
      "cell_type": "markdown",
      "id": "63a0e2f1",
      "metadata": {
        "id": "63a0e2f1"
      },
      "source": []
    },
    {
      "cell_type": "markdown",
      "id": "13ac9c41",
      "metadata": {
        "id": "13ac9c41"
      },
      "source": [
        "3. Consider the real airport network, discuss the robustness and attack tolerance through percolation. Explain the results based on the degree distribution."
      ]
    },
    {
      "cell_type": "code",
      "execution_count": 5,
      "id": "773f0f16",
      "metadata": {
        "id": "773f0f16",
        "outputId": "46ae614a-e649-4e88-cf38-5100c4a9a681",
        "colab": {
          "base_uri": "https://localhost:8080/",
          "height": 488
        }
      },
      "outputs": [
        {
          "output_type": "execute_result",
          "data": {
            "text/plain": [
              "      airline airline_id source source_id dest dest_id codeshare  stops  \\\n",
              "0          2B        410    AER      2965  KZN    2990       NaN      0   \n",
              "1          2B        410    ASF      2966  KZN    2990       NaN      0   \n",
              "2          2B        410    ASF      2966  MRV    2962       NaN      0   \n",
              "3          2B        410    CEK      2968  KZN    2990       NaN      0   \n",
              "4          2B        410    CEK      2968  OVB    4078       NaN      0   \n",
              "...       ...        ...    ...       ...  ...     ...       ...    ...   \n",
              "67658      ZL       4178    WYA      6334  ADL    3341       NaN      0   \n",
              "67659      ZM      19016    DME      4029  FRU    2912       NaN      0   \n",
              "67660      ZM      19016    FRU      2912  DME    4029       NaN      0   \n",
              "67661      ZM      19016    FRU      2912  OSS    2913       NaN      0   \n",
              "67662      ZM      19016    OSS      2913  FRU    2912       NaN      0   \n",
              "\n",
              "      equipment  \n",
              "0           CR2  \n",
              "1           CR2  \n",
              "2           CR2  \n",
              "3           CR2  \n",
              "4           CR2  \n",
              "...         ...  \n",
              "67658       SF3  \n",
              "67659       734  \n",
              "67660       734  \n",
              "67661       734  \n",
              "67662       734  \n",
              "\n",
              "[67663 rows x 9 columns]"
            ],
            "text/html": [
              "\n",
              "  <div id=\"df-eed9bed3-057e-4044-ade0-ca6b5637b909\">\n",
              "    <div class=\"colab-df-container\">\n",
              "      <div>\n",
              "<style scoped>\n",
              "    .dataframe tbody tr th:only-of-type {\n",
              "        vertical-align: middle;\n",
              "    }\n",
              "\n",
              "    .dataframe tbody tr th {\n",
              "        vertical-align: top;\n",
              "    }\n",
              "\n",
              "    .dataframe thead th {\n",
              "        text-align: right;\n",
              "    }\n",
              "</style>\n",
              "<table border=\"1\" class=\"dataframe\">\n",
              "  <thead>\n",
              "    <tr style=\"text-align: right;\">\n",
              "      <th></th>\n",
              "      <th>airline</th>\n",
              "      <th>airline_id</th>\n",
              "      <th>source</th>\n",
              "      <th>source_id</th>\n",
              "      <th>dest</th>\n",
              "      <th>dest_id</th>\n",
              "      <th>codeshare</th>\n",
              "      <th>stops</th>\n",
              "      <th>equipment</th>\n",
              "    </tr>\n",
              "  </thead>\n",
              "  <tbody>\n",
              "    <tr>\n",
              "      <th>0</th>\n",
              "      <td>2B</td>\n",
              "      <td>410</td>\n",
              "      <td>AER</td>\n",
              "      <td>2965</td>\n",
              "      <td>KZN</td>\n",
              "      <td>2990</td>\n",
              "      <td>NaN</td>\n",
              "      <td>0</td>\n",
              "      <td>CR2</td>\n",
              "    </tr>\n",
              "    <tr>\n",
              "      <th>1</th>\n",
              "      <td>2B</td>\n",
              "      <td>410</td>\n",
              "      <td>ASF</td>\n",
              "      <td>2966</td>\n",
              "      <td>KZN</td>\n",
              "      <td>2990</td>\n",
              "      <td>NaN</td>\n",
              "      <td>0</td>\n",
              "      <td>CR2</td>\n",
              "    </tr>\n",
              "    <tr>\n",
              "      <th>2</th>\n",
              "      <td>2B</td>\n",
              "      <td>410</td>\n",
              "      <td>ASF</td>\n",
              "      <td>2966</td>\n",
              "      <td>MRV</td>\n",
              "      <td>2962</td>\n",
              "      <td>NaN</td>\n",
              "      <td>0</td>\n",
              "      <td>CR2</td>\n",
              "    </tr>\n",
              "    <tr>\n",
              "      <th>3</th>\n",
              "      <td>2B</td>\n",
              "      <td>410</td>\n",
              "      <td>CEK</td>\n",
              "      <td>2968</td>\n",
              "      <td>KZN</td>\n",
              "      <td>2990</td>\n",
              "      <td>NaN</td>\n",
              "      <td>0</td>\n",
              "      <td>CR2</td>\n",
              "    </tr>\n",
              "    <tr>\n",
              "      <th>4</th>\n",
              "      <td>2B</td>\n",
              "      <td>410</td>\n",
              "      <td>CEK</td>\n",
              "      <td>2968</td>\n",
              "      <td>OVB</td>\n",
              "      <td>4078</td>\n",
              "      <td>NaN</td>\n",
              "      <td>0</td>\n",
              "      <td>CR2</td>\n",
              "    </tr>\n",
              "    <tr>\n",
              "      <th>...</th>\n",
              "      <td>...</td>\n",
              "      <td>...</td>\n",
              "      <td>...</td>\n",
              "      <td>...</td>\n",
              "      <td>...</td>\n",
              "      <td>...</td>\n",
              "      <td>...</td>\n",
              "      <td>...</td>\n",
              "      <td>...</td>\n",
              "    </tr>\n",
              "    <tr>\n",
              "      <th>67658</th>\n",
              "      <td>ZL</td>\n",
              "      <td>4178</td>\n",
              "      <td>WYA</td>\n",
              "      <td>6334</td>\n",
              "      <td>ADL</td>\n",
              "      <td>3341</td>\n",
              "      <td>NaN</td>\n",
              "      <td>0</td>\n",
              "      <td>SF3</td>\n",
              "    </tr>\n",
              "    <tr>\n",
              "      <th>67659</th>\n",
              "      <td>ZM</td>\n",
              "      <td>19016</td>\n",
              "      <td>DME</td>\n",
              "      <td>4029</td>\n",
              "      <td>FRU</td>\n",
              "      <td>2912</td>\n",
              "      <td>NaN</td>\n",
              "      <td>0</td>\n",
              "      <td>734</td>\n",
              "    </tr>\n",
              "    <tr>\n",
              "      <th>67660</th>\n",
              "      <td>ZM</td>\n",
              "      <td>19016</td>\n",
              "      <td>FRU</td>\n",
              "      <td>2912</td>\n",
              "      <td>DME</td>\n",
              "      <td>4029</td>\n",
              "      <td>NaN</td>\n",
              "      <td>0</td>\n",
              "      <td>734</td>\n",
              "    </tr>\n",
              "    <tr>\n",
              "      <th>67661</th>\n",
              "      <td>ZM</td>\n",
              "      <td>19016</td>\n",
              "      <td>FRU</td>\n",
              "      <td>2912</td>\n",
              "      <td>OSS</td>\n",
              "      <td>2913</td>\n",
              "      <td>NaN</td>\n",
              "      <td>0</td>\n",
              "      <td>734</td>\n",
              "    </tr>\n",
              "    <tr>\n",
              "      <th>67662</th>\n",
              "      <td>ZM</td>\n",
              "      <td>19016</td>\n",
              "      <td>OSS</td>\n",
              "      <td>2913</td>\n",
              "      <td>FRU</td>\n",
              "      <td>2912</td>\n",
              "      <td>NaN</td>\n",
              "      <td>0</td>\n",
              "      <td>734</td>\n",
              "    </tr>\n",
              "  </tbody>\n",
              "</table>\n",
              "<p>67663 rows × 9 columns</p>\n",
              "</div>\n",
              "      <button class=\"colab-df-convert\" onclick=\"convertToInteractive('df-eed9bed3-057e-4044-ade0-ca6b5637b909')\"\n",
              "              title=\"Convert this dataframe to an interactive table.\"\n",
              "              style=\"display:none;\">\n",
              "        \n",
              "  <svg xmlns=\"http://www.w3.org/2000/svg\" height=\"24px\"viewBox=\"0 0 24 24\"\n",
              "       width=\"24px\">\n",
              "    <path d=\"M0 0h24v24H0V0z\" fill=\"none\"/>\n",
              "    <path d=\"M18.56 5.44l.94 2.06.94-2.06 2.06-.94-2.06-.94-.94-2.06-.94 2.06-2.06.94zm-11 1L8.5 8.5l.94-2.06 2.06-.94-2.06-.94L8.5 2.5l-.94 2.06-2.06.94zm10 10l.94 2.06.94-2.06 2.06-.94-2.06-.94-.94-2.06-.94 2.06-2.06.94z\"/><path d=\"M17.41 7.96l-1.37-1.37c-.4-.4-.92-.59-1.43-.59-.52 0-1.04.2-1.43.59L10.3 9.45l-7.72 7.72c-.78.78-.78 2.05 0 2.83L4 21.41c.39.39.9.59 1.41.59.51 0 1.02-.2 1.41-.59l7.78-7.78 2.81-2.81c.8-.78.8-2.07 0-2.86zM5.41 20L4 18.59l7.72-7.72 1.47 1.35L5.41 20z\"/>\n",
              "  </svg>\n",
              "      </button>\n",
              "      \n",
              "  <style>\n",
              "    .colab-df-container {\n",
              "      display:flex;\n",
              "      flex-wrap:wrap;\n",
              "      gap: 12px;\n",
              "    }\n",
              "\n",
              "    .colab-df-convert {\n",
              "      background-color: #E8F0FE;\n",
              "      border: none;\n",
              "      border-radius: 50%;\n",
              "      cursor: pointer;\n",
              "      display: none;\n",
              "      fill: #1967D2;\n",
              "      height: 32px;\n",
              "      padding: 0 0 0 0;\n",
              "      width: 32px;\n",
              "    }\n",
              "\n",
              "    .colab-df-convert:hover {\n",
              "      background-color: #E2EBFA;\n",
              "      box-shadow: 0px 1px 2px rgba(60, 64, 67, 0.3), 0px 1px 3px 1px rgba(60, 64, 67, 0.15);\n",
              "      fill: #174EA6;\n",
              "    }\n",
              "\n",
              "    [theme=dark] .colab-df-convert {\n",
              "      background-color: #3B4455;\n",
              "      fill: #D2E3FC;\n",
              "    }\n",
              "\n",
              "    [theme=dark] .colab-df-convert:hover {\n",
              "      background-color: #434B5C;\n",
              "      box-shadow: 0px 1px 3px 1px rgba(0, 0, 0, 0.15);\n",
              "      filter: drop-shadow(0px 1px 2px rgba(0, 0, 0, 0.3));\n",
              "      fill: #FFFFFF;\n",
              "    }\n",
              "  </style>\n",
              "\n",
              "      <script>\n",
              "        const buttonEl =\n",
              "          document.querySelector('#df-eed9bed3-057e-4044-ade0-ca6b5637b909 button.colab-df-convert');\n",
              "        buttonEl.style.display =\n",
              "          google.colab.kernel.accessAllowed ? 'block' : 'none';\n",
              "\n",
              "        async function convertToInteractive(key) {\n",
              "          const element = document.querySelector('#df-eed9bed3-057e-4044-ade0-ca6b5637b909');\n",
              "          const dataTable =\n",
              "            await google.colab.kernel.invokeFunction('convertToInteractive',\n",
              "                                                     [key], {});\n",
              "          if (!dataTable) return;\n",
              "\n",
              "          const docLinkHtml = 'Like what you see? Visit the ' +\n",
              "            '<a target=\"_blank\" href=https://colab.research.google.com/notebooks/data_table.ipynb>data table notebook</a>'\n",
              "            + ' to learn more about interactive tables.';\n",
              "          element.innerHTML = '';\n",
              "          dataTable['output_type'] = 'display_data';\n",
              "          await google.colab.output.renderOutput(dataTable, element);\n",
              "          const docLink = document.createElement('div');\n",
              "          docLink.innerHTML = docLinkHtml;\n",
              "          element.appendChild(docLink);\n",
              "        }\n",
              "      </script>\n",
              "    </div>\n",
              "  </div>\n",
              "  "
            ]
          },
          "metadata": {},
          "execution_count": 5
        }
      ],
      "source": [
        "import pandas as pd\n",
        "names = ('airline,airline_id,'\n",
        "         'source,source_id,'\n",
        "         'dest,dest_id,'\n",
        "         'codeshare,stops,equipment').split(',')\n",
        "routes = pd.read_csv(\n",
        "    'https://github.com/ipython-books/'\n",
        "    'cookbook-2nd-data/blob/master/'\n",
        "    'routes.dat?raw=true',\n",
        "    names=names,\n",
        "    header=None)\n",
        "routes"
      ]
    },
    {
      "cell_type": "code",
      "source": [
        "G_airtraffic = ig.Graph.DataFrame(routes.loc[:, ['source', 'dest']], use_vids=False)\n"
      ],
      "metadata": {
        "id": "4jRwIzE7ZJwm"
      },
      "id": "4jRwIzE7ZJwm",
      "execution_count": 9,
      "outputs": []
    },
    {
      "cell_type": "code",
      "source": [],
      "metadata": {
        "id": "AXJehtRiYxtl"
      },
      "id": "AXJehtRiYxtl",
      "execution_count": null,
      "outputs": []
    }
  ],
  "metadata": {
    "kernelspec": {
      "display_name": "Python 3 (ipykernel)",
      "language": "python",
      "name": "python3"
    },
    "language_info": {
      "codemirror_mode": {
        "name": "ipython",
        "version": 3
      },
      "file_extension": ".py",
      "mimetype": "text/x-python",
      "name": "python",
      "nbconvert_exporter": "python",
      "pygments_lexer": "ipython3",
      "version": "3.8.5"
    },
    "colab": {
      "provenance": [],
      "include_colab_link": true
    }
  },
  "nbformat": 4,
  "nbformat_minor": 5
}